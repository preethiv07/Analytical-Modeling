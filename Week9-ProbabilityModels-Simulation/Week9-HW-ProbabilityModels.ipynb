{
 "cells": [
  {
   "cell_type": "markdown",
   "metadata": {},
   "source": [
    "# Question 12.1\n",
    "\n",
    "Describe a situation or problem from your job, everyday life, current events, etc.,\n",
    "for which a design of experiments approach would be appropriate.\n"
   ]
  },
  {
   "cell_type": "markdown",
   "metadata": {},
   "source": [
    "ABC Corp, a starter general merchandise retailer stores selling products through its stores and digital channels is interested\n",
    "to decide if the customers are more excited with ‘free gifts’ or ‘discounts’ to establish its strategic plan. \n",
    "As a starter corporation, it has never leveraged a popular personality for advertising or offered a free gift \n",
    "to make a data driven decision. In this scenario, the design of experiments will be best suited for the \n",
    "Retail store to ‘ask the customer’ through design of experiments to obtain answer \n",
    "from the best judges, the customer for their question of interest.\n",
    "\n",
    "A/B Approach:\n",
    "A/B tests can be used to decide between two options ‘free gifts’ or ‘discounts’ using digital advertisement \n",
    "for two set of customers, both being representative set of the overall customers of the retail store. \n",
    "Response can be collected and tracked for each of the approach and through hypothesis testing,\n",
    "we can understand the best strategy to move forward.\n",
    "\n",
    "Factorial Approach:\n",
    "Alternatively, as we extend additional options to understand the impact of interest through more than two options, \n",
    "say leveraging a popular personality, discount, and free gifts comes into play, \n",
    "we can take advantage of Full factorial or balanced fractional factorial approach. \n",
    "In this scenario, the combination though mostly independent of each other could include Interaction terms \n",
    "of ‘free gifts’ + ’discounts of certain Top selling products’ to collect the combination that captures more interest\n"
   ]
  },
  {
   "cell_type": "markdown",
   "metadata": {},
   "source": [
    "# Question 12.2\n",
    "\n",
    "To determine the value of 10 different yes/no features to the market value of a house \n",
    "(large yard, solar roof, etc.), a real estate agent plans to survey 50 potential buyers, \n",
    "showing a fictitious house with different combinations of features.  \n",
    "To reduce the survey size, the agent wants to show just 16 fictitious houses. \n",
    "Use R’s FrF2 function (in the FrF2 package) to find a fractional factorial design for this experiment: \n",
    "what set of features should each of the 16 fictitious houses have?  \n",
    "Note: the output of FrF2 is “1” (include) or  “-1” (don’t include) for each feature.\n"
   ]
  },
  {
   "cell_type": "markdown",
   "metadata": {},
   "source": [
    "# Approach"
   ]
  },
  {
   "cell_type": "markdown",
   "metadata": {},
   "source": [
    "1) set up Fractional factorial for 16 houses as number of runs and 10 yes/no as factor of the house to obtain \n",
    "    2 level fractional factorial design (-1 or +1) \n",
    "2) for readability, I have tagged the features as features of the house (large yard, solar roof, etc.) \n",
    "as noted in the requirement and the response of the impact of the factors as yes/no\n",
    "3) Though readibility is better wuith Approach#2, the summary of the model was possible only with binary output\n",
    "Using d as binary to intepret the combinations (as yes/no doesnt provide combinations)\n",
    "4) Summary  shows which main effects are aliased with two factor interactions (2fi). \n",
    "5) resolution III design was  identified from generators\n",
    "$generators\n",
    "#[1] E=AB   F=AC   G=BC   H=AD   J=BCD  K=ABCD\n",
    "#As this have 3 factors\n",
    "#This design Identities ABE =ACF=GBC=HAD=JBCD=KBCD\n",
    "\n",
    "#For usage of less factors, we can choose one of  ABE =ACF=GBC=HAD\n",
    "#Combination include\n",
    "\n",
    "#A=Large.Yard;B=Pool;E=X3.Car.Garage\n",
    "#A=Large.Yard;C=Solar.Roof;F=Walk.In.Closet\n",
    "#G=Basement;B=Pool; C=Solar.Roof\n",
    "#H=Backyard.Deck;A=Large.Yard;D=Office.Room "
   ]
  },
  {
   "cell_type": "code",
   "execution_count": 1,
   "metadata": {
    "collapsed": true
   },
   "outputs": [],
   "source": [
    "# Clear environment\n",
    "\n",
    "rm(list = ls())"
   ]
  },
  {
   "cell_type": "code",
   "execution_count": 2,
   "metadata": {
    "collapsed": false
   },
   "outputs": [
    {
     "name": "stderr",
     "output_type": "stream",
     "text": [
      "Loading required package: DoE.base\n",
      "\n",
      "Loading required package: grid\n",
      "\n",
      "Loading required package: conf.design\n",
      "\n",
      "Registered S3 method overwritten by 'DoE.base':\n",
      "  method           from       \n",
      "  factorize.factor conf.design\n",
      "\n",
      "\n",
      "Attaching package: 'DoE.base'\n",
      "\n",
      "\n",
      "The following objects are masked from 'package:stats':\n",
      "\n",
      "    aov, lm\n",
      "\n",
      "\n",
      "The following object is masked from 'package:graphics':\n",
      "\n",
      "    plot.design\n",
      "\n",
      "\n",
      "The following object is masked from 'package:base':\n",
      "\n",
      "    lengths\n",
      "\n",
      "\n",
      "\n",
      "Attaching package: 'dplyr'\n",
      "\n",
      "\n",
      "The following objects are masked from 'package:stats':\n",
      "\n",
      "    filter, lag\n",
      "\n",
      "\n",
      "The following objects are masked from 'package:base':\n",
      "\n",
      "    intersect, setdiff, setequal, union\n",
      "\n",
      "\n"
     ]
    }
   ],
   "source": [
    "# Call the library 'FrF2'\n",
    "#install.packages(\"FrF2\")\n",
    "library(\"FrF2\")\n",
    "library(tidyr) # to use tibble function\n",
    "library(tibble) #use rowname to column\n",
    "library(\"dplyr\")"
   ]
  },
  {
   "cell_type": "code",
   "execution_count": 4,
   "metadata": {
    "collapsed": true
   },
   "outputs": [],
   "source": [
    "# Set seed = 1 to produce reproducible result\n",
    "\n",
    "set.seed(1)"
   ]
  },
  {
   "cell_type": "code",
   "execution_count": 7,
   "metadata": {
    "collapsed": false
   },
   "outputs": [
    {
     "data": {
      "text/html": [
       "<table class=\"dataframe\">\n",
       "<caption>A design: 16 × 10</caption>\n",
       "<thead>\n",
       "\t<tr><th></th><th scope=col>A</th><th scope=col>B</th><th scope=col>C</th><th scope=col>D</th><th scope=col>E</th><th scope=col>F</th><th scope=col>G</th><th scope=col>H</th><th scope=col>J</th><th scope=col>K</th></tr>\n",
       "\t<tr><th></th><th scope=col>&lt;fct&gt;</th><th scope=col>&lt;fct&gt;</th><th scope=col>&lt;fct&gt;</th><th scope=col>&lt;fct&gt;</th><th scope=col>&lt;fct&gt;</th><th scope=col>&lt;fct&gt;</th><th scope=col>&lt;fct&gt;</th><th scope=col>&lt;fct&gt;</th><th scope=col>&lt;fct&gt;</th><th scope=col>&lt;fct&gt;</th></tr>\n",
       "</thead>\n",
       "<tbody>\n",
       "\t<tr><th scope=row>1</th><td>-1</td><td>1 </td><td>-1</td><td>-1</td><td>-1</td><td>1 </td><td>-1</td><td>1 </td><td>1 </td><td>-1</td></tr>\n",
       "\t<tr><th scope=row>2</th><td>1 </td><td>-1</td><td>1 </td><td>-1</td><td>-1</td><td>1 </td><td>-1</td><td>-1</td><td>1 </td><td>1 </td></tr>\n",
       "\t<tr><th scope=row>3</th><td>1 </td><td>-1</td><td>-1</td><td>1 </td><td>-1</td><td>-1</td><td>1 </td><td>1 </td><td>1 </td><td>1 </td></tr>\n",
       "\t<tr><th scope=row>4</th><td>1 </td><td>-1</td><td>1 </td><td>1 </td><td>-1</td><td>1 </td><td>-1</td><td>1 </td><td>-1</td><td>-1</td></tr>\n",
       "\t<tr><th scope=row>5</th><td>-1</td><td>1 </td><td>1 </td><td>1 </td><td>-1</td><td>-1</td><td>1 </td><td>-1</td><td>1 </td><td>-1</td></tr>\n",
       "\t<tr><th scope=row>6</th><td>1 </td><td>1 </td><td>-1</td><td>-1</td><td>1 </td><td>-1</td><td>-1</td><td>-1</td><td>1 </td><td>1 </td></tr>\n",
       "\t<tr><th scope=row>7</th><td>-1</td><td>1 </td><td>-1</td><td>1 </td><td>-1</td><td>1 </td><td>-1</td><td>-1</td><td>-1</td><td>1 </td></tr>\n",
       "\t<tr><th scope=row>8</th><td>-1</td><td>-1</td><td>-1</td><td>1 </td><td>1 </td><td>1 </td><td>1 </td><td>-1</td><td>1 </td><td>-1</td></tr>\n",
       "\t<tr><th scope=row>9</th><td>-1</td><td>1 </td><td>1 </td><td>-1</td><td>-1</td><td>-1</td><td>1 </td><td>1 </td><td>-1</td><td>1 </td></tr>\n",
       "\t<tr><th scope=row>10</th><td>1 </td><td>1 </td><td>-1</td><td>1 </td><td>1 </td><td>-1</td><td>-1</td><td>1 </td><td>-1</td><td>-1</td></tr>\n",
       "\t<tr><th scope=row>11</th><td>-1</td><td>-1</td><td>-1</td><td>-1</td><td>1 </td><td>1 </td><td>1 </td><td>1 </td><td>-1</td><td>1 </td></tr>\n",
       "\t<tr><th scope=row>12</th><td>-1</td><td>-1</td><td>1 </td><td>1 </td><td>1 </td><td>-1</td><td>-1</td><td>-1</td><td>-1</td><td>1 </td></tr>\n",
       "\t<tr><th scope=row>13</th><td>1 </td><td>1 </td><td>1 </td><td>-1</td><td>1 </td><td>1 </td><td>1 </td><td>-1</td><td>-1</td><td>-1</td></tr>\n",
       "\t<tr><th scope=row>14</th><td>1 </td><td>1 </td><td>1 </td><td>1 </td><td>1 </td><td>1 </td><td>1 </td><td>1 </td><td>1 </td><td>1 </td></tr>\n",
       "\t<tr><th scope=row>15</th><td>1 </td><td>-1</td><td>-1</td><td>-1</td><td>-1</td><td>-1</td><td>1 </td><td>-1</td><td>-1</td><td>-1</td></tr>\n",
       "\t<tr><th scope=row>16</th><td>-1</td><td>-1</td><td>1 </td><td>-1</td><td>1 </td><td>-1</td><td>-1</td><td>1 </td><td>1 </td><td>-1</td></tr>\n",
       "</tbody>\n",
       "</table>\n"
      ],
      "text/latex": [
       "A design: 16 × 10\n",
       "\\begin{tabular}{r|llllllllll}\n",
       "  & A & B & C & D & E & F & G & H & J & K\\\\\n",
       "  & <fct> & <fct> & <fct> & <fct> & <fct> & <fct> & <fct> & <fct> & <fct> & <fct>\\\\\n",
       "\\hline\n",
       "\t1 & -1 & 1  & -1 & -1 & -1 & 1  & -1 & 1  & 1  & -1\\\\\n",
       "\t2 & 1  & -1 & 1  & -1 & -1 & 1  & -1 & -1 & 1  & 1 \\\\\n",
       "\t3 & 1  & -1 & -1 & 1  & -1 & -1 & 1  & 1  & 1  & 1 \\\\\n",
       "\t4 & 1  & -1 & 1  & 1  & -1 & 1  & -1 & 1  & -1 & -1\\\\\n",
       "\t5 & -1 & 1  & 1  & 1  & -1 & -1 & 1  & -1 & 1  & -1\\\\\n",
       "\t6 & 1  & 1  & -1 & -1 & 1  & -1 & -1 & -1 & 1  & 1 \\\\\n",
       "\t7 & -1 & 1  & -1 & 1  & -1 & 1  & -1 & -1 & -1 & 1 \\\\\n",
       "\t8 & -1 & -1 & -1 & 1  & 1  & 1  & 1  & -1 & 1  & -1\\\\\n",
       "\t9 & -1 & 1  & 1  & -1 & -1 & -1 & 1  & 1  & -1 & 1 \\\\\n",
       "\t10 & 1  & 1  & -1 & 1  & 1  & -1 & -1 & 1  & -1 & -1\\\\\n",
       "\t11 & -1 & -1 & -1 & -1 & 1  & 1  & 1  & 1  & -1 & 1 \\\\\n",
       "\t12 & -1 & -1 & 1  & 1  & 1  & -1 & -1 & -1 & -1 & 1 \\\\\n",
       "\t13 & 1  & 1  & 1  & -1 & 1  & 1  & 1  & -1 & -1 & -1\\\\\n",
       "\t14 & 1  & 1  & 1  & 1  & 1  & 1  & 1  & 1  & 1  & 1 \\\\\n",
       "\t15 & 1  & -1 & -1 & -1 & -1 & -1 & 1  & -1 & -1 & -1\\\\\n",
       "\t16 & -1 & -1 & 1  & -1 & 1  & -1 & -1 & 1  & 1  & -1\\\\\n",
       "\\end{tabular}\n"
      ],
      "text/markdown": [
       "\n",
       "A design: 16 × 10\n",
       "\n",
       "| <!--/--> | A &lt;fct&gt; | B &lt;fct&gt; | C &lt;fct&gt; | D &lt;fct&gt; | E &lt;fct&gt; | F &lt;fct&gt; | G &lt;fct&gt; | H &lt;fct&gt; | J &lt;fct&gt; | K &lt;fct&gt; |\n",
       "|---|---|---|---|---|---|---|---|---|---|---|\n",
       "| 1 | -1 | 1  | -1 | -1 | -1 | 1  | -1 | 1  | 1  | -1 |\n",
       "| 2 | 1  | -1 | 1  | -1 | -1 | 1  | -1 | -1 | 1  | 1  |\n",
       "| 3 | 1  | -1 | -1 | 1  | -1 | -1 | 1  | 1  | 1  | 1  |\n",
       "| 4 | 1  | -1 | 1  | 1  | -1 | 1  | -1 | 1  | -1 | -1 |\n",
       "| 5 | -1 | 1  | 1  | 1  | -1 | -1 | 1  | -1 | 1  | -1 |\n",
       "| 6 | 1  | 1  | -1 | -1 | 1  | -1 | -1 | -1 | 1  | 1  |\n",
       "| 7 | -1 | 1  | -1 | 1  | -1 | 1  | -1 | -1 | -1 | 1  |\n",
       "| 8 | -1 | -1 | -1 | 1  | 1  | 1  | 1  | -1 | 1  | -1 |\n",
       "| 9 | -1 | 1  | 1  | -1 | -1 | -1 | 1  | 1  | -1 | 1  |\n",
       "| 10 | 1  | 1  | -1 | 1  | 1  | -1 | -1 | 1  | -1 | -1 |\n",
       "| 11 | -1 | -1 | -1 | -1 | 1  | 1  | 1  | 1  | -1 | 1  |\n",
       "| 12 | -1 | -1 | 1  | 1  | 1  | -1 | -1 | -1 | -1 | 1  |\n",
       "| 13 | 1  | 1  | 1  | -1 | 1  | 1  | 1  | -1 | -1 | -1 |\n",
       "| 14 | 1  | 1  | 1  | 1  | 1  | 1  | 1  | 1  | 1  | 1  |\n",
       "| 15 | 1  | -1 | -1 | -1 | -1 | -1 | 1  | -1 | -1 | -1 |\n",
       "| 16 | -1 | -1 | 1  | -1 | 1  | -1 | -1 | 1  | 1  | -1 |\n",
       "\n"
      ],
      "text/plain": [
       "   A  B  C  D  E  F  G  H  J  K \n",
       "1  -1 1  -1 -1 -1 1  -1 1  1  -1\n",
       "2  1  -1 1  -1 -1 1  -1 -1 1  1 \n",
       "3  1  -1 -1 1  -1 -1 1  1  1  1 \n",
       "4  1  -1 1  1  -1 1  -1 1  -1 -1\n",
       "5  -1 1  1  1  -1 -1 1  -1 1  -1\n",
       "6  1  1  -1 -1 1  -1 -1 -1 1  1 \n",
       "7  -1 1  -1 1  -1 1  -1 -1 -1 1 \n",
       "8  -1 -1 -1 1  1  1  1  -1 1  -1\n",
       "9  -1 1  1  -1 -1 -1 1  1  -1 1 \n",
       "10 1  1  -1 1  1  -1 -1 1  -1 -1\n",
       "11 -1 -1 -1 -1 1  1  1  1  -1 1 \n",
       "12 -1 -1 1  1  1  -1 -1 -1 -1 1 \n",
       "13 1  1  1  -1 1  1  1  -1 -1 -1\n",
       "14 1  1  1  1  1  1  1  1  1  1 \n",
       "15 1  -1 -1 -1 -1 -1 1  -1 -1 -1\n",
       "16 -1 -1 1  -1 1  -1 -1 1  1  -1"
      ]
     },
     "metadata": {},
     "output_type": "display_data"
    }
   ],
   "source": [
    "#Information\n",
    "# 16 houses , 10 yes/no factor, 2 level fractional factorial design (-1 or +1)\n",
    "Fact<-FrF2(nruns = 16,nfactors = 10)\n",
    "Fact"
   ]
  },
  {
   "cell_type": "code",
   "execution_count": 51,
   "metadata": {
    "collapsed": false
   },
   "outputs": [
    {
     "data": {
      "text/html": [
       "<table class=\"dataframe\">\n",
       "<caption>A tibble: 16 × 10</caption>\n",
       "<thead>\n",
       "\t<tr><th scope=col>Large.Yard</th><th scope=col>Pool</th><th scope=col>Solar.Roof</th><th scope=col>Office.Room</th><th scope=col>X3.Car.Garage</th><th scope=col>Walk.In.Closet</th><th scope=col>Basement</th><th scope=col>Backyard.Deck</th><th scope=col>Modular.Kitchen</th><th scope=col>Sunroom</th></tr>\n",
       "\t<tr><th scope=col>&lt;fct&gt;</th><th scope=col>&lt;fct&gt;</th><th scope=col>&lt;fct&gt;</th><th scope=col>&lt;fct&gt;</th><th scope=col>&lt;fct&gt;</th><th scope=col>&lt;fct&gt;</th><th scope=col>&lt;fct&gt;</th><th scope=col>&lt;fct&gt;</th><th scope=col>&lt;fct&gt;</th><th scope=col>&lt;fct&gt;</th></tr>\n",
       "</thead>\n",
       "<tbody>\n",
       "\t<tr><td>Yes</td><td>Yes</td><td>Yes</td><td>Yes</td><td>No </td><td>No </td><td>No </td><td>No </td><td>Yes</td><td>No </td></tr>\n",
       "\t<tr><td>No </td><td>Yes</td><td>Yes</td><td>Yes</td><td>Yes</td><td>Yes</td><td>No </td><td>Yes</td><td>Yes</td><td>Yes</td></tr>\n",
       "\t<tr><td>Yes</td><td>No </td><td>Yes</td><td>Yes</td><td>Yes</td><td>No </td><td>Yes</td><td>No </td><td>No </td><td>Yes</td></tr>\n",
       "\t<tr><td>No </td><td>No </td><td>Yes</td><td>Yes</td><td>No </td><td>Yes</td><td>Yes</td><td>Yes</td><td>No </td><td>No </td></tr>\n",
       "\t<tr><td>Yes</td><td>Yes</td><td>No </td><td>Yes</td><td>No </td><td>Yes</td><td>Yes</td><td>No </td><td>No </td><td>Yes</td></tr>\n",
       "\t<tr><td>No </td><td>Yes</td><td>No </td><td>Yes</td><td>Yes</td><td>No </td><td>Yes</td><td>Yes</td><td>No </td><td>No </td></tr>\n",
       "\t<tr><td>Yes</td><td>No </td><td>No </td><td>Yes</td><td>Yes</td><td>Yes</td><td>No </td><td>No </td><td>Yes</td><td>No </td></tr>\n",
       "\t<tr><td>No </td><td>No </td><td>No </td><td>Yes</td><td>No </td><td>No </td><td>No </td><td>Yes</td><td>Yes</td><td>Yes</td></tr>\n",
       "\t<tr><td>Yes</td><td>Yes</td><td>Yes</td><td>No </td><td>No </td><td>No </td><td>No </td><td>Yes</td><td>No </td><td>Yes</td></tr>\n",
       "\t<tr><td>No </td><td>Yes</td><td>Yes</td><td>No </td><td>Yes</td><td>Yes</td><td>No </td><td>No </td><td>No </td><td>No </td></tr>\n",
       "\t<tr><td>Yes</td><td>No </td><td>Yes</td><td>No </td><td>Yes</td><td>No </td><td>Yes</td><td>Yes</td><td>Yes</td><td>No </td></tr>\n",
       "\t<tr><td>No </td><td>No </td><td>Yes</td><td>No </td><td>No </td><td>Yes</td><td>Yes</td><td>No </td><td>Yes</td><td>Yes</td></tr>\n",
       "\t<tr><td>Yes</td><td>Yes</td><td>No </td><td>No </td><td>No </td><td>Yes</td><td>Yes</td><td>Yes</td><td>Yes</td><td>No </td></tr>\n",
       "\t<tr><td>No </td><td>Yes</td><td>No </td><td>No </td><td>Yes</td><td>No </td><td>Yes</td><td>No </td><td>Yes</td><td>Yes</td></tr>\n",
       "\t<tr><td>Yes</td><td>No </td><td>No </td><td>No </td><td>Yes</td><td>Yes</td><td>No </td><td>Yes</td><td>No </td><td>Yes</td></tr>\n",
       "\t<tr><td>No </td><td>No </td><td>No </td><td>No </td><td>No </td><td>No </td><td>No </td><td>No </td><td>No </td><td>No </td></tr>\n",
       "</tbody>\n",
       "</table>\n"
      ],
      "text/latex": [
       "A tibble: 16 × 10\n",
       "\\begin{tabular}{llllllllll}\n",
       " Large.Yard & Pool & Solar.Roof & Office.Room & X3.Car.Garage & Walk.In.Closet & Basement & Backyard.Deck & Modular.Kitchen & Sunroom\\\\\n",
       " <fct> & <fct> & <fct> & <fct> & <fct> & <fct> & <fct> & <fct> & <fct> & <fct>\\\\\n",
       "\\hline\n",
       "\t Yes & Yes & Yes & Yes & No  & No  & No  & No  & Yes & No \\\\\n",
       "\t No  & Yes & Yes & Yes & Yes & Yes & No  & Yes & Yes & Yes\\\\\n",
       "\t Yes & No  & Yes & Yes & Yes & No  & Yes & No  & No  & Yes\\\\\n",
       "\t No  & No  & Yes & Yes & No  & Yes & Yes & Yes & No  & No \\\\\n",
       "\t Yes & Yes & No  & Yes & No  & Yes & Yes & No  & No  & Yes\\\\\n",
       "\t No  & Yes & No  & Yes & Yes & No  & Yes & Yes & No  & No \\\\\n",
       "\t Yes & No  & No  & Yes & Yes & Yes & No  & No  & Yes & No \\\\\n",
       "\t No  & No  & No  & Yes & No  & No  & No  & Yes & Yes & Yes\\\\\n",
       "\t Yes & Yes & Yes & No  & No  & No  & No  & Yes & No  & Yes\\\\\n",
       "\t No  & Yes & Yes & No  & Yes & Yes & No  & No  & No  & No \\\\\n",
       "\t Yes & No  & Yes & No  & Yes & No  & Yes & Yes & Yes & No \\\\\n",
       "\t No  & No  & Yes & No  & No  & Yes & Yes & No  & Yes & Yes\\\\\n",
       "\t Yes & Yes & No  & No  & No  & Yes & Yes & Yes & Yes & No \\\\\n",
       "\t No  & Yes & No  & No  & Yes & No  & Yes & No  & Yes & Yes\\\\\n",
       "\t Yes & No  & No  & No  & Yes & Yes & No  & Yes & No  & Yes\\\\\n",
       "\t No  & No  & No  & No  & No  & No  & No  & No  & No  & No \\\\\n",
       "\\end{tabular}\n"
      ],
      "text/markdown": [
       "\n",
       "A tibble: 16 × 10\n",
       "\n",
       "| Large.Yard &lt;fct&gt; | Pool &lt;fct&gt; | Solar.Roof &lt;fct&gt; | Office.Room &lt;fct&gt; | X3.Car.Garage &lt;fct&gt; | Walk.In.Closet &lt;fct&gt; | Basement &lt;fct&gt; | Backyard.Deck &lt;fct&gt; | Modular.Kitchen &lt;fct&gt; | Sunroom &lt;fct&gt; |\n",
       "|---|---|---|---|---|---|---|---|---|---|\n",
       "| Yes | Yes | Yes | Yes | No  | No  | No  | No  | Yes | No  |\n",
       "| No  | Yes | Yes | Yes | Yes | Yes | No  | Yes | Yes | Yes |\n",
       "| Yes | No  | Yes | Yes | Yes | No  | Yes | No  | No  | Yes |\n",
       "| No  | No  | Yes | Yes | No  | Yes | Yes | Yes | No  | No  |\n",
       "| Yes | Yes | No  | Yes | No  | Yes | Yes | No  | No  | Yes |\n",
       "| No  | Yes | No  | Yes | Yes | No  | Yes | Yes | No  | No  |\n",
       "| Yes | No  | No  | Yes | Yes | Yes | No  | No  | Yes | No  |\n",
       "| No  | No  | No  | Yes | No  | No  | No  | Yes | Yes | Yes |\n",
       "| Yes | Yes | Yes | No  | No  | No  | No  | Yes | No  | Yes |\n",
       "| No  | Yes | Yes | No  | Yes | Yes | No  | No  | No  | No  |\n",
       "| Yes | No  | Yes | No  | Yes | No  | Yes | Yes | Yes | No  |\n",
       "| No  | No  | Yes | No  | No  | Yes | Yes | No  | Yes | Yes |\n",
       "| Yes | Yes | No  | No  | No  | Yes | Yes | Yes | Yes | No  |\n",
       "| No  | Yes | No  | No  | Yes | No  | Yes | No  | Yes | Yes |\n",
       "| Yes | No  | No  | No  | Yes | Yes | No  | Yes | No  | Yes |\n",
       "| No  | No  | No  | No  | No  | No  | No  | No  | No  | No  |\n",
       "\n"
      ],
      "text/plain": [
       "   Large.Yard Pool Solar.Roof Office.Room X3.Car.Garage Walk.In.Closet Basement\n",
       "1  Yes        Yes  Yes        Yes         No            No             No      \n",
       "2  No         Yes  Yes        Yes         Yes           Yes            No      \n",
       "3  Yes        No   Yes        Yes         Yes           No             Yes     \n",
       "4  No         No   Yes        Yes         No            Yes            Yes     \n",
       "5  Yes        Yes  No         Yes         No            Yes            Yes     \n",
       "6  No         Yes  No         Yes         Yes           No             Yes     \n",
       "7  Yes        No   No         Yes         Yes           Yes            No      \n",
       "8  No         No   No         Yes         No            No             No      \n",
       "9  Yes        Yes  Yes        No          No            No             No      \n",
       "10 No         Yes  Yes        No          Yes           Yes            No      \n",
       "11 Yes        No   Yes        No          Yes           No             Yes     \n",
       "12 No         No   Yes        No          No            Yes            Yes     \n",
       "13 Yes        Yes  No         No          No            Yes            Yes     \n",
       "14 No         Yes  No         No          Yes           No             Yes     \n",
       "15 Yes        No   No         No          Yes           Yes            No      \n",
       "16 No         No   No         No          No            No             No      \n",
       "   Backyard.Deck Modular.Kitchen Sunroom\n",
       "1  No            Yes             No     \n",
       "2  Yes           Yes             Yes    \n",
       "3  No            No              Yes    \n",
       "4  Yes           No              No     \n",
       "5  No            No              Yes    \n",
       "6  Yes           No              No     \n",
       "7  No            Yes             No     \n",
       "8  Yes           Yes             Yes    \n",
       "9  Yes           No              Yes    \n",
       "10 No            No              No     \n",
       "11 Yes           Yes             No     \n",
       "12 No            Yes             Yes    \n",
       "13 Yes           Yes             No     \n",
       "14 No            Yes             Yes    \n",
       "15 Yes           No              Yes    \n",
       "16 No            No              No     "
      ]
     },
     "metadata": {},
     "output_type": "display_data"
    }
   ],
   "source": [
    "#choosing few features to better check the data\n",
    "#Changing -1 to \"no\" and +1 to \"yes\"\n",
    "(fracFact <- FrF2(\n",
    "  nruns = 16, nfactors =10, \n",
    "  factor.names = c(\n",
    "    'Large Yard', 'Pool', 'Solar Roof', 'Office Room', '3 Car Garage',\n",
    "    'Walk-In Closet', 'Basement', 'Backyard Deck', 'Modular Kitchen', 'Sunroom'\n",
    "    ),\n",
    "  default.levels = c('Yes', 'No'),\n",
    "    randomize = FALSE\n",
    "  ) %>% \n",
    "  as_tibble()\n",
    " )"
   ]
  },
  {
   "cell_type": "code",
   "execution_count": 52,
   "metadata": {
    "collapsed": false
   },
   "outputs": [
    {
     "data": {
      "text/html": [
       "<table class=\"dataframe\">\n",
       "<caption>A tibble: 16 × 11</caption>\n",
       "<thead>\n",
       "\t<tr><th scope=col>fracFact</th><th scope=col>Large.Yard</th><th scope=col>Pool</th><th scope=col>Solar.Roof</th><th scope=col>Office.Room</th><th scope=col>X3.Car.Garage</th><th scope=col>Walk.In.Closet</th><th scope=col>Basement</th><th scope=col>Backyard.Deck</th><th scope=col>Modular.Kitchen</th><th scope=col>Sunroom</th></tr>\n",
       "\t<tr><th scope=col>&lt;chr&gt;</th><th scope=col>&lt;fct&gt;</th><th scope=col>&lt;fct&gt;</th><th scope=col>&lt;fct&gt;</th><th scope=col>&lt;fct&gt;</th><th scope=col>&lt;fct&gt;</th><th scope=col>&lt;fct&gt;</th><th scope=col>&lt;fct&gt;</th><th scope=col>&lt;fct&gt;</th><th scope=col>&lt;fct&gt;</th><th scope=col>&lt;fct&gt;</th></tr>\n",
       "</thead>\n",
       "<tbody>\n",
       "\t<tr><td>1 </td><td>Yes</td><td>Yes</td><td>Yes</td><td>Yes</td><td>No </td><td>No </td><td>No </td><td>No </td><td>Yes</td><td>No </td></tr>\n",
       "\t<tr><td>2 </td><td>No </td><td>Yes</td><td>Yes</td><td>Yes</td><td>Yes</td><td>Yes</td><td>No </td><td>Yes</td><td>Yes</td><td>Yes</td></tr>\n",
       "\t<tr><td>3 </td><td>Yes</td><td>No </td><td>Yes</td><td>Yes</td><td>Yes</td><td>No </td><td>Yes</td><td>No </td><td>No </td><td>Yes</td></tr>\n",
       "\t<tr><td>4 </td><td>No </td><td>No </td><td>Yes</td><td>Yes</td><td>No </td><td>Yes</td><td>Yes</td><td>Yes</td><td>No </td><td>No </td></tr>\n",
       "\t<tr><td>5 </td><td>Yes</td><td>Yes</td><td>No </td><td>Yes</td><td>No </td><td>Yes</td><td>Yes</td><td>No </td><td>No </td><td>Yes</td></tr>\n",
       "\t<tr><td>6 </td><td>No </td><td>Yes</td><td>No </td><td>Yes</td><td>Yes</td><td>No </td><td>Yes</td><td>Yes</td><td>No </td><td>No </td></tr>\n",
       "\t<tr><td>7 </td><td>Yes</td><td>No </td><td>No </td><td>Yes</td><td>Yes</td><td>Yes</td><td>No </td><td>No </td><td>Yes</td><td>No </td></tr>\n",
       "\t<tr><td>8 </td><td>No </td><td>No </td><td>No </td><td>Yes</td><td>No </td><td>No </td><td>No </td><td>Yes</td><td>Yes</td><td>Yes</td></tr>\n",
       "\t<tr><td>9 </td><td>Yes</td><td>Yes</td><td>Yes</td><td>No </td><td>No </td><td>No </td><td>No </td><td>Yes</td><td>No </td><td>Yes</td></tr>\n",
       "\t<tr><td>10</td><td>No </td><td>Yes</td><td>Yes</td><td>No </td><td>Yes</td><td>Yes</td><td>No </td><td>No </td><td>No </td><td>No </td></tr>\n",
       "\t<tr><td>11</td><td>Yes</td><td>No </td><td>Yes</td><td>No </td><td>Yes</td><td>No </td><td>Yes</td><td>Yes</td><td>Yes</td><td>No </td></tr>\n",
       "\t<tr><td>12</td><td>No </td><td>No </td><td>Yes</td><td>No </td><td>No </td><td>Yes</td><td>Yes</td><td>No </td><td>Yes</td><td>Yes</td></tr>\n",
       "\t<tr><td>13</td><td>Yes</td><td>Yes</td><td>No </td><td>No </td><td>No </td><td>Yes</td><td>Yes</td><td>Yes</td><td>Yes</td><td>No </td></tr>\n",
       "\t<tr><td>14</td><td>No </td><td>Yes</td><td>No </td><td>No </td><td>Yes</td><td>No </td><td>Yes</td><td>No </td><td>Yes</td><td>Yes</td></tr>\n",
       "\t<tr><td>15</td><td>Yes</td><td>No </td><td>No </td><td>No </td><td>Yes</td><td>Yes</td><td>No </td><td>Yes</td><td>No </td><td>Yes</td></tr>\n",
       "\t<tr><td>16</td><td>No </td><td>No </td><td>No </td><td>No </td><td>No </td><td>No </td><td>No </td><td>No </td><td>No </td><td>No </td></tr>\n",
       "</tbody>\n",
       "</table>\n"
      ],
      "text/latex": [
       "A tibble: 16 × 11\n",
       "\\begin{tabular}{lllllllllll}\n",
       " fracFact & Large.Yard & Pool & Solar.Roof & Office.Room & X3.Car.Garage & Walk.In.Closet & Basement & Backyard.Deck & Modular.Kitchen & Sunroom\\\\\n",
       " <chr> & <fct> & <fct> & <fct> & <fct> & <fct> & <fct> & <fct> & <fct> & <fct> & <fct>\\\\\n",
       "\\hline\n",
       "\t 1  & Yes & Yes & Yes & Yes & No  & No  & No  & No  & Yes & No \\\\\n",
       "\t 2  & No  & Yes & Yes & Yes & Yes & Yes & No  & Yes & Yes & Yes\\\\\n",
       "\t 3  & Yes & No  & Yes & Yes & Yes & No  & Yes & No  & No  & Yes\\\\\n",
       "\t 4  & No  & No  & Yes & Yes & No  & Yes & Yes & Yes & No  & No \\\\\n",
       "\t 5  & Yes & Yes & No  & Yes & No  & Yes & Yes & No  & No  & Yes\\\\\n",
       "\t 6  & No  & Yes & No  & Yes & Yes & No  & Yes & Yes & No  & No \\\\\n",
       "\t 7  & Yes & No  & No  & Yes & Yes & Yes & No  & No  & Yes & No \\\\\n",
       "\t 8  & No  & No  & No  & Yes & No  & No  & No  & Yes & Yes & Yes\\\\\n",
       "\t 9  & Yes & Yes & Yes & No  & No  & No  & No  & Yes & No  & Yes\\\\\n",
       "\t 10 & No  & Yes & Yes & No  & Yes & Yes & No  & No  & No  & No \\\\\n",
       "\t 11 & Yes & No  & Yes & No  & Yes & No  & Yes & Yes & Yes & No \\\\\n",
       "\t 12 & No  & No  & Yes & No  & No  & Yes & Yes & No  & Yes & Yes\\\\\n",
       "\t 13 & Yes & Yes & No  & No  & No  & Yes & Yes & Yes & Yes & No \\\\\n",
       "\t 14 & No  & Yes & No  & No  & Yes & No  & Yes & No  & Yes & Yes\\\\\n",
       "\t 15 & Yes & No  & No  & No  & Yes & Yes & No  & Yes & No  & Yes\\\\\n",
       "\t 16 & No  & No  & No  & No  & No  & No  & No  & No  & No  & No \\\\\n",
       "\\end{tabular}\n"
      ],
      "text/markdown": [
       "\n",
       "A tibble: 16 × 11\n",
       "\n",
       "| fracFact &lt;chr&gt; | Large.Yard &lt;fct&gt; | Pool &lt;fct&gt; | Solar.Roof &lt;fct&gt; | Office.Room &lt;fct&gt; | X3.Car.Garage &lt;fct&gt; | Walk.In.Closet &lt;fct&gt; | Basement &lt;fct&gt; | Backyard.Deck &lt;fct&gt; | Modular.Kitchen &lt;fct&gt; | Sunroom &lt;fct&gt; |\n",
       "|---|---|---|---|---|---|---|---|---|---|---|\n",
       "| 1  | Yes | Yes | Yes | Yes | No  | No  | No  | No  | Yes | No  |\n",
       "| 2  | No  | Yes | Yes | Yes | Yes | Yes | No  | Yes | Yes | Yes |\n",
       "| 3  | Yes | No  | Yes | Yes | Yes | No  | Yes | No  | No  | Yes |\n",
       "| 4  | No  | No  | Yes | Yes | No  | Yes | Yes | Yes | No  | No  |\n",
       "| 5  | Yes | Yes | No  | Yes | No  | Yes | Yes | No  | No  | Yes |\n",
       "| 6  | No  | Yes | No  | Yes | Yes | No  | Yes | Yes | No  | No  |\n",
       "| 7  | Yes | No  | No  | Yes | Yes | Yes | No  | No  | Yes | No  |\n",
       "| 8  | No  | No  | No  | Yes | No  | No  | No  | Yes | Yes | Yes |\n",
       "| 9  | Yes | Yes | Yes | No  | No  | No  | No  | Yes | No  | Yes |\n",
       "| 10 | No  | Yes | Yes | No  | Yes | Yes | No  | No  | No  | No  |\n",
       "| 11 | Yes | No  | Yes | No  | Yes | No  | Yes | Yes | Yes | No  |\n",
       "| 12 | No  | No  | Yes | No  | No  | Yes | Yes | No  | Yes | Yes |\n",
       "| 13 | Yes | Yes | No  | No  | No  | Yes | Yes | Yes | Yes | No  |\n",
       "| 14 | No  | Yes | No  | No  | Yes | No  | Yes | No  | Yes | Yes |\n",
       "| 15 | Yes | No  | No  | No  | Yes | Yes | No  | Yes | No  | Yes |\n",
       "| 16 | No  | No  | No  | No  | No  | No  | No  | No  | No  | No  |\n",
       "\n"
      ],
      "text/plain": [
       "   fracFact Large.Yard Pool Solar.Roof Office.Room X3.Car.Garage Walk.In.Closet\n",
       "1  1        Yes        Yes  Yes        Yes         No            No            \n",
       "2  2        No         Yes  Yes        Yes         Yes           Yes           \n",
       "3  3        Yes        No   Yes        Yes         Yes           No            \n",
       "4  4        No         No   Yes        Yes         No            Yes           \n",
       "5  5        Yes        Yes  No         Yes         No            Yes           \n",
       "6  6        No         Yes  No         Yes         Yes           No            \n",
       "7  7        Yes        No   No         Yes         Yes           Yes           \n",
       "8  8        No         No   No         Yes         No            No            \n",
       "9  9        Yes        Yes  Yes        No          No            No            \n",
       "10 10       No         Yes  Yes        No          Yes           Yes           \n",
       "11 11       Yes        No   Yes        No          Yes           No            \n",
       "12 12       No         No   Yes        No          No            Yes           \n",
       "13 13       Yes        Yes  No         No          No            Yes           \n",
       "14 14       No         Yes  No         No          Yes           No            \n",
       "15 15       Yes        No   No         No          Yes           Yes           \n",
       "16 16       No         No   No         No          No            No            \n",
       "   Basement Backyard.Deck Modular.Kitchen Sunroom\n",
       "1  No       No            Yes             No     \n",
       "2  No       Yes           Yes             Yes    \n",
       "3  Yes      No            No              Yes    \n",
       "4  Yes      Yes           No              No     \n",
       "5  Yes      No            No              Yes    \n",
       "6  Yes      Yes           No              No     \n",
       "7  No       No            Yes             No     \n",
       "8  No       Yes           Yes             Yes    \n",
       "9  No       Yes           No              Yes    \n",
       "10 No       No            No              No     \n",
       "11 Yes      Yes           Yes             No     \n",
       "12 Yes      No            Yes             Yes    \n",
       "13 Yes      Yes           Yes             No     \n",
       "14 Yes      No            Yes             Yes    \n",
       "15 No       Yes           No              Yes    \n",
       "16 No       No            No              No     "
      ]
     },
     "metadata": {},
     "output_type": "display_data"
    }
   ],
   "source": [
    "#understanding the results\n",
    "data <- fracFact %>% rownames_to_column('fracFact')\n",
    "#column_to_rownames(var = \"Contas.Resultado\")\n",
    "data"
   ]
  },
  {
   "cell_type": "code",
   "execution_count": 50,
   "metadata": {
    "collapsed": false
   },
   "outputs": [
    {
     "data": {
      "text/html": [
       "<table class=\"dataframe\">\n",
       "<caption>A tibble: 2 × 2</caption>\n",
       "<thead>\n",
       "\t<tr><th scope=col>Large.Yard</th><th scope=col>n()</th></tr>\n",
       "\t<tr><th scope=col>&lt;fct&gt;</th><th scope=col>&lt;int&gt;</th></tr>\n",
       "</thead>\n",
       "<tbody>\n",
       "\t<tr><td>Yes</td><td>8</td></tr>\n",
       "\t<tr><td>No </td><td>8</td></tr>\n",
       "</tbody>\n",
       "</table>\n"
      ],
      "text/latex": [
       "A tibble: 2 × 2\n",
       "\\begin{tabular}{ll}\n",
       " Large.Yard & n()\\\\\n",
       " <fct> & <int>\\\\\n",
       "\\hline\n",
       "\t Yes & 8\\\\\n",
       "\t No  & 8\\\\\n",
       "\\end{tabular}\n"
      ],
      "text/markdown": [
       "\n",
       "A tibble: 2 × 2\n",
       "\n",
       "| Large.Yard &lt;fct&gt; | n() &lt;int&gt; |\n",
       "|---|---|\n",
       "| Yes | 8 |\n",
       "| No  | 8 |\n",
       "\n"
      ],
      "text/plain": [
       "  Large.Yard n()\n",
       "1 Yes        8  \n",
       "2 No         8  "
      ]
     },
     "metadata": {},
     "output_type": "display_data"
    }
   ],
   "source": [
    "fracFact %>% select(Large.Yard) %>%\n",
    "group_by(Large.Yard) %>%\n",
    "  summarize(n())"
   ]
  },
  {
   "cell_type": "markdown",
   "metadata": {},
   "source": [
    "my_range <- 1:10 \n",
    "#my_range\n",
    "for (i in 1) {\n",
    "fracFact %>% select(fracFact[1]) %>%\n",
    "group_by(fracFact[1]) %>%\n",
    "  summarize(n())\n",
    "}"
   ]
  },
  {
   "cell_type": "code",
   "execution_count": 59,
   "metadata": {
    "collapsed": false
   },
   "outputs": [
    {
     "name": "stdout",
     "output_type": "stream",
     "text": [
      "$legend\n",
      " [1] A=Large.Yard      B=Pool            C=Solar.Roof      D=Office.Room    \n",
      " [5] E=X3.Car.Garage   F=Walk.In.Closet  G=Basement        H=Backyard.Deck  \n",
      " [9] J=Modular.Kitchen K=Sunroom        \n",
      "\n",
      "$main\n",
      " [1] A=BE=CF=DH=JK B=AE=CG       C=AF=BG       D=AH=GJ       E=AB=FG      \n",
      " [6] F=AC=EG       G=BC=DJ=EF=HK H=AD=GK       J=AK=DG       K=AJ=GH      \n",
      "\n",
      "$fi2\n",
      "[1] AG=BF=CE=DK=HJ BD=CJ=EH=FK    BH=CK=DE=FJ    BJ=CD=EK=FH    BK=CH=DF=EJ   \n",
      "\n"
     ]
    }
   ],
   "source": [
    "#Using d as binary to intepret the combinations (as yes/no doesnt provide combinations)\n",
    "d <- FrF2(16,10, res3 = T, factor.names = c(\n",
    "    'Large Yard', 'Pool', 'Solar Roof', 'Office Room', '3 Car Garage',\n",
    "    'Walk-In Closet', 'Basement', 'Backyard Deck', 'Modular Kitchen', 'Sunroom'\n",
    "    ), randomize = FALSE)\n",
    "#print(d)\n",
    "aliasprint(d)"
   ]
  },
  {
   "cell_type": "code",
   "execution_count": 63,
   "metadata": {
    "collapsed": false
   },
   "outputs": [],
   "source": [
    "#Above shows which main effects are aliased withtwo factor interactions (2fi). \n",
    "#Considering the set of features from the main effects \n",
    "#ABE =ACF =ADH =AJK.."
   ]
  },
  {
   "cell_type": "code",
   "execution_count": 88,
   "metadata": {
    "collapsed": false
   },
   "outputs": [
    {
     "name": "stdout",
     "output_type": "stream",
     "text": [
      "Call:\n",
      "FrF2(16, 10, res3 = T, factor.names = c(\"Large Yard\", \"Pool\", \n",
      "    \"Solar Roof\", \"Office Room\", \"3 Car Garage\", \"Walk-In Closet\", \n",
      "    \"Basement\", \"Backyard Deck\", \"Modular Kitchen\", \"Sunroom\"), \n",
      "    randomize = FALSE)\n",
      "\n",
      "Experimental design of type  FrF2 \n",
      "16  runs\n",
      "\n",
      "Factor settings (scale ends):\n",
      "  Large.Yard Pool Solar.Roof Office.Room X3.Car.Garage Walk.In.Closet Basement\n",
      "1         -1   -1         -1          -1            -1             -1       -1\n",
      "2          1    1          1           1             1              1        1\n",
      "  Backyard.Deck Modular.Kitchen Sunroom\n",
      "1            -1              -1      -1\n",
      "2             1               1       1\n",
      "\n",
      "Design generating information:\n",
      "$legend\n",
      " [1] A=Large.Yard      B=Pool            C=Solar.Roof      D=Office.Room    \n",
      " [5] E=X3.Car.Garage   F=Walk.In.Closet  G=Basement        H=Backyard.Deck  \n",
      " [9] J=Modular.Kitchen K=Sunroom        \n",
      "\n",
      "$generators\n",
      "[1] E=AB   F=AC   G=BC   H=AD   J=BCD  K=ABCD\n",
      "\n",
      "\n",
      "Alias structure:\n",
      "$main\n",
      " [1] A=BE=CF=DH=JK B=AE=CG       C=AF=BG       D=AH=GJ       E=AB=FG      \n",
      " [6] F=AC=EG       G=BC=DJ=EF=HK H=AD=GK       J=AK=DG       K=AJ=GH      \n",
      "\n",
      "$fi2\n",
      "[1] AG=BF=CE=DK=HJ BD=CJ=EH=FK    BH=CK=DE=FJ    BJ=CD=EK=FH    BK=CH=DF=EJ   \n",
      "\n",
      "\n",
      "The design itself:\n",
      "   Large.Yard Pool Solar.Roof Office.Room X3.Car.Garage Walk.In.Closet Basement\n",
      "1          -1   -1         -1          -1             1              1        1\n",
      "2           1   -1         -1          -1            -1             -1        1\n",
      "3          -1    1         -1          -1            -1              1       -1\n",
      "4           1    1         -1          -1             1             -1       -1\n",
      "5          -1   -1          1          -1             1             -1       -1\n",
      "6           1   -1          1          -1            -1              1       -1\n",
      "7          -1    1          1          -1            -1             -1        1\n",
      "8           1    1          1          -1             1              1        1\n",
      "9          -1   -1         -1           1             1              1        1\n",
      "10          1   -1         -1           1            -1             -1        1\n",
      "11         -1    1         -1           1            -1              1       -1\n",
      "12          1    1         -1           1             1             -1       -1\n",
      "13         -1   -1          1           1             1             -1       -1\n",
      "14          1   -1          1           1            -1              1       -1\n",
      "15         -1    1          1           1            -1             -1        1\n",
      "16          1    1          1           1             1              1        1\n",
      "   Backyard.Deck Modular.Kitchen Sunroom\n",
      "1              1              -1       1\n",
      "2             -1              -1      -1\n",
      "3              1               1      -1\n",
      "4             -1               1       1\n",
      "5              1               1      -1\n",
      "6             -1               1       1\n",
      "7              1              -1       1\n",
      "8             -1              -1      -1\n",
      "9             -1               1      -1\n",
      "10             1               1       1\n",
      "11            -1              -1       1\n",
      "12             1              -1      -1\n",
      "13            -1              -1       1\n",
      "14             1              -1      -1\n",
      "15            -1               1      -1\n",
      "16             1               1       1\n",
      "class=design, type= FrF2 \n"
     ]
    }
   ],
   "source": [
    "#design.info(d)\n",
    "summary(d)"
   ]
  },
  {
   "cell_type": "code",
   "execution_count": null,
   "metadata": {
    "collapsed": true
   },
   "outputs": [],
   "source": [
    "#Above is resolution III design which can be identified from generators\n",
    "#$generators\n",
    "#[1] E=AB   F=AC   G=BC   H=AD   J=BCD  K=ABCD\n",
    "#As this have 3 factors\n",
    "#This design Identities ABE =ACF=GBC=HAD=JBCD=KBCD\n",
    "\n",
    "#For usage of less factors, we can choose one of  ABE =ACF=GBC=HAD\n",
    "#Combination include\n",
    "\n",
    "#A=Large.Yard;B=Pool;E=X3.Car.Garage\n",
    "#A=Large.Yard;C=Solar.Roof;F=Walk.In.Closet\n",
    "#G=Basement;B=Pool; C=Solar.Roof\n",
    "#H=Backyard.Deck;A=Large.Yard;D=Office.Room "
   ]
  },
  {
   "cell_type": "markdown",
   "metadata": {
    "collapsed": true
   },
   "source": [
    "# Question 13.1\n",
    "\n",
    "For each of the following distributions, give an example of data that you would expect to follow this distribution (besides the examples already discussed in class).\n",
    "a.\tBinomial   \n",
    "b.\tGeometric   \n",
    "c.\tPoisson   \n",
    "d.\tExponential  \n",
    "e.\tWeibull\n"
   ]
  },
  {
   "cell_type": "markdown",
   "metadata": {
    "collapsed": true
   },
   "source": [
    "# I.\tBinomial\n",
    "A Tech organization contracts the usage of their software to its customers.\n",
    "To avoid work overload for contract extension, they have distributed the contract renewal process, \n",
    "follow-ups, policies setup, and contract term changes beginning of every quarter.\n",
    "Every contract is tagged as \n",
    "P => customer who successfully extended the software contract\n",
    "(1-p) => customer cancelled the Contract\n",
    "\n",
    "Probability of getting “x” Contracts extension responses is independent on “n” Bernoulli responses \n",
    "between customers and is well suited for a Binomial distribution\n",
    "We assume every quarter will have equal number of contract renewals. \n",
    "If the p is low, it indicates less renewals and “P” is more indicates more than usual contract renewals. \n",
    "We can obtain the probability of the Tech organization reaching 70% of its quarterly customer contracts P(x>0.7)\n",
    "and use hypothesis testing to accept/reject its assumption.\n"
   ]
  },
  {
   "cell_type": "markdown",
   "metadata": {},
   "source": [
    "# II.\tGeometric\n",
    "Use case:\n",
    "A data science analyst is attempting to compile his code and produce expected outcome \n",
    "for an assignment before its due date. \n",
    "Trial: Every time a code is compiled \n",
    "% probability of finding a bug whenever the code is executed. \n",
    "\n",
    "P => Good outcome (Successful Code outcome)\n",
    "(1-P) => Failed attempts/bug\n",
    "\n",
    "As geometric distribution can be used to identify probability of having “x” failures \n",
    "before success (or vice versa)  (OR) used to find if the trials are independently distributed\n",
    "\n",
    "Case 1: Is each Bernoulli trial of code compiles by a data scientist is independent of each other? \n",
    "Can a dependent underlying root cause contribute to the code not being independently distributed?\n",
    "\n",
    "Case 2:  If the code compilation trails prove i.i.d independent of each other, we can use geometric distribution to find how many trials of failed attempts are made before a successful outcome of the code\n"
   ]
  },
  {
   "cell_type": "markdown",
   "metadata": {},
   "source": [
    "# III.\tWeibull\n",
    "I will use the above scenario of a data scientist trying to get his code up and running.\n",
    "Weibull can be used to identify how long it will take him to get the expected results. \n",
    "Assuming he starts working on his assignment at 8AM on a Wednesday morning, \n",
    "Weibull can be get the probability of getting the assignment completed before midnight?\n",
    "\n",
    "As the failure rate decreases with time, following the rule of ‘worst things fail first’, \n",
    "“K” will be less than 1 for this scenario\n"
   ]
  },
  {
   "cell_type": "markdown",
   "metadata": {},
   "source": [
    "# IV.\tPoisson\n",
    "Use case: I would like to understand how many hits I get on my blog. \n",
    "We can use binomial for this scenario. I can see if I get 0.5 hit in 1 hour or NOT. \n",
    "But it cannot contain more than 1 event in the unit of time (say, 5 hits in one hours). \n",
    "I have options to shrink my unit of time to find if I get a hit or not. \n",
    "But, I don’t have data about the number of hits (considering peak and lazy hours) \n",
    "to come up with the unit of time window (any why bother as we have Poisson)\n",
    "    \n",
    "As Poisson doesn’t require “n” or “p” and the only parameter is Lamda, this scenario will fit Poisson well.\n",
    "Assuming lamda =0.5 (average of 1 hit per hour), I can develop a probability of getting more than  5 or 10  hits \n",
    "from Poisson distribution\n"
   ]
  },
  {
   "cell_type": "markdown",
   "metadata": {},
   "source": [
    "# V.\tExponential\n",
    "As continuous Exponential distribution complements the discrete Poisson distribution , I will use the arrival time of the hits \n",
    "on my website to obtain the time between successive arrivals of my website visitors using the scale as 1/lamba. \n",
    "Considering 0.5 hit in 1 hour for Poisson, my parameter for lamda is (1/0.5) for exponential. \n",
    "\n",
    "As one of the widely used use case of exponential distribution is anomaly detection, \n",
    "I can extend this use case to see if I haven’t received any hits for 5 hours on morning hours, \n",
    "then that will be an prompt for me to can check to see if the website is actually up for visitors to login \n"
   ]
  },
  {
   "cell_type": "code",
   "execution_count": null,
   "metadata": {
    "collapsed": true
   },
   "outputs": [],
   "source": [
    "######13.2 Simulation is documented in a separate file##"
   ]
  }
 ],
 "metadata": {
  "anaconda-cloud": {},
  "kernelspec": {
   "display_name": "R",
   "language": "R",
   "name": "ir"
  },
  "language_info": {
   "codemirror_mode": "r",
   "file_extension": ".r",
   "mimetype": "text/x-r-source",
   "name": "R",
   "pygments_lexer": "r",
   "version": "4.1.1"
  }
 },
 "nbformat": 4,
 "nbformat_minor": 1
}
