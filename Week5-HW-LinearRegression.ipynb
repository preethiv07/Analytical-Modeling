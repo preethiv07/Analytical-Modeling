{
 "cells": [
  {
   "cell_type": "markdown",
   "metadata": {},
   "source": [
    "# Question 8.2\n",
    "Using crime data from http://www.statsci.org/data/general/uscrime.txt  (file uscrime.txt, description at http://www.statsci.org/data/general/uscrime.html ), use regression (a useful R function is lm or glm) to predict the observed crime rate in a city with the following data:\n",
    "\n",
    "M = 14.0\n",
    "So = 0\n",
    "Ed = 10.0\n",
    "Po1 = 12.0\n",
    "Po2 = 15.5\n",
    "LF = 0.640\n",
    "M.F = 94.0\n",
    "Pop = 150\n",
    "NW = 1.1\n",
    "U1 = 0.120\n",
    "U2 = 3.6\n",
    "Wealth = 3200\n",
    "Ineq = 20.1\n",
    "Prob = 0.04\n",
    "Time = 39.0\n",
    "\n",
    "Show your model (factors used and their coefficients), the software output, and the quality of fit. \n"
   ]
  },
  {
   "cell_type": "markdown",
   "metadata": {},
   "source": [
    "http://www.statsci.org/data/general/uscrime.html"
   ]
  },
  {
   "cell_type": "markdown",
   "metadata": {},
   "source": [
    "\tVariable\t \tDescription\n",
    "M\t\tpercentage of males aged 14–24 in total state population\n",
    "So\t\tindicator variable for a southern state\n",
    "Ed\t\tmean years of schooling of the population aged 25 years or over\n",
    "Po1\t\tper capita expenditure on police protection in 1960\n",
    "Po2\t\tper capita expenditure on police protection in 1959\n",
    "LF\t\tlabour force participation rate of civilian urban males in the age-group 14-24\n",
    "M.F\t\tnumber of males per 100 females\n",
    "Pop\t\tstate population in 1960 in hundred thousands\n",
    "NW\t\tpercentage of nonwhites in the population\n",
    "U1\t\tunemployment rate of urban males 14–24\n",
    "U2\t\tunemployment rate of urban males 35–39\n",
    "Wealth\t\twealth: median value of transferable assets or family income\n",
    "Ineq\t\tincome inequality: percentage of families earning below half the median income\n",
    "Prob\t\tprobability of imprisonment: ratio of number of commitments to number of offenses\n",
    "Time\t\taverage time in months served by offenders in state prisons before their first release\n",
    "Crime\t\tcrime rate: number of offenses per 100,000 population in 1960"
   ]
  },
  {
   "cell_type": "markdown",
   "metadata": {},
   "source": [
    "# Notes/Analysis:\n",
    "##Only one of Po1 and Po2, and only one of U1 and U2, remain in the final regression, because of high collinearity.\n",
    "##Data gives association not causal relationships. For example, does crime really increase with police expenditure?\n",
    "##Crime is negatively associated with probability of imprisonment.\n",
    "##Crime is slightly better modelled on a log scale."
   ]
  },
  {
   "cell_type": "code",
   "execution_count": 19,
   "metadata": {
    "collapsed": false
   },
   "outputs": [],
   "source": [
    "##########LIBRARY##########\n",
    "library(\"ggplot2\")\n",
    "#install.packages(\"devtools\")\n",
    "#install.packages(\"corrplot\")\n",
    "library(\"devtools\")\n",
    "library(\"corrplot\") # to use Correlation plot\n",
    "library(tidyr) # to get \"gather\" function\n",
    "library(plyr) #to use arrange function\n"
   ]
  },
  {
   "cell_type": "code",
   "execution_count": 7,
   "metadata": {
    "collapsed": false
   },
   "outputs": [
    {
     "data": {
      "text/html": [
       "<table class=\"dataframe\">\n",
       "<caption>A tibble: 2 × 16</caption>\n",
       "<thead>\n",
       "\t<tr><th scope=col>M</th><th scope=col>So</th><th scope=col>Ed</th><th scope=col>Po1</th><th scope=col>Po2</th><th scope=col>LF</th><th scope=col>M.F</th><th scope=col>Pop</th><th scope=col>NW</th><th scope=col>U1</th><th scope=col>U2</th><th scope=col>Wealth</th><th scope=col>Ineq</th><th scope=col>Prob</th><th scope=col>Time</th><th scope=col>Crime</th></tr>\n",
       "\t<tr><th scope=col>&lt;dbl&gt;</th><th scope=col>&lt;int&gt;</th><th scope=col>&lt;dbl&gt;</th><th scope=col>&lt;dbl&gt;</th><th scope=col>&lt;dbl&gt;</th><th scope=col>&lt;dbl&gt;</th><th scope=col>&lt;dbl&gt;</th><th scope=col>&lt;int&gt;</th><th scope=col>&lt;dbl&gt;</th><th scope=col>&lt;dbl&gt;</th><th scope=col>&lt;dbl&gt;</th><th scope=col>&lt;int&gt;</th><th scope=col>&lt;dbl&gt;</th><th scope=col>&lt;dbl&gt;</th><th scope=col>&lt;dbl&gt;</th><th scope=col>&lt;int&gt;</th></tr>\n",
       "</thead>\n",
       "<tbody>\n",
       "\t<tr><td>15.1</td><td>1</td><td> 9.1</td><td> 5.8</td><td>5.6</td><td>0.510</td><td> 95.0</td><td>33</td><td>30.1</td><td>0.108</td><td>4.1</td><td>3940</td><td>26.1</td><td>0.084602</td><td>26.2011</td><td> 791</td></tr>\n",
       "\t<tr><td>14.3</td><td>0</td><td>11.3</td><td>10.3</td><td>9.5</td><td>0.583</td><td>101.2</td><td>13</td><td>10.2</td><td>0.096</td><td>3.6</td><td>5570</td><td>19.4</td><td>0.029599</td><td>25.2999</td><td>1635</td></tr>\n",
       "</tbody>\n",
       "</table>\n"
      ],
      "text/latex": [
       "A tibble: 2 × 16\n",
       "\\begin{tabular}{llllllllllllllll}\n",
       " M & So & Ed & Po1 & Po2 & LF & M.F & Pop & NW & U1 & U2 & Wealth & Ineq & Prob & Time & Crime\\\\\n",
       " <dbl> & <int> & <dbl> & <dbl> & <dbl> & <dbl> & <dbl> & <int> & <dbl> & <dbl> & <dbl> & <int> & <dbl> & <dbl> & <dbl> & <int>\\\\\n",
       "\\hline\n",
       "\t 15.1 & 1 &  9.1 &  5.8 & 5.6 & 0.510 &  95.0 & 33 & 30.1 & 0.108 & 4.1 & 3940 & 26.1 & 0.084602 & 26.2011 &  791\\\\\n",
       "\t 14.3 & 0 & 11.3 & 10.3 & 9.5 & 0.583 & 101.2 & 13 & 10.2 & 0.096 & 3.6 & 5570 & 19.4 & 0.029599 & 25.2999 & 1635\\\\\n",
       "\\end{tabular}\n"
      ],
      "text/markdown": [
       "\n",
       "A tibble: 2 × 16\n",
       "\n",
       "| M &lt;dbl&gt; | So &lt;int&gt; | Ed &lt;dbl&gt; | Po1 &lt;dbl&gt; | Po2 &lt;dbl&gt; | LF &lt;dbl&gt; | M.F &lt;dbl&gt; | Pop &lt;int&gt; | NW &lt;dbl&gt; | U1 &lt;dbl&gt; | U2 &lt;dbl&gt; | Wealth &lt;int&gt; | Ineq &lt;dbl&gt; | Prob &lt;dbl&gt; | Time &lt;dbl&gt; | Crime &lt;int&gt; |\n",
       "|---|---|---|---|---|---|---|---|---|---|---|---|---|---|---|---|\n",
       "| 15.1 | 1 |  9.1 |  5.8 | 5.6 | 0.510 |  95.0 | 33 | 30.1 | 0.108 | 4.1 | 3940 | 26.1 | 0.084602 | 26.2011 |  791 |\n",
       "| 14.3 | 0 | 11.3 | 10.3 | 9.5 | 0.583 | 101.2 | 13 | 10.2 | 0.096 | 3.6 | 5570 | 19.4 | 0.029599 | 25.2999 | 1635 |\n",
       "\n"
      ],
      "text/plain": [
       "  M    So Ed   Po1  Po2 LF    M.F   Pop NW   U1    U2  Wealth Ineq Prob    \n",
       "1 15.1 1   9.1  5.8 5.6 0.510  95.0 33  30.1 0.108 4.1 3940   26.1 0.084602\n",
       "2 14.3 0  11.3 10.3 9.5 0.583 101.2 13  10.2 0.096 3.6 5570   19.4 0.029599\n",
       "  Time    Crime\n",
       "1 26.2011  791 \n",
       "2 25.2999 1635 "
      ]
     },
     "metadata": {},
     "output_type": "display_data"
    }
   ],
   "source": [
    "##########INGEST FILE##########\n",
    "\n",
    "#crime<- read.table(\"C:\\\\Preethi\\\\R\\\\USCrimes.txt\",header=TRUE,stringsAsFactors = FALSE,sep=\"\\t\")\n",
    "#head(data,10)\n",
    "#colClasses = c(\"numeric\", \"numeric\", \"numeric\")\n",
    "#colClasses\n",
    "crime = read.table(\"C:\\\\Preethi\\\\R\\\\USCrimes.txt\",header=TRUE,stringsAsFactors = FALSE,sep=\"\\t\") %>% as_tibble()\n",
    "head(crime,2)\n"
   ]
  },
  {
   "cell_type": "markdown",
   "metadata": {},
   "source": [
    "# # study relationship of predictors with Crime output"
   ]
  },
  {
   "cell_type": "code",
   "execution_count": 12,
   "metadata": {
    "collapsed": false
   },
   "outputs": [
    {
     "data": {
      "image/png": "[encoded data removed]",
      "text/plain": [
       "plot without title"
      ]
     },
     "metadata": {
      "image/png": {
       "height": 420,
       "width": 420
      }
     },
     "output_type": "display_data"
    }
   ],
   "source": [
    "# show density of data spread\n",
    "ggplot(data = crime, aes(x = Crime)) +geom_density() \n",
    "#negative skew"
   ]
  },
  {
   "cell_type": "code",
   "execution_count": 9,
   "metadata": {
    "collapsed": false
   },
   "outputs": [
    {
     "data": {
      "image/png": "[encoded data removed]",
      "text/plain": [
       "Plot with title \"\""
      ]
     },
     "metadata": {
      "image/png": {
       "height": 420,
       "width": 420
      }
     },
     "output_type": "display_data"
    }
   ],
   "source": [
    "# to show correlation f predictors\n",
    "corrplot(cor(crime),type = 'upper') \n",
    "#1. observation Po1 and Po2;U1  only one of U1 and U2 are highly corelated\n",
    "#Only one of P01 or P02 and U1 and U2 will be used for Regression (PO:per Capita expenditure;U:Unemployement rate)\n",
    "#2.Crime is negatively associated with probability of imprisonment(prob)-in red.\n",
    "#3.Wealth and Inequ has high negative corelation."
   ]
  },
  {
   "cell_type": "code",
   "execution_count": 40,
   "metadata": {
    "collapsed": false
   },
   "outputs": [
    {
     "data": {
      "text/html": [
       "<table class=\"dataframe\">\n",
       "<caption>A tibble: 15 × 2</caption>\n",
       "<thead>\n",
       "\t<tr><th scope=col>predictor</th><th scope=col>correlation</th></tr>\n",
       "\t<tr><th scope=col>&lt;chr&gt;</th><th scope=col>&lt;dbl&gt;</th></tr>\n",
       "</thead>\n",
       "<tbody>\n",
       "\t<tr><td>Po1   </td><td> 0.68760446</td></tr>\n",
       "\t<tr><td>Po2   </td><td> 0.66671414</td></tr>\n",
       "\t<tr><td>Wealth</td><td> 0.44131995</td></tr>\n",
       "\t<tr><td>Pop   </td><td> 0.33747406</td></tr>\n",
       "\t<tr><td>Ed    </td><td> 0.32283487</td></tr>\n",
       "\t<tr><td>M.F   </td><td> 0.21391426</td></tr>\n",
       "\t<tr><td>LF    </td><td> 0.18886635</td></tr>\n",
       "\t<tr><td>U2    </td><td> 0.17732065</td></tr>\n",
       "\t<tr><td>Time  </td><td> 0.14986606</td></tr>\n",
       "\t<tr><td>NW    </td><td> 0.03259884</td></tr>\n",
       "\t<tr><td>U1    </td><td>-0.05047792</td></tr>\n",
       "\t<tr><td>M     </td><td>-0.08947240</td></tr>\n",
       "\t<tr><td>So    </td><td>-0.09063696</td></tr>\n",
       "\t<tr><td>Ineq  </td><td>-0.17902373</td></tr>\n",
       "\t<tr><td>Prob  </td><td>-0.42742219</td></tr>\n",
       "</tbody>\n",
       "</table>\n"
      ],
      "text/latex": [
       "A tibble: 15 × 2\n",
       "\\begin{tabular}{ll}\n",
       " predictor & correlation\\\\\n",
       " <chr> & <dbl>\\\\\n",
       "\\hline\n",
       "\t Po1    &  0.68760446\\\\\n",
       "\t Po2    &  0.66671414\\\\\n",
       "\t Wealth &  0.44131995\\\\\n",
       "\t Pop    &  0.33747406\\\\\n",
       "\t Ed     &  0.32283487\\\\\n",
       "\t M.F    &  0.21391426\\\\\n",
       "\t LF     &  0.18886635\\\\\n",
       "\t U2     &  0.17732065\\\\\n",
       "\t Time   &  0.14986606\\\\\n",
       "\t NW     &  0.03259884\\\\\n",
       "\t U1     & -0.05047792\\\\\n",
       "\t M      & -0.08947240\\\\\n",
       "\t So     & -0.09063696\\\\\n",
       "\t Ineq   & -0.17902373\\\\\n",
       "\t Prob   & -0.42742219\\\\\n",
       "\\end{tabular}\n"
      ],
      "text/markdown": [
       "\n",
       "A tibble: 15 × 2\n",
       "\n",
       "| predictor &lt;chr&gt; | correlation &lt;dbl&gt; |\n",
       "|---|---|\n",
       "| Po1    |  0.68760446 |\n",
       "| Po2    |  0.66671414 |\n",
       "| Wealth |  0.44131995 |\n",
       "| Pop    |  0.33747406 |\n",
       "| Ed     |  0.32283487 |\n",
       "| M.F    |  0.21391426 |\n",
       "| LF     |  0.18886635 |\n",
       "| U2     |  0.17732065 |\n",
       "| Time   |  0.14986606 |\n",
       "| NW     |  0.03259884 |\n",
       "| U1     | -0.05047792 |\n",
       "| M      | -0.08947240 |\n",
       "| So     | -0.09063696 |\n",
       "| Ineq   | -0.17902373 |\n",
       "| Prob   | -0.42742219 |\n",
       "\n"
      ],
      "text/plain": [
       "   predictor correlation\n",
       "1  Po1        0.68760446\n",
       "2  Po2        0.66671414\n",
       "3  Wealth     0.44131995\n",
       "4  Pop        0.33747406\n",
       "5  Ed         0.32283487\n",
       "6  M.F        0.21391426\n",
       "7  LF         0.18886635\n",
       "8  U2         0.17732065\n",
       "9  Time       0.14986606\n",
       "10 NW         0.03259884\n",
       "11 U1        -0.05047792\n",
       "12 M         -0.08947240\n",
       "13 So        -0.09063696\n",
       "14 Ineq      -0.17902373\n",
       "15 Prob      -0.42742219"
      ]
     },
     "metadata": {},
     "output_type": "display_data"
    }
   ],
   "source": [
    "cor(crime$Crime, crime[,1:15]) %>%\n",
    "        as_tibble() %>%\n",
    "        gather(predictor, correlation) %>% #transform crosstab to rows\n",
    "        arrange(desc(correlation)) #sort by desc\n",
    "#highest Correlation to \"y=Crime\" is most likely predictor(red circle in correlation plot)"
   ]
  },
  {
   "cell_type": "code",
   "execution_count": 30,
   "metadata": {
    "collapsed": false
   },
   "outputs": [
    {
     "data": {
      "image/png": "[encoded data removed]",
      "text/plain": [
       "plot without title"
      ]
     },
     "metadata": {
      "image/png": {
       "height": 420,
       "width": 420
      }
     },
     "output_type": "display_data"
    }
   ],
   "source": [
    "# study relationship of predictors with Crime output\n",
    "cor(crime$Crime, crime[,1:15]) %>%\n",
    "        as_tibble() %>%\n",
    "        gather(predictor, correlation) %>%\n",
    "        arrange(desc(correlation)) %>% \n",
    "        ggplot(data = ., aes(x = predictor, y = abs(correlation), fill = abs(correlation))) +\n",
    "        geom_col() + \n",
    "        labs(title = 'Correlation with Crime',\n",
    "             subtitle = 'Predictors by absolute correlation') + \n",
    "        xlab('Predictor') + \n",
    "        ylab('Absolute Correlation with Crime Response')"
   ]
  },
  {
   "cell_type": "code",
   "execution_count": 41,
   "metadata": {
    "collapsed": true
   },
   "outputs": [],
   "source": [
    "#create data frame based on predictors that matters\n",
    "crime_df = crime %>% \n",
    "        dplyr::select(Crime, Po1,Wealth,Prob,Ed,Pop,Ineq,M.F)\n",
    "\n",
    "#Result(y)\n",
    "#Crime\t\tcrime rate: number of offenses per 100,000 population in 1960\n",
    "\n",
    "#PREDICTORS that impacts results\n",
    "\n",
    "#Po1\t\tper capita expenditure on police protection in 1960\n",
    "#Wealth\t\twealth: median value of transferable assets or family income\n",
    "#Prob\t\tprobability of imprisonment: ratio of number of commitments to number of offenses\n",
    "#Ed\t\tmean years of schooling of the population aged 25 years or over\n",
    "#Pop\t\tstate population in 1960 in hundred thousands\n",
    "#Ineq\t\tincome inequality: percentage of families earning below half the median income\n",
    "#M.F\t\tnumber of males per 100 females"
   ]
  },
  {
   "cell_type": "code",
   "execution_count": 42,
   "metadata": {
    "collapsed": false
   },
   "outputs": [],
   "source": [
    "# develop predictor data and response labels\n",
    "crime_x = data.frame(crime_df) %>% dplyr::select(., -Crime) #exclude \"Y-output\"\n",
    "crime_y = data.frame(crime_df) %>% dplyr::select(., Crime) #include only Y-output\""
   ]
  },
  {
   "cell_type": "code",
   "execution_count": 43,
   "metadata": {
    "collapsed": false
   },
   "outputs": [
    {
     "data": {
      "text/plain": [
       "Created from 47 samples and 7 variables\n",
       "\n",
       "Pre-processing:\n",
       "  - Box-Cox transformation (7)\n",
       "  - centered (7)\n",
       "  - ignored (0)\n",
       "  - scaled (7)\n",
       "\n",
       "Lambda estimates for Box-Cox transformation:\n",
       "-0.4, 1.8, 0.4, 2, 0.1, -0.3, -2"
      ]
     },
     "metadata": {},
     "output_type": "display_data"
    }
   ],
   "source": [
    "#Just curios on Box Cox transformation\n",
    "transform_df = caret::preProcess(crime_x,  method = c('center', 'scale', 'nzv', 'BoxCox'))\n",
    "transform_df\n"
   ]
  },
  {
   "cell_type": "markdown",
   "metadata": {},
   "source": [
    "# Linear model"
   ]
  },
  {
   "cell_type": "code",
   "execution_count": 65,
   "metadata": {
    "collapsed": false
   },
   "outputs": [
    {
     "ename": "ERROR",
     "evalue": "Error in eval(expr, envir, enclos): object 'my_crime_regression' not found\n",
     "output_type": "error",
     "traceback": [
      "Error in eval(expr, envir, enclos): object 'my_crime_regression' not found\nTraceback:\n"
     ]
    }
   ],
   "source": [
    "lm.crime_matters <- lm(Crime~., data=crime_df) #Out Crime related(~) to input);use only the impactful predictors"
   ]
  },
  {
   "cell_type": "code",
   "execution_count": 60,
   "metadata": {
    "collapsed": false
   },
   "outputs": [
    {
     "data": {
      "text/plain": [
       "\n",
       "Call:\n",
       "lm(formula = Crime ~ ., data = crime_df)\n",
       "\n",
       "Residuals:\n",
       "    Min      1Q  Median      3Q     Max \n",
       "-487.51 -128.62   13.12  137.85  436.04 \n",
       "\n",
       "Coefficients:\n",
       "              Estimate Std. Error t value Pr(>|t|)    \n",
       "(Intercept) -4.506e+03  1.370e+03  -3.290  0.00213 ** \n",
       "Po1          1.185e+02  2.031e+01   5.834 8.81e-07 ***\n",
       "Wealth       8.053e-02  9.945e-02   0.810  0.42298    \n",
       "Prob        -3.884e+03  1.757e+03  -2.211  0.03300 *  \n",
       "Ed           1.019e+02  5.278e+01   1.930  0.06086 .  \n",
       "Pop         -1.196e+00  1.247e+00  -0.959  0.34335    \n",
       "Ineq         8.811e+01  2.006e+01   4.392 8.33e-05 ***\n",
       "M.F          1.447e+01  1.437e+01   1.007  0.32020    \n",
       "---\n",
       "Signif. codes:  0 '***' 0.001 '**' 0.01 '*' 0.05 '.' 0.1 ' ' 1\n",
       "\n",
       "Residual standard error: 218.9 on 39 degrees of freedom\n",
       "Multiple R-squared:  0.7285,\tAdjusted R-squared:  0.6798 \n",
       "F-statistic: 14.95 on 7 and 39 DF,  p-value: 2.697e-09\n"
      ]
     },
     "metadata": {},
     "output_type": "display_data"
    }
   ],
   "source": [
    "summary(lm.crime_matters)"
   ]
  },
  {
   "cell_type": "code",
   "execution_count": 63,
   "metadata": {
    "collapsed": false
   },
   "outputs": [
    {
     "data": {
      "text/html": [
       "<table class=\"dataframe\">\n",
       "<caption>A data.frame: 8 × 1</caption>\n",
       "<thead>\n",
       "\t<tr><th></th><th scope=col>.</th></tr>\n",
       "\t<tr><th></th><th scope=col>&lt;dbl&gt;</th></tr>\n",
       "</thead>\n",
       "<tbody>\n",
       "\t<tr><th scope=row>(Intercept)</th><td>-4.506418e+03</td></tr>\n",
       "\t<tr><th scope=row>Po1</th><td> 1.184710e+02</td></tr>\n",
       "\t<tr><th scope=row>Wealth</th><td> 8.053154e-02</td></tr>\n",
       "\t<tr><th scope=row>Prob</th><td>-3.883680e+03</td></tr>\n",
       "\t<tr><th scope=row>Ed</th><td> 1.018860e+02</td></tr>\n",
       "\t<tr><th scope=row>Pop</th><td>-1.195830e+00</td></tr>\n",
       "\t<tr><th scope=row>Ineq</th><td> 8.810809e+01</td></tr>\n",
       "\t<tr><th scope=row>M.F</th><td> 1.447042e+01</td></tr>\n",
       "</tbody>\n",
       "</table>\n"
      ],
      "text/latex": [
       "A data.frame: 8 × 1\n",
       "\\begin{tabular}{r|l}\n",
       "  & .\\\\\n",
       "  & <dbl>\\\\\n",
       "\\hline\n",
       "\t(Intercept) & -4.506418e+03\\\\\n",
       "\tPo1 &  1.184710e+02\\\\\n",
       "\tWealth &  8.053154e-02\\\\\n",
       "\tProb & -3.883680e+03\\\\\n",
       "\tEd &  1.018860e+02\\\\\n",
       "\tPop & -1.195830e+00\\\\\n",
       "\tIneq &  8.810809e+01\\\\\n",
       "\tM.F &  1.447042e+01\\\\\n",
       "\\end{tabular}\n"
      ],
      "text/markdown": [
       "\n",
       "A data.frame: 8 × 1\n",
       "\n",
       "| <!--/--> | . &lt;dbl&gt; |\n",
       "|---|---|\n",
       "| (Intercept) | -4.506418e+03 |\n",
       "| Po1 |  1.184710e+02 |\n",
       "| Wealth |  8.053154e-02 |\n",
       "| Prob | -3.883680e+03 |\n",
       "| Ed |  1.018860e+02 |\n",
       "| Pop | -1.195830e+00 |\n",
       "| Ineq |  8.810809e+01 |\n",
       "| M.F |  1.447042e+01 |\n",
       "\n"
      ],
      "text/plain": [
       "            .            \n",
       "(Intercept) -4.506418e+03\n",
       "Po1          1.184710e+02\n",
       "Wealth       8.053154e-02\n",
       "Prob        -3.883680e+03\n",
       "Ed           1.018860e+02\n",
       "Pop         -1.195830e+00\n",
       "Ineq         8.810809e+01\n",
       "M.F          1.447042e+01"
      ]
     },
     "metadata": {},
     "output_type": "display_data"
    }
   ],
   "source": [
    "#Display Coefficiensts of predictors as table\n",
    "coef(lm.crime_matters) %>% as.data.frame()"
   ]
  },
  {
   "cell_type": "markdown",
   "metadata": {},
   "source": [
    "# Prediction"
   ]
  },
  {
   "cell_type": "code",
   "execution_count": 64,
   "metadata": {
    "collapsed": true
   },
   "outputs": [],
   "source": [
    "new_observe = data.frame(\n",
    "        M = 14.0,\n",
    "        So = 0,\n",
    "        Ed = 10.0,\n",
    "        Po1 = 12.0,\n",
    "        Po2 = 15.5,\n",
    "        LF = 0.640,\n",
    "        M.F = 94.0 ,\n",
    "        Pop = 150,\n",
    "        NW = 1.1,\n",
    "        U1 = 0.120,\n",
    "        U2 = 3.6 ,\n",
    "        Wealth = 3200, \n",
    "        Ineq = 20.1 ,\n",
    "        Prob = 0.04 ,\n",
    "        Time = 39.0\n",
    ")"
   ]
  },
  {
   "cell_type": "code",
   "execution_count": 71,
   "metadata": {
    "collapsed": false
   },
   "outputs": [
    {
     "data": {
      "text/html": [
       "<table class=\"dataframe\">\n",
       "<caption>A tibble: 1 × 1</caption>\n",
       "<thead>\n",
       "\t<tr><th scope=col>value</th></tr>\n",
       "\t<tr><th scope=col>&lt;dbl&gt;</th></tr>\n",
       "</thead>\n",
       "<tbody>\n",
       "\t<tr><td>988.2651</td></tr>\n",
       "</tbody>\n",
       "</table>\n"
      ],
      "text/latex": [
       "A tibble: 1 × 1\n",
       "\\begin{tabular}{l}\n",
       " value\\\\\n",
       " <dbl>\\\\\n",
       "\\hline\n",
       "\t 988.2651\\\\\n",
       "\\end{tabular}\n"
      ],
      "text/markdown": [
       "\n",
       "A tibble: 1 × 1\n",
       "\n",
       "| value &lt;dbl&gt; |\n",
       "|---|\n",
       "| 988.2651 |\n",
       "\n"
      ],
      "text/plain": [
       "  value   \n",
       "1 988.2651"
      ]
     },
     "metadata": {},
     "output_type": "display_data"
    }
   ],
   "source": [
    "# crime prediction for new point of observation based on model\n",
    "crime_pred = predict(lm.crime_matters, new_observe) %>% \n",
    "        as_tibble()\n",
    "crime_pred"
   ]
  },
  {
   "cell_type": "code",
   "execution_count": 69,
   "metadata": {
    "collapsed": false
   },
   "outputs": [
    {
     "name": "stdout",
     "output_type": "stream",
     "text": [
      "[1] \"Crime Predicted for the new point of observation:  988.265064911191\"\n"
     ]
    }
   ],
   "source": [
    "print(paste('Crime Predicted for the new point of observation: ', crime_pred$value))"
   ]
  },
  {
   "cell_type": "markdown",
   "metadata": {},
   "source": [
    "#Notes\n",
    "https://www.learnbymarketing.com/tutorials/linear-regression-in-r/"
   ]
  },
  {
   "cell_type": "code",
   "execution_count": null,
   "metadata": {
    "collapsed": true
   },
   "outputs": [],
   "source": []
  }
 ],
 "metadata": {
  "anaconda-cloud": {},
  "kernelspec": {
   "display_name": "R",
   "language": "R",
   "name": "ir"
  },
  "language_info": {
   "codemirror_mode": "r",
   "file_extension": ".r",
   "mimetype": "text/x-r-source",
   "name": "R",
   "pygments_lexer": "r",
   "version": "4.1.1"
  }
 },
 "nbformat": 4,
 "nbformat_minor": 1
}
