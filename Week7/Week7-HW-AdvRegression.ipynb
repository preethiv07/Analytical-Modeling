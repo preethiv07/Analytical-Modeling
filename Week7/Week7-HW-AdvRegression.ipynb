{
 "cells": [
  {
   "cell_type": "markdown",
   "metadata": {},
   "source": [
    "# Question 10.1\n",
    "\n",
    "Using the same crime data set uscrime.txt as in Questions 8.2 and 9.1, find the best model you can using \n",
    "(a) a regression tree model, and \n",
    "(b) a random forest model.  \n",
    "In R, you can use the tree package or the rpart package, and the randomForest package.  \n",
    "For each model, describe one or two qualitative takeaways you get from analyzing the results (i.e., don’t just stop when you have a good model, but interpret it too)."
   ]
  },
  {
   "cell_type": "code",
   "execution_count": 262,
   "metadata": {
    "collapsed": true
   },
   "outputs": [],
   "source": [
    "# Clear environment\n",
    "\n",
    "rm(list = ls())"
   ]
  },
  {
   "cell_type": "code",
   "execution_count": 280,
   "metadata": {
    "collapsed": false
   },
   "outputs": [],
   "source": [
    "##########LIBRARY##########\n",
    "library(tidyr) # to use tibble function\n",
    "library(DAAG)\n",
    "library(tree) #to create regression tree using tree package\n",
    "#library(\"ggplot2\")\n",
    "#install.packages(\"devtools\")\n",
    "#install.packages(\"corrplot\")\n",
    "#library(\"devtools\")\n",
    "#library(\"corrplot\") # to use Correlation plot\n",
    "#library(plyr) #to use arrange function"
   ]
  },
  {
   "cell_type": "code",
   "execution_count": 265,
   "metadata": {
    "collapsed": false
   },
   "outputs": [
    {
     "data": {
      "text/html": [
       "<table class=\"dataframe\">\n",
       "<caption>A data.frame: 2 × 16</caption>\n",
       "<thead>\n",
       "\t<tr><th></th><th scope=col>M</th><th scope=col>So</th><th scope=col>Ed</th><th scope=col>Po1</th><th scope=col>Po2</th><th scope=col>LF</th><th scope=col>M.F</th><th scope=col>Pop</th><th scope=col>NW</th><th scope=col>U1</th><th scope=col>U2</th><th scope=col>Wealth</th><th scope=col>Ineq</th><th scope=col>Prob</th><th scope=col>Time</th><th scope=col>Crime</th></tr>\n",
       "\t<tr><th></th><th scope=col>&lt;dbl&gt;</th><th scope=col>&lt;int&gt;</th><th scope=col>&lt;dbl&gt;</th><th scope=col>&lt;dbl&gt;</th><th scope=col>&lt;dbl&gt;</th><th scope=col>&lt;dbl&gt;</th><th scope=col>&lt;dbl&gt;</th><th scope=col>&lt;int&gt;</th><th scope=col>&lt;dbl&gt;</th><th scope=col>&lt;dbl&gt;</th><th scope=col>&lt;dbl&gt;</th><th scope=col>&lt;int&gt;</th><th scope=col>&lt;dbl&gt;</th><th scope=col>&lt;dbl&gt;</th><th scope=col>&lt;dbl&gt;</th><th scope=col>&lt;int&gt;</th></tr>\n",
       "</thead>\n",
       "<tbody>\n",
       "\t<tr><th scope=row>1</th><td>15.1</td><td>1</td><td> 9.1</td><td> 5.8</td><td>5.6</td><td>0.510</td><td> 95.0</td><td>33</td><td>30.1</td><td>0.108</td><td>4.1</td><td>3940</td><td>26.1</td><td>0.084602</td><td>26.2011</td><td> 791</td></tr>\n",
       "\t<tr><th scope=row>2</th><td>14.3</td><td>0</td><td>11.3</td><td>10.3</td><td>9.5</td><td>0.583</td><td>101.2</td><td>13</td><td>10.2</td><td>0.096</td><td>3.6</td><td>5570</td><td>19.4</td><td>0.029599</td><td>25.2999</td><td>1635</td></tr>\n",
       "</tbody>\n",
       "</table>\n"
      ],
      "text/latex": [
       "A data.frame: 2 × 16\n",
       "\\begin{tabular}{r|llllllllllllllll}\n",
       "  & M & So & Ed & Po1 & Po2 & LF & M.F & Pop & NW & U1 & U2 & Wealth & Ineq & Prob & Time & Crime\\\\\n",
       "  & <dbl> & <int> & <dbl> & <dbl> & <dbl> & <dbl> & <dbl> & <int> & <dbl> & <dbl> & <dbl> & <int> & <dbl> & <dbl> & <dbl> & <int>\\\\\n",
       "\\hline\n",
       "\t1 & 15.1 & 1 &  9.1 &  5.8 & 5.6 & 0.510 &  95.0 & 33 & 30.1 & 0.108 & 4.1 & 3940 & 26.1 & 0.084602 & 26.2011 &  791\\\\\n",
       "\t2 & 14.3 & 0 & 11.3 & 10.3 & 9.5 & 0.583 & 101.2 & 13 & 10.2 & 0.096 & 3.6 & 5570 & 19.4 & 0.029599 & 25.2999 & 1635\\\\\n",
       "\\end{tabular}\n"
      ],
      "text/markdown": [
       "\n",
       "A data.frame: 2 × 16\n",
       "\n",
       "| <!--/--> | M &lt;dbl&gt; | So &lt;int&gt; | Ed &lt;dbl&gt; | Po1 &lt;dbl&gt; | Po2 &lt;dbl&gt; | LF &lt;dbl&gt; | M.F &lt;dbl&gt; | Pop &lt;int&gt; | NW &lt;dbl&gt; | U1 &lt;dbl&gt; | U2 &lt;dbl&gt; | Wealth &lt;int&gt; | Ineq &lt;dbl&gt; | Prob &lt;dbl&gt; | Time &lt;dbl&gt; | Crime &lt;int&gt; |\n",
       "|---|---|---|---|---|---|---|---|---|---|---|---|---|---|---|---|---|\n",
       "| 1 | 15.1 | 1 |  9.1 |  5.8 | 5.6 | 0.510 |  95.0 | 33 | 30.1 | 0.108 | 4.1 | 3940 | 26.1 | 0.084602 | 26.2011 |  791 |\n",
       "| 2 | 14.3 | 0 | 11.3 | 10.3 | 9.5 | 0.583 | 101.2 | 13 | 10.2 | 0.096 | 3.6 | 5570 | 19.4 | 0.029599 | 25.2999 | 1635 |\n",
       "\n"
      ],
      "text/plain": [
       "  M    So Ed   Po1  Po2 LF    M.F   Pop NW   U1    U2  Wealth Ineq Prob    \n",
       "1 15.1 1   9.1  5.8 5.6 0.510  95.0 33  30.1 0.108 4.1 3940   26.1 0.084602\n",
       "2 14.3 0  11.3 10.3 9.5 0.583 101.2 13  10.2 0.096 3.6 5570   19.4 0.029599\n",
       "  Time    Crime\n",
       "1 26.2011  791 \n",
       "2 25.2999 1635 "
      ]
     },
     "metadata": {},
     "output_type": "display_data"
    }
   ],
   "source": [
    "##########INGEST FILE##########\n",
    "\n",
    "#crime<- read.table(\"C:\\\\Preethi\\\\R\\\\USCrimes.txt\",header=TRUE,stringsAsFactors = FALSE,sep=\"\\t\")\n",
    "#head(data,10)\n",
    "#colClasses = c(\"numeric\", \"numeric\", \"numeric\")\n",
    "#colClasses\n",
    "data = read.table(\"C:\\\\Preethi\\\\R\\\\USCrimes.txt\",header=TRUE,stringsAsFactors = FALSE,sep=\"\\t\") \n",
    "#%>% as_tibble()\n",
    "head(data,2)"
   ]
  },
  {
   "cell_type": "markdown",
   "metadata": {},
   "source": [
    "# Question 10.1 a # Regression Tree\n",
    "## Approach taken\n",
    "1.fit a regression tree.Studying the  what predictors and splits are used in the regression tree will show \n",
    "*that only 4 variables  Po1,Pop, LF and NW are used for Tree split  \n",
    "*logic/value used to split is present in $frame parameter of the model.\n",
    "*Deviance = 47390\n",
    "*Number of terminal nodes =7\n",
    "2.plot to see the tree structure visually see the splits and predictors used for the split\n",
    "3. PRUNING:  \n",
    "-Limit the Terminal nodes to 4 and visualize the  Deviance ( quality-of-fit statistic) \n",
    "vs. the number of terminal nodes of the tree. \n",
    "-When I changed the terminal nodes count, the best visualiation on deviance \n",
    "is obtained with 4 and hence retained the same\n",
    "4. Interpret the model\n",
    "-Obtain the Sum of square error and residual for predicted vs. actual values along with the model' R sqaured value(72%)\n",
    "-for multiple values of Terminal nodes (from 1-7), obtain the residual error to understand the model with lowest errors.\n",
    "Finally use cross validation to compare the residual errors of the cross validated model\n",
    "#TAKEAWAYS\n",
    "# These errors are larger with cross validated model\n",
    "# indicating that the model does not do well with Cross validation; \n",
    "# it's just way overfit with original data"
   ]
  },
  {
   "cell_type": "code",
   "execution_count": 266,
   "metadata": {
    "collapsed": false
   },
   "outputs": [
    {
     "data": {
      "text/plain": [
       "\n",
       "Regression tree:\n",
       "tree(formula = Crime ~ ., data = data)\n",
       "Variables actually used in tree construction:\n",
       "[1] \"Po1\" \"Pop\" \"LF\"  \"NW\" \n",
       "Number of terminal nodes:  7 \n",
       "Residual mean deviance:  47390 = 1896000 / 40 \n",
       "Distribution of residuals:\n",
       "    Min.  1st Qu.   Median     Mean  3rd Qu.     Max. \n",
       "-573.900  -98.300   -1.545    0.000  110.600  490.100 "
      ]
     },
     "metadata": {},
     "output_type": "display_data"
    }
   ],
   "source": [
    "# Fit a regression tree function to the crime data\n",
    "tree.data <- tree(Crime~., data = data)\n",
    "summary(tree.data)\n",
    "#Only 4 variables Po1,Pop, LF and NW are used in regression tress\n",
    "#Deviance = 47390\n",
    "#Number of terminal nodes =7"
   ]
  },
  {
   "cell_type": "code",
   "execution_count": 17,
   "metadata": {
    "collapsed": false
   },
   "outputs": [
    {
     "data": {
      "text/html": [
       "<table class=\"dataframe\">\n",
       "<caption>A data.frame: 13 × 5</caption>\n",
       "<thead>\n",
       "\t<tr><th></th><th scope=col>var</th><th scope=col>n</th><th scope=col>dev</th><th scope=col>yval</th><th scope=col>splits</th></tr>\n",
       "\t<tr><th></th><th scope=col>&lt;fct&gt;</th><th scope=col>&lt;dbl&gt;</th><th scope=col>&lt;dbl&gt;</th><th scope=col>&lt;dbl&gt;</th><th scope=col>&lt;chr[,2]&gt;</th></tr>\n",
       "</thead>\n",
       "<tbody>\n",
       "\t<tr><th scope=row>1</th><td><span style=white-space:pre-wrap>Po1   </span></td><td>47</td><td>6880927.66</td><td> 905.0851</td><td><span style=white-space:pre-wrap>&lt;7.65  , &gt;7.65  </span></td></tr>\n",
       "\t<tr><th scope=row>2</th><td><span style=white-space:pre-wrap>Pop   </span></td><td>23</td><td> 779243.48</td><td> 669.6087</td><td><span style=white-space:pre-wrap>&lt;22.5  , &gt;22.5  </span></td></tr>\n",
       "\t<tr><th scope=row>4</th><td><span style=white-space:pre-wrap>LF    </span></td><td>12</td><td> 243811.00</td><td> 550.5000</td><td>&lt;0.5675, &gt;0.5675</td></tr>\n",
       "\t<tr><th scope=row>8</th><td>&lt;leaf&gt;</td><td> 7</td><td><span style=white-space:pre-wrap>  48518.86</span></td><td> 466.8571</td><td><span style=white-space:pre-wrap>       ,        </span></td></tr>\n",
       "\t<tr><th scope=row>9</th><td>&lt;leaf&gt;</td><td> 5</td><td><span style=white-space:pre-wrap>  77757.20</span></td><td> 667.6000</td><td><span style=white-space:pre-wrap>       ,        </span></td></tr>\n",
       "\t<tr><th scope=row>5</th><td>&lt;leaf&gt;</td><td>11</td><td> 179470.73</td><td> 799.5455</td><td><span style=white-space:pre-wrap>       ,        </span></td></tr>\n",
       "\t<tr><th scope=row>3</th><td><span style=white-space:pre-wrap>NW    </span></td><td>24</td><td>3604162.50</td><td>1130.7500</td><td><span style=white-space:pre-wrap>&lt;7.65  , &gt;7.65  </span></td></tr>\n",
       "\t<tr><th scope=row>6</th><td><span style=white-space:pre-wrap>Pop   </span></td><td>10</td><td> 557574.90</td><td> 886.9000</td><td><span style=white-space:pre-wrap>&lt;21.5  , &gt;21.5  </span></td></tr>\n",
       "\t<tr><th scope=row>12</th><td>&lt;leaf&gt;</td><td> 5</td><td> 146390.80</td><td>1049.2000</td><td><span style=white-space:pre-wrap>       ,        </span></td></tr>\n",
       "\t<tr><th scope=row>13</th><td>&lt;leaf&gt;</td><td> 5</td><td> 147771.20</td><td> 724.6000</td><td><span style=white-space:pre-wrap>       ,        </span></td></tr>\n",
       "\t<tr><th scope=row>7</th><td><span style=white-space:pre-wrap>Po1   </span></td><td>14</td><td>2027224.93</td><td>1304.9286</td><td><span style=white-space:pre-wrap>&lt;9.65  , &gt;9.65  </span></td></tr>\n",
       "\t<tr><th scope=row>14</th><td>&lt;leaf&gt;</td><td> 6</td><td> 170828.00</td><td>1041.0000</td><td><span style=white-space:pre-wrap>       ,        </span></td></tr>\n",
       "\t<tr><th scope=row>15</th><td>&lt;leaf&gt;</td><td> 8</td><td>1124984.88</td><td>1502.8750</td><td><span style=white-space:pre-wrap>       ,        </span></td></tr>\n",
       "</tbody>\n",
       "</table>\n"
      ],
      "text/latex": [
       "A data.frame: 13 × 5\n",
       "\\begin{tabular}{r|lllll}\n",
       "  & var & n & dev & yval & splits\\\\\n",
       "  & <fct> & <dbl> & <dbl> & <dbl> & <chr{[},2{]}>\\\\\n",
       "\\hline\n",
       "\t1 & Po1    & 47 & 6880927.66 &  905.0851 & <7.65  , >7.65  \\\\\n",
       "\t2 & Pop    & 23 &  779243.48 &  669.6087 & <22.5  , >22.5  \\\\\n",
       "\t4 & LF     & 12 &  243811.00 &  550.5000 & <0.5675, >0.5675\\\\\n",
       "\t8 & <leaf> &  7 &   48518.86 &  466.8571 &        ,        \\\\\n",
       "\t9 & <leaf> &  5 &   77757.20 &  667.6000 &        ,        \\\\\n",
       "\t5 & <leaf> & 11 &  179470.73 &  799.5455 &        ,        \\\\\n",
       "\t3 & NW     & 24 & 3604162.50 & 1130.7500 & <7.65  , >7.65  \\\\\n",
       "\t6 & Pop    & 10 &  557574.90 &  886.9000 & <21.5  , >21.5  \\\\\n",
       "\t12 & <leaf> &  5 &  146390.80 & 1049.2000 &        ,        \\\\\n",
       "\t13 & <leaf> &  5 &  147771.20 &  724.6000 &        ,        \\\\\n",
       "\t7 & Po1    & 14 & 2027224.93 & 1304.9286 & <9.65  , >9.65  \\\\\n",
       "\t14 & <leaf> &  6 &  170828.00 & 1041.0000 &        ,        \\\\\n",
       "\t15 & <leaf> &  8 & 1124984.88 & 1502.8750 &        ,        \\\\\n",
       "\\end{tabular}\n"
      ],
      "text/markdown": [
       "\n",
       "A data.frame: 13 × 5\n",
       "\n",
       "| <!--/--> | var &lt;fct&gt; | n &lt;dbl&gt; | dev &lt;dbl&gt; | yval &lt;dbl&gt; | splits &lt;chr[,2]&gt; |\n",
       "|---|---|---|---|---|---|\n",
       "| 1 | Po1    | 47 | 6880927.66 |  905.0851 | &lt;7.65  , &gt;7.65   |\n",
       "| 2 | Pop    | 23 |  779243.48 |  669.6087 | &lt;22.5  , &gt;22.5   |\n",
       "| 4 | LF     | 12 |  243811.00 |  550.5000 | &lt;0.5675, &gt;0.5675 |\n",
       "| 8 | &lt;leaf&gt; |  7 |   48518.86 |  466.8571 |        ,         |\n",
       "| 9 | &lt;leaf&gt; |  5 |   77757.20 |  667.6000 |        ,         |\n",
       "| 5 | &lt;leaf&gt; | 11 |  179470.73 |  799.5455 |        ,         |\n",
       "| 3 | NW     | 24 | 3604162.50 | 1130.7500 | &lt;7.65  , &gt;7.65   |\n",
       "| 6 | Pop    | 10 |  557574.90 |  886.9000 | &lt;21.5  , &gt;21.5   |\n",
       "| 12 | &lt;leaf&gt; |  5 |  146390.80 | 1049.2000 |        ,         |\n",
       "| 13 | &lt;leaf&gt; |  5 |  147771.20 |  724.6000 |        ,         |\n",
       "| 7 | Po1    | 14 | 2027224.93 | 1304.9286 | &lt;9.65  , &gt;9.65   |\n",
       "| 14 | &lt;leaf&gt; |  6 |  170828.00 | 1041.0000 |        ,         |\n",
       "| 15 | &lt;leaf&gt; |  8 | 1124984.88 | 1502.8750 |        ,         |\n",
       "\n"
      ],
      "text/plain": [
       "   var    n  dev        yval      splits          \n",
       "1  Po1    47 6880927.66  905.0851 <7.65  , >7.65  \n",
       "2  Pop    23  779243.48  669.6087 <22.5  , >22.5  \n",
       "4  LF     12  243811.00  550.5000 <0.5675, >0.5675\n",
       "8  <leaf>  7   48518.86  466.8571        ,        \n",
       "9  <leaf>  5   77757.20  667.6000        ,        \n",
       "5  <leaf> 11  179470.73  799.5455        ,        \n",
       "3  NW     24 3604162.50 1130.7500 <7.65  , >7.65  \n",
       "6  Pop    10  557574.90  886.9000 <21.5  , >21.5  \n",
       "12 <leaf>  5  146390.80 1049.2000        ,        \n",
       "13 <leaf>  5  147771.20  724.6000        ,        \n",
       "7  Po1    14 2027224.93 1304.9286 <9.65  , >9.65  \n",
       "14 <leaf>  6  170828.00 1041.0000        ,        \n",
       "15 <leaf>  8 1124984.88 1502.8750        ,        "
      ]
     },
     "metadata": {},
     "output_type": "display_data"
    }
   ],
   "source": [
    "# More information about the way the tree was split\n",
    "#Only 4 variables Po1,Pop, LF and NW have split amount (Tree splits are based on these variables)\n",
    "tree.data$frame"
   ]
  },
  {
   "cell_type": "code",
   "execution_count": 15,
   "metadata": {
    "collapsed": false
   },
   "outputs": [
    {
     "data": {
      "image/png": "[encoded data removed]",
      "text/plain": [
       "plot without title"
      ]
     },
     "metadata": {
      "image/png": {
       "height": 420,
       "width": 420
      }
     },
     "output_type": "display_data"
    }
   ],
   "source": [
    "# Plot the regression tree\n",
    "\n",
    "plot(tree.data)\n",
    "text(tree.data)"
   ]
  },
  {
   "cell_type": "markdown",
   "metadata": {},
   "source": [
    "# Determine if pruning the tree will improve performance through cross-validation"
   ]
  },
  {
   "cell_type": "code",
   "execution_count": null,
   "metadata": {
    "collapsed": true
   },
   "outputs": [],
   "source": [
    "#How?\n",
    "# by looking at the deviance of trees with different number of terminal nodes.\n",
    "# Deviance is a quality-of-fit statistic.\n",
    "# The x-axis represents the number of terminal nodes."
   ]
  },
  {
   "cell_type": "code",
   "execution_count": 271,
   "metadata": {
    "collapsed": false
   },
   "outputs": [
    {
     "data": {
      "image/png": "[encoded data removed]",
      "text/plain": [
       "plot without title"
      ]
     },
     "metadata": {
      "image/png": {
       "height": 420,
       "width": 420
      }
     },
     "output_type": "display_data"
    }
   ],
   "source": [
    "#x-axis is # of terminal nodes(from tree viz above,it is 7)\n",
    "cv.data <- cv.tree(tree.data)\n",
    "plot(cv.data$size, cv.data$dev, type = \"b\")"
   ]
  },
  {
   "cell_type": "code",
   "execution_count": 19,
   "metadata": {
    "collapsed": true
   },
   "outputs": [],
   "source": [
    "# This plot suggests that we get the best fit using all of the terminal nodes in the\n",
    "# tree that we already plotted.\n",
    "# prune the tree by limiting the number of terminal nodes of the tree if this\n",
    "# is desired. This is just one example of how you can prune a regression tree."
   ]
  },
  {
   "cell_type": "code",
   "execution_count": 276,
   "metadata": {
    "collapsed": false
   },
   "outputs": [],
   "source": [
    "termnodes <- 4 # Change this parameter to determine the leaf nodes\n",
    "prune.data <- prune.tree(tree.data, best = termnodes)"
   ]
  },
  {
   "cell_type": "code",
   "execution_count": 277,
   "metadata": {
    "collapsed": false
   },
   "outputs": [
    {
     "data": {
      "image/png": "[encoded data removed]",
      "text/plain": [
       "plot without title"
      ]
     },
     "metadata": {
      "image/png": {
       "height": 420,
       "width": 420
      }
     },
     "output_type": "display_data"
    }
   ],
   "source": [
    "#Plot the pruned tree' deviation\n",
    "plot(cv.data$size, prune.data$dev, type = \"b\")"
   ]
  },
  {
   "cell_type": "code",
   "execution_count": 26,
   "metadata": {
    "collapsed": false
   },
   "outputs": [
    {
     "data": {
      "image/png": "[encoded data removed]",
      "text/plain": [
       "plot without title"
      ]
     },
     "metadata": {
      "image/png": {
       "height": 420,
       "width": 420
      }
     },
     "output_type": "display_data"
    }
   ],
   "source": [
    "# Plot the pruned tree\n",
    "plot(prune.data)\n",
    "text(prune.data)"
   ]
  },
  {
   "cell_type": "markdown",
   "metadata": {},
   "source": [
    "# Analysis#1  (Total variation in the dependent variable)"
   ]
  },
  {
   "cell_type": "code",
   "execution_count": 29,
   "metadata": {
    "collapsed": false
   },
   "outputs": [
    {
     "data": {
      "text/html": [
       "1895721.65941558"
      ],
      "text/latex": [
       "1895721.65941558"
      ],
      "text/markdown": [
       "1895721.65941558"
      ],
      "text/plain": [
       "[1] 1895722"
      ]
     },
     "metadata": {},
     "output_type": "display_data"
    }
   ],
   "source": [
    "#Decision: use unpruned regression model?\n",
    "# Calculate SSres of the unpruned regression model.\n",
    "\n",
    "yhat <- predict(tree.data)\n",
    "SSres <- sum((yhat-data$Crime)^2)\n",
    "SSres "
   ]
  },
  {
   "cell_type": "code",
   "execution_count": 30,
   "metadata": {
    "collapsed": false
   },
   "outputs": [
    {
     "data": {
      "image/png": "[encoded data removed]",
      "text/plain": [
       "plot without title"
      ]
     },
     "metadata": {
      "image/png": {
       "height": 420,
       "width": 420
      }
     },
     "output_type": "display_data"
    }
   ],
   "source": [
    "# Plot of actual vs. predicted crime values\n",
    "\n",
    "plot(data$Crime, yhat)\n",
    "abline(0,1)"
   ]
  },
  {
   "cell_type": "code",
   "execution_count": 31,
   "metadata": {
    "collapsed": false
   },
   "outputs": [
    {
     "data": {
      "image/png": "[encoded data removed]",
      "text/plain": [
       "plot without title"
      ]
     },
     "metadata": {
      "image/png": {
       "height": 420,
       "width": 420
      }
     },
     "output_type": "display_data"
    }
   ],
   "source": [
    "# Plot the residuals\n",
    "\n",
    "plot(data$Crime, scale(yhat - data$Crime))\n",
    "abline(0,0)"
   ]
  },
  {
   "cell_type": "code",
   "execution_count": 35,
   "metadata": {
    "collapsed": false
   },
   "outputs": [
    {
     "data": {
      "text/html": [
       "<style>\n",
       ".list-inline {list-style: none; margin:0; padding: 0}\n",
       ".list-inline>li {display: inline-block}\n",
       ".list-inline>li:not(:last-child)::after {content: \"\\00b7\"; padding: 0 .5ex}\n",
       "</style>\n",
       "<ol class=list-inline><li>7</li><li>6</li><li>5</li><li>4</li><li>3</li><li>2</li><li>1</li></ol>\n"
      ],
      "text/latex": [
       "\\begin{enumerate*}\n",
       "\\item 7\n",
       "\\item 6\n",
       "\\item 5\n",
       "\\item 4\n",
       "\\item 3\n",
       "\\item 2\n",
       "\\item 1\n",
       "\\end{enumerate*}\n"
      ],
      "text/markdown": [
       "1. 7\n",
       "2. 6\n",
       "3. 5\n",
       "4. 4\n",
       "5. 3\n",
       "6. 2\n",
       "7. 1\n",
       "\n",
       "\n"
      ],
      "text/plain": [
       "[1] 7 6 5 4 3 2 1"
      ]
     },
     "metadata": {},
     "output_type": "display_data"
    },
    {
     "data": {
      "text/html": [
       "<style>\n",
       ".list-inline {list-style: none; margin:0; padding: 0}\n",
       ".list-inline>li {display: inline-block}\n",
       ".list-inline>li:not(:last-child)::after {content: \"\\00b7\"; padding: 0 .5ex}\n",
       "</style>\n",
       "<ol class=list-inline><li>1895721.65941558</li><li>2013256.60227273</li><li>2276669.50227273</li><li>2632631.25326087</li><li>3364043.3068323</li><li>4383405.97826087</li><li>6880927.65957447</li></ol>\n"
      ],
      "text/latex": [
       "\\begin{enumerate*}\n",
       "\\item 1895721.65941558\n",
       "\\item 2013256.60227273\n",
       "\\item 2276669.50227273\n",
       "\\item 2632631.25326087\n",
       "\\item 3364043.3068323\n",
       "\\item 4383405.97826087\n",
       "\\item 6880927.65957447\n",
       "\\end{enumerate*}\n"
      ],
      "text/markdown": [
       "1. 1895721.65941558\n",
       "2. 2013256.60227273\n",
       "3. 2276669.50227273\n",
       "4. 2632631.25326087\n",
       "5. 3364043.3068323\n",
       "6. 4383405.97826087\n",
       "7. 6880927.65957447\n",
       "\n",
       "\n"
      ],
      "text/plain": [
       "[1] 1895722 2013257 2276670 2632631 3364043 4383406 6880928"
      ]
     },
     "metadata": {},
     "output_type": "display_data"
    }
   ],
   "source": [
    "prune.tree(tree.data)$size\n",
    "prune.tree(tree.data)$dev\n",
    "#below shows all terminal nodes and the residual errors with each of the nodes"
   ]
  },
  {
   "cell_type": "code",
   "execution_count": 36,
   "metadata": {
    "collapsed": false
   },
   "outputs": [
    {
     "data": {
      "text/html": [
       "<style>\n",
       ".list-inline {list-style: none; margin:0; padding: 0}\n",
       ".list-inline>li {display: inline-block}\n",
       ".list-inline>li:not(:last-child)::after {content: \"\\00b7\"; padding: 0 .5ex}\n",
       "</style>\n",
       "<ol class=list-inline><li>7</li><li>6</li><li>5</li><li>4</li><li>3</li><li>2</li><li>1</li></ol>\n"
      ],
      "text/latex": [
       "\\begin{enumerate*}\n",
       "\\item 7\n",
       "\\item 6\n",
       "\\item 5\n",
       "\\item 4\n",
       "\\item 3\n",
       "\\item 2\n",
       "\\item 1\n",
       "\\end{enumerate*}\n"
      ],
      "text/markdown": [
       "1. 7\n",
       "2. 6\n",
       "3. 5\n",
       "4. 4\n",
       "5. 3\n",
       "6. 2\n",
       "7. 1\n",
       "\n",
       "\n"
      ],
      "text/plain": [
       "[1] 7 6 5 4 3 2 1"
      ]
     },
     "metadata": {},
     "output_type": "display_data"
    },
    {
     "data": {
      "text/html": [
       "<style>\n",
       ".list-inline {list-style: none; margin:0; padding: 0}\n",
       ".list-inline>li {display: inline-block}\n",
       ".list-inline>li:not(:last-child)::after {content: \"\\00b7\"; padding: 0 .5ex}\n",
       "</style>\n",
       "<ol class=list-inline><li>8919913.73415682</li><li>8896137.01209577</li><li>8853786.97647446</li><li>8916545.24474757</li><li>8127298.23326752</li><li>7539144.63193484</li><li>8565824.837243</li></ol>\n"
      ],
      "text/latex": [
       "\\begin{enumerate*}\n",
       "\\item 8919913.73415682\n",
       "\\item 8896137.01209577\n",
       "\\item 8853786.97647446\n",
       "\\item 8916545.24474757\n",
       "\\item 8127298.23326752\n",
       "\\item 7539144.63193484\n",
       "\\item 8565824.837243\n",
       "\\end{enumerate*}\n"
      ],
      "text/markdown": [
       "1. 8919913.73415682\n",
       "2. 8896137.01209577\n",
       "3. 8853786.97647446\n",
       "4. 8916545.24474757\n",
       "5. 8127298.23326752\n",
       "6. 7539144.63193484\n",
       "7. 8565824.837243\n",
       "\n",
       "\n"
      ],
      "text/plain": [
       "[1] 8919914 8896137 8853787 8916545 8127298 7539145 8565825"
      ]
     },
     "metadata": {},
     "output_type": "display_data"
    }
   ],
   "source": [
    "# Now, compare with the sum of squared errors in cross-validation:\n",
    "\n",
    "cv.data <- cv.tree(tree.data) # cross-validation\n",
    "cv.data$size\n",
    "cv.data$dev"
   ]
  },
  {
   "cell_type": "code",
   "execution_count": null,
   "metadata": {
    "collapsed": true
   },
   "outputs": [],
   "source": [
    "#RESULTS\n",
    "# These errors are larger\n",
    "# indicating that the model does not do well with Cross validation; \n",
    "# it's just way overfit with original data"
   ]
  },
  {
   "cell_type": "markdown",
   "metadata": {},
   "source": [
    "# Analysis#2  (R2 value)"
   ]
  },
  {
   "cell_type": "code",
   "execution_count": 32,
   "metadata": {
    "collapsed": false
   },
   "outputs": [
    {
     "data": {
      "text/html": [
       "0.724496208475934"
      ],
      "text/latex": [
       "0.724496208475934"
      ],
      "text/markdown": [
       "0.724496208475934"
      ],
      "text/plain": [
       "[1] 0.7244962"
      ]
     },
     "metadata": {},
     "output_type": "display_data"
    }
   ],
   "source": [
    "#Quality of the Regression model\n",
    "#Calculate SStot and R-squared of this model on the training data\n",
    "\n",
    "SStot <- sum((data$Crime - mean(data$Crime))^2)\n",
    "R2 <- 1 - SSres/SStot\n",
    "R2\n",
    "#R2 is 0.72 showing the model fit is good"
   ]
  },
  {
   "cell_type": "markdown",
   "metadata": {},
   "source": [
    "# Question 10.1 # Random Forest ##Approach Taken\n",
    "1) Use randomforest libary to create a model. \n",
    "I have setup number of splits as 4 based on regression trees optimal split\n",
    "#mtry:Number of variables available for splitting at each tree node.\n",
    "It generates a forest with 500 tress and mean square error of 82187\n",
    "2) Fit the model and compare the fit with the actual data points.\n",
    "3) calculate the sum of square residual and plot the residuals\n",
    "4) Random trees R2 value is 0.43 vs. 0.72 Regression trees\n",
    "5) Also , the Residual error is far less than the regression tree (as noted in the lectures)\n"
   ]
  },
  {
   "cell_type": "code",
   "execution_count": 43,
   "metadata": {
    "collapsed": false
   },
   "outputs": [],
   "source": [
    "#LIBRARIES\n",
    "#install.packages(\"randomForest\")\n",
    "library(randomForest)"
   ]
  },
  {
   "cell_type": "code",
   "execution_count": 45,
   "metadata": {
    "collapsed": false
   },
   "outputs": [
    {
     "data": {
      "text/plain": [
       "\n",
       "Call:\n",
       " randomForest(formula = Crime ~ ., data = data, mtry = numpred,      importance = TRUE) \n",
       "               Type of random forest: regression\n",
       "                     Number of trees: 500\n",
       "No. of variables tried at each split: 4\n",
       "\n",
       "          Mean of squared residuals: 82187.74\n",
       "                    % Var explained: 43.86"
      ]
     },
     "metadata": {},
     "output_type": "display_data"
    }
   ],
   "source": [
    "numpred <- 4\n",
    "rf.data <- randomForest(Crime~., data = data, mtry = numpred, importance = TRUE)\n",
    "rf.data"
   ]
  },
  {
   "cell_type": "code",
   "execution_count": null,
   "metadata": {
    "collapsed": true
   },
   "outputs": [],
   "source": [
    "#Above shows 500 trees and mean square error is 82187"
   ]
  },
  {
   "cell_type": "markdown",
   "metadata": {},
   "source": [
    "# Random Forest Model' quality"
   ]
  },
  {
   "cell_type": "code",
   "execution_count": 47,
   "metadata": {
    "collapsed": false
   },
   "outputs": [
    {
     "data": {
      "text/html": [
       "3862823.55033399"
      ],
      "text/latex": [
       "3862823.55033399"
      ],
      "text/markdown": [
       "3862823.55033399"
      ],
      "text/plain": [
       "[1] 3862824"
      ]
     },
     "metadata": {},
     "output_type": "display_data"
    }
   ],
   "source": [
    "# Calculate SSres of the random forest model\n",
    "\n",
    "yhat.rf <- predict(rf.data)\n",
    "SSres <- sum((yhat.rf-data$Crime)^2)\n",
    "SSres"
   ]
  },
  {
   "cell_type": "code",
   "execution_count": 49,
   "metadata": {
    "collapsed": false
   },
   "outputs": [
    {
     "data": {
      "image/png": "[encoded data removed]",
      "text/plain": [
       "plot without title"
      ]
     },
     "metadata": {
      "image/png": {
       "height": 420,
       "width": 420
      }
     },
     "output_type": "display_data"
    }
   ],
   "source": [
    "# Plot of actual vs. predicted crime values\n",
    "\n",
    "plot(data$Crime, yhat.rf)\n",
    "abline(0,1)"
   ]
  },
  {
   "cell_type": "code",
   "execution_count": 50,
   "metadata": {
    "collapsed": false
   },
   "outputs": [
    {
     "data": {
      "image/png": "[encoded data removed]",
      "text/plain": [
       "plot without title"
      ]
     },
     "metadata": {
      "image/png": {
       "height": 420,
       "width": 420
      }
     },
     "output_type": "display_data"
    }
   ],
   "source": [
    "# Plot residuals\n",
    "\n",
    "plot(data$Crime, scale(yhat.rf - data$Crime))\n",
    "abline(0,0)\n"
   ]
  },
  {
   "cell_type": "markdown",
   "metadata": {},
   "source": [
    "# Analysis and Intepreting the Random forest trees"
   ]
  },
  {
   "cell_type": "code",
   "execution_count": 59,
   "metadata": {
    "collapsed": false
   },
   "outputs": [
    {
     "data": {
      "text/html": [
       "0.438618782024389"
      ],
      "text/latex": [
       "0.438618782024389"
      ],
      "text/markdown": [
       "0.438618782024389"
      ],
      "text/plain": [
       "[1] 0.4386188"
      ]
     },
     "metadata": {},
     "output_type": "display_data"
    }
   ],
   "source": [
    "# Calculate SStot and R-squared of this model\n",
    "\n",
    "SStot <- sum((data$Crime - mean(data$Crime))^2)\n",
    "R2 <- 1 - SSres/SStot\n",
    "R2\n",
    "#Model quality of random is 0.43 vs. 0.72 Regression trees"
   ]
  },
  {
   "cell_type": "code",
   "execution_count": 60,
   "metadata": {
    "collapsed": false
   },
   "outputs": [
    {
     "data": {
      "text/html": [
       "<strong>1:</strong> 0.43553737284783"
      ],
      "text/latex": [
       "\\textbf{1:} 0.43553737284783"
      ],
      "text/markdown": [
       "**1:** 0.43553737284783"
      ],
      "text/plain": [
       "        1 \n",
       "0.4355374 "
      ]
     },
     "metadata": {},
     "output_type": "display_data"
    }
   ],
   "source": [
    "# leave-one-out cross-validation on Random forest\n",
    "\n",
    "SSE <- 0\n",
    "\n",
    "for (i in 1:nrow(data)) {\n",
    "  rd <- randomForest(Crime~., data = data[-i,], mtry = numpred, importance = TRUE)\n",
    "  SSE = SSE + (predict(rd,newdata=data[i,]) - data[i,16])^2\n",
    "}\n",
    "1 - SSE/SStot\n",
    "#Residual error(The error is much better than the regression tree)"
   ]
  },
  {
   "cell_type": "code",
   "execution_count": 55,
   "metadata": {
    "collapsed": true
   },
   "outputs": [],
   "source": [
    "#This model seems to take the best of the process just like in the lectures"
   ]
  },
  {
   "cell_type": "code",
   "execution_count": 57,
   "metadata": {
    "collapsed": false
   },
   "outputs": [
    {
     "data": {
      "text/html": [
       "<table class=\"dataframe\">\n",
       "<caption>A matrix: 15 × 2 of type dbl</caption>\n",
       "<thead>\n",
       "\t<tr><th></th><th scope=col>%IncMSE</th><th scope=col>IncNodePurity</th></tr>\n",
       "</thead>\n",
       "<tbody>\n",
       "\t<tr><th scope=row>M</th><td> 1.00434273</td><td> 199324.76</td></tr>\n",
       "\t<tr><th scope=row>So</th><td> 3.32835988</td><td>  30718.92</td></tr>\n",
       "\t<tr><th scope=row>Ed</th><td> 2.77855877</td><td> 208227.61</td></tr>\n",
       "\t<tr><th scope=row>Po1</th><td>10.29965085</td><td>1174840.68</td></tr>\n",
       "\t<tr><th scope=row>Po2</th><td>10.72770654</td><td> 941376.07</td></tr>\n",
       "\t<tr><th scope=row>LF</th><td> 2.27372307</td><td> 287574.89</td></tr>\n",
       "\t<tr><th scope=row>M.F</th><td> 2.51930528</td><td> 282323.77</td></tr>\n",
       "\t<tr><th scope=row>Pop</th><td> 2.43114058</td><td> 340008.58</td></tr>\n",
       "\t<tr><th scope=row>NW</th><td> 8.03090795</td><td> 569033.69</td></tr>\n",
       "\t<tr><th scope=row>U1</th><td>-0.09193546</td><td> 141520.89</td></tr>\n",
       "\t<tr><th scope=row>U2</th><td>-0.17281743</td><td> 226691.08</td></tr>\n",
       "\t<tr><th scope=row>Wealth</th><td> 4.72864245</td><td> 579328.33</td></tr>\n",
       "\t<tr><th scope=row>Ineq</th><td> 1.03493447</td><td> 253017.29</td></tr>\n",
       "\t<tr><th scope=row>Prob</th><td>10.16129757</td><td> 817676.11</td></tr>\n",
       "\t<tr><th scope=row>Time</th><td> 1.28598153</td><td> 182623.84</td></tr>\n",
       "</tbody>\n",
       "</table>\n"
      ],
      "text/latex": [
       "A matrix: 15 × 2 of type dbl\n",
       "\\begin{tabular}{r|ll}\n",
       "  & \\%IncMSE & IncNodePurity\\\\\n",
       "\\hline\n",
       "\tM &  1.00434273 &  199324.76\\\\\n",
       "\tSo &  3.32835988 &   30718.92\\\\\n",
       "\tEd &  2.77855877 &  208227.61\\\\\n",
       "\tPo1 & 10.29965085 & 1174840.68\\\\\n",
       "\tPo2 & 10.72770654 &  941376.07\\\\\n",
       "\tLF &  2.27372307 &  287574.89\\\\\n",
       "\tM.F &  2.51930528 &  282323.77\\\\\n",
       "\tPop &  2.43114058 &  340008.58\\\\\n",
       "\tNW &  8.03090795 &  569033.69\\\\\n",
       "\tU1 & -0.09193546 &  141520.89\\\\\n",
       "\tU2 & -0.17281743 &  226691.08\\\\\n",
       "\tWealth &  4.72864245 &  579328.33\\\\\n",
       "\tIneq &  1.03493447 &  253017.29\\\\\n",
       "\tProb & 10.16129757 &  817676.11\\\\\n",
       "\tTime &  1.28598153 &  182623.84\\\\\n",
       "\\end{tabular}\n"
      ],
      "text/markdown": [
       "\n",
       "A matrix: 15 × 2 of type dbl\n",
       "\n",
       "| <!--/--> | %IncMSE | IncNodePurity |\n",
       "|---|---|---|\n",
       "| M |  1.00434273 |  199324.76 |\n",
       "| So |  3.32835988 |   30718.92 |\n",
       "| Ed |  2.77855877 |  208227.61 |\n",
       "| Po1 | 10.29965085 | 1174840.68 |\n",
       "| Po2 | 10.72770654 |  941376.07 |\n",
       "| LF |  2.27372307 |  287574.89 |\n",
       "| M.F |  2.51930528 |  282323.77 |\n",
       "| Pop |  2.43114058 |  340008.58 |\n",
       "| NW |  8.03090795 |  569033.69 |\n",
       "| U1 | -0.09193546 |  141520.89 |\n",
       "| U2 | -0.17281743 |  226691.08 |\n",
       "| Wealth |  4.72864245 |  579328.33 |\n",
       "| Ineq |  1.03493447 |  253017.29 |\n",
       "| Prob | 10.16129757 |  817676.11 |\n",
       "| Time |  1.28598153 |  182623.84 |\n",
       "\n"
      ],
      "text/plain": [
       "       %IncMSE     IncNodePurity\n",
       "M       1.00434273  199324.76   \n",
       "So      3.32835988   30718.92   \n",
       "Ed      2.77855877  208227.61   \n",
       "Po1    10.29965085 1174840.68   \n",
       "Po2    10.72770654  941376.07   \n",
       "LF      2.27372307  287574.89   \n",
       "M.F     2.51930528  282323.77   \n",
       "Pop     2.43114058  340008.58   \n",
       "NW      8.03090795  569033.69   \n",
       "U1     -0.09193546  141520.89   \n",
       "U2     -0.17281743  226691.08   \n",
       "Wealth  4.72864245  579328.33   \n",
       "Ineq    1.03493447  253017.29   \n",
       "Prob   10.16129757  817676.11   \n",
       "Time    1.28598153  182623.84   "
      ]
     },
     "metadata": {},
     "output_type": "display_data"
    }
   ],
   "source": [
    "importance(rf.data)"
   ]
  },
  {
   "cell_type": "code",
   "execution_count": 58,
   "metadata": {
    "collapsed": false
   },
   "outputs": [
    {
     "data": {
      "image/png": "[encoded data removed]",
      "text/plain": [
       "plot without title"
      ]
     },
     "metadata": {
      "image/png": {
       "height": 420,
       "width": 420
      }
     },
     "output_type": "display_data"
    }
   ],
   "source": [
    "# Plots of these importance measures\n",
    "\n",
    "varImpPlot(rf.data)"
   ]
  },
  {
   "cell_type": "markdown",
   "metadata": {},
   "source": [
    "# Question 10.2\n",
    "Describe a situation or problem from your job, everyday life, current events, etc., \n",
    "for which a logistic regression model would be appropriate. \n",
    "List some (up to 5) predictors that you might use."
   ]
  },
  {
   "cell_type": "raw",
   "metadata": {
    "raw_mimetype": "text/markdown"
   },
   "source": [
    "In a trucking organization, due to high attrition and challenges with finding new drivers to transport the commodities \n",
    "efficiently,Human Resources department introduced employee referral programs to identify new workforce .\n",
    "As this program has been active for over over 6 months, management would like to understand the probability of an employee being recruited utilizing the referral program to drive the decision on program' continuity\n",
    "\n",
    "Logistic regression can be used as a classification model to understand the response variable in the model and it has two potential outcomes:\n",
    "1)  Referred candidates turned to an Employee\n",
    "2)  Referred candidates are fallouts during  HR recritment process\n",
    "\n",
    "Using Logistic regression offers probability functions based on predictors and their corresponding output.\n",
    "We can include steps to reduce correlated variables, find out which variables affect the final result of the predictions more using \"n\" principal components for selecting predictors\n",
    "Below are the predictors that can be used to obtain prediction of probability of a new candidate sourced from referral program to assist with the management' decision\n",
    "1)  Status: values include Hired, Medical screening,In-Interview \n",
    "2)  Relationship of referred candidates with the referee\n",
    "3)  Candidates Location : same as the requested location of the Job offer\n",
    "4)  Relocation flexibility\n",
    "5)  Qualification fit to the Job description\n",
    "6)  Employee demographics\n"
   ]
  },
  {
   "cell_type": "markdown",
   "metadata": {},
   "source": [
    "# Question 10.3(a)\n",
    "##Input:\n",
    "1.\tUsing the GermanCredit data set germancredit.txt \n",
    "from http://archive.ics.uci.edu/ml/machine-learning-databases/statlog/german / \n",
    "(description at http://archive.ics.uci.edu/ml/datasets/Statlog+%28German+Credit+Data%29 ), \n",
    "##Ask:\n",
    "use logistic regression to find a good predictive model for whether credit applicants are good credit risks or not.  \n",
    "Show your model (factors used and their coefficients), the software output, and the quality of fit. \n",
    "##Ideas:\n",
    "You can use the glm function in R. \n",
    "To get a logistic regression (logit) model on data where the response is either zero or one, \n",
    "use family=binomial(link=”logit”) in your glm function call."
   ]
  },
  {
   "cell_type": "markdown",
   "metadata": {},
   "source": [
    "# Approach for Logistic Regression\n",
    "##PART#!\n",
    "\n",
    "1) Since binomial family of glm recognises 0 and 1 as the classfication values, I converted the 1s and 2s to 0 and 1 for response variable(y)\n",
    "2) Using validation split the data into trainind and validation set\n",
    "3)Using glm and logit (logistic regression), fit a model. AIC is 713 for this model using all predictors\n",
    "Input Transformation:\n",
    "4) 2nd iteration=>fit the model only using categorical predictors.\n",
    "#AIC is 734(high) vs.701 using all predictorsfit the model only using categorical predictors.\n",
    "5) 3rd iteration=>fit the model only using SIGNIFICANT categorical predictors.\n",
    "#This model has a lower AIC of 98(when run for first time), the second time shows 701 (when re-run) vs. 734 with all predictors shows the model' fit\n",
    "Response Transformation:\n",
    "6)In addition to binary conversion of response, the predictors used in the 3rd iteration are converted to 0 and 1 classification value as not all values of the categorical predictors are significant\n",
    "7) Predict the model and created a confusion matrix vs. the validation set.\n",
    "8)Accuracy of the model is 74% (# Model's accuracy is (170 + 43) / (170 + 53 + 43 + 34) = 74%.) and specificity if 84%\n",
    "9)Using proc library, plotted the ROC curve with area under the curve(AUC) = 69%. \n",
    "This means that whenever a sample is chosen from the response group \n",
    "and another sample is chosen from the non-response group, then \n",
    "the model will correctly classify both the samples 68% of the times!"
   ]
  },
  {
   "cell_type": "code",
   "execution_count": 228,
   "metadata": {
    "collapsed": true
   },
   "outputs": [],
   "source": [
    "# Set the seed to produce reproducible results as random sampling is done in \n",
    "#the next step\n",
    "\n",
    "set.seed(1)\n",
    "rm(list = ls())"
   ]
  },
  {
   "cell_type": "code",
   "execution_count": 279,
   "metadata": {
    "collapsed": true
   },
   "outputs": [],
   "source": [
    "#LIbRARY\n",
    "library(pROC) #ROC graph"
   ]
  },
  {
   "cell_type": "code",
   "execution_count": 281,
   "metadata": {
    "collapsed": false
   },
   "outputs": [
    {
     "data": {
      "text/html": [
       "<table class=\"dataframe\">\n",
       "<caption>A tibble: 3 × 21</caption>\n",
       "<thead>\n",
       "\t<tr><th scope=col>A11</th><th scope=col>X6</th><th scope=col>A34</th><th scope=col>A43</th><th scope=col>X1169</th><th scope=col>A65</th><th scope=col>A75</th><th scope=col>X4</th><th scope=col>A93</th><th scope=col>A101</th><th scope=col>...</th><th scope=col>A121</th><th scope=col>X67</th><th scope=col>A143</th><th scope=col>A152</th><th scope=col>X2</th><th scope=col>A173</th><th scope=col>X1</th><th scope=col>A192</th><th scope=col>A201</th><th scope=col>X1.1</th></tr>\n",
       "\t<tr><th scope=col>&lt;chr&gt;</th><th scope=col>&lt;int&gt;</th><th scope=col>&lt;chr&gt;</th><th scope=col>&lt;chr&gt;</th><th scope=col>&lt;int&gt;</th><th scope=col>&lt;chr&gt;</th><th scope=col>&lt;chr&gt;</th><th scope=col>&lt;int&gt;</th><th scope=col>&lt;chr&gt;</th><th scope=col>&lt;chr&gt;</th><th scope=col>...</th><th scope=col>&lt;chr&gt;</th><th scope=col>&lt;int&gt;</th><th scope=col>&lt;chr&gt;</th><th scope=col>&lt;chr&gt;</th><th scope=col>&lt;int&gt;</th><th scope=col>&lt;chr&gt;</th><th scope=col>&lt;int&gt;</th><th scope=col>&lt;chr&gt;</th><th scope=col>&lt;chr&gt;</th><th scope=col>&lt;int&gt;</th></tr>\n",
       "</thead>\n",
       "<tbody>\n",
       "\t<tr><td>A12</td><td>48</td><td>A32</td><td>A43</td><td>5951</td><td>A61</td><td>A73</td><td>2</td><td>A92</td><td>A101</td><td>...</td><td>A121</td><td>22</td><td>A143</td><td>A152</td><td>1</td><td>A173</td><td>1</td><td>A191</td><td>A201</td><td>2</td></tr>\n",
       "\t<tr><td>A14</td><td>12</td><td>A34</td><td>A46</td><td>2096</td><td>A61</td><td>A74</td><td>2</td><td>A93</td><td>A101</td><td>...</td><td>A121</td><td>49</td><td>A143</td><td>A152</td><td>1</td><td>A172</td><td>2</td><td>A191</td><td>A201</td><td>1</td></tr>\n",
       "\t<tr><td>A11</td><td>42</td><td>A32</td><td>A42</td><td>7882</td><td>A61</td><td>A74</td><td>2</td><td>A93</td><td>A103</td><td>...</td><td>A122</td><td>45</td><td>A143</td><td>A153</td><td>1</td><td>A173</td><td>2</td><td>A191</td><td>A201</td><td>1</td></tr>\n",
       "</tbody>\n",
       "</table>\n"
      ],
      "text/latex": [
       "A tibble: 3 × 21\n",
       "\\begin{tabular}{lllllllllllllllllllll}\n",
       " A11 & X6 & A34 & A43 & X1169 & A65 & A75 & X4 & A93 & A101 & ... & A121 & X67 & A143 & A152 & X2 & A173 & X1 & A192 & A201 & X1.1\\\\\n",
       " <chr> & <int> & <chr> & <chr> & <int> & <chr> & <chr> & <int> & <chr> & <chr> & ... & <chr> & <int> & <chr> & <chr> & <int> & <chr> & <int> & <chr> & <chr> & <int>\\\\\n",
       "\\hline\n",
       "\t A12 & 48 & A32 & A43 & 5951 & A61 & A73 & 2 & A92 & A101 & ... & A121 & 22 & A143 & A152 & 1 & A173 & 1 & A191 & A201 & 2\\\\\n",
       "\t A14 & 12 & A34 & A46 & 2096 & A61 & A74 & 2 & A93 & A101 & ... & A121 & 49 & A143 & A152 & 1 & A172 & 2 & A191 & A201 & 1\\\\\n",
       "\t A11 & 42 & A32 & A42 & 7882 & A61 & A74 & 2 & A93 & A103 & ... & A122 & 45 & A143 & A153 & 1 & A173 & 2 & A191 & A201 & 1\\\\\n",
       "\\end{tabular}\n"
      ],
      "text/markdown": [
       "\n",
       "A tibble: 3 × 21\n",
       "\n",
       "| A11 &lt;chr&gt; | X6 &lt;int&gt; | A34 &lt;chr&gt; | A43 &lt;chr&gt; | X1169 &lt;int&gt; | A65 &lt;chr&gt; | A75 &lt;chr&gt; | X4 &lt;int&gt; | A93 &lt;chr&gt; | A101 &lt;chr&gt; | ... ... | A121 &lt;chr&gt; | X67 &lt;int&gt; | A143 &lt;chr&gt; | A152 &lt;chr&gt; | X2 &lt;int&gt; | A173 &lt;chr&gt; | X1 &lt;int&gt; | A192 &lt;chr&gt; | A201 &lt;chr&gt; | X1.1 &lt;int&gt; |\n",
       "|---|---|---|---|---|---|---|---|---|---|---|---|---|---|---|---|---|---|---|---|---|\n",
       "| A12 | 48 | A32 | A43 | 5951 | A61 | A73 | 2 | A92 | A101 | ... | A121 | 22 | A143 | A152 | 1 | A173 | 1 | A191 | A201 | 2 |\n",
       "| A14 | 12 | A34 | A46 | 2096 | A61 | A74 | 2 | A93 | A101 | ... | A121 | 49 | A143 | A152 | 1 | A172 | 2 | A191 | A201 | 1 |\n",
       "| A11 | 42 | A32 | A42 | 7882 | A61 | A74 | 2 | A93 | A103 | ... | A122 | 45 | A143 | A153 | 1 | A173 | 2 | A191 | A201 | 1 |\n",
       "\n"
      ],
      "text/plain": [
       "  A11 X6 A34 A43 X1169 A65 A75 X4 A93 A101 ... A121 X67 A143 A152 X2 A173 X1\n",
       "1 A12 48 A32 A43 5951  A61 A73 2  A92 A101 ... A121 22  A143 A152 1  A173 1 \n",
       "2 A14 12 A34 A46 2096  A61 A74 2  A93 A101 ... A121 49  A143 A152 1  A172 2 \n",
       "3 A11 42 A32 A42 7882  A61 A74 2  A93 A103 ... A122 45  A143 A153 1  A173 2 \n",
       "  A192 A201 X1.1\n",
       "1 A191 A201 2   \n",
       "2 A191 A201 1   \n",
       "3 A191 A201 1   "
      ]
     },
     "metadata": {},
     "output_type": "display_data"
    }
   ],
   "source": [
    "##########INGEST FILE##########\n",
    "\n",
    "data = read.table(\"C:\\\\Preethi\\\\R\\\\german.data\",header=TRUE,stringsAsFactors = FALSE,sep=\" \") %>% as_tibble()\n",
    "head(data,3)"
   ]
  },
  {
   "cell_type": "code",
   "execution_count": 282,
   "metadata": {
    "collapsed": false
   },
   "outputs": [],
   "source": [
    "# Since binomial family of glm recognises 0 and 1 as the classfication values, \n",
    "# convert 1s and 2s to 0s and 1s for the response variable\n",
    "\n",
    "data$X1.1[data$X1.1==1]<- 0\n",
    "data$X1.1[data$X1.1==2]<- 1\n",
    "#data$X1.1==2"
   ]
  },
  {
   "cell_type": "code",
   "execution_count": 283,
   "metadata": {
    "collapsed": false
   },
   "outputs": [
    {
     "data": {
      "text/html": [
       "<table class=\"dataframe\">\n",
       "<caption>A tibble: 2 × 21</caption>\n",
       "<thead>\n",
       "\t<tr><th scope=col>A11</th><th scope=col>X6</th><th scope=col>A34</th><th scope=col>A43</th><th scope=col>X1169</th><th scope=col>A65</th><th scope=col>A75</th><th scope=col>X4</th><th scope=col>A93</th><th scope=col>A101</th><th scope=col>...</th><th scope=col>A121</th><th scope=col>X67</th><th scope=col>A143</th><th scope=col>A152</th><th scope=col>X2</th><th scope=col>A173</th><th scope=col>X1</th><th scope=col>A192</th><th scope=col>A201</th><th scope=col>X1.1</th></tr>\n",
       "\t<tr><th scope=col>&lt;chr&gt;</th><th scope=col>&lt;int&gt;</th><th scope=col>&lt;chr&gt;</th><th scope=col>&lt;chr&gt;</th><th scope=col>&lt;int&gt;</th><th scope=col>&lt;chr&gt;</th><th scope=col>&lt;chr&gt;</th><th scope=col>&lt;int&gt;</th><th scope=col>&lt;chr&gt;</th><th scope=col>&lt;chr&gt;</th><th scope=col>...</th><th scope=col>&lt;chr&gt;</th><th scope=col>&lt;int&gt;</th><th scope=col>&lt;chr&gt;</th><th scope=col>&lt;chr&gt;</th><th scope=col>&lt;int&gt;</th><th scope=col>&lt;chr&gt;</th><th scope=col>&lt;int&gt;</th><th scope=col>&lt;chr&gt;</th><th scope=col>&lt;chr&gt;</th><th scope=col>&lt;dbl&gt;</th></tr>\n",
       "</thead>\n",
       "<tbody>\n",
       "\t<tr><td>A14</td><td>24</td><td>A34</td><td>A46</td><td>1927</td><td>A65</td><td>A73</td><td>3</td><td>A92</td><td>A101</td><td>...</td><td>A123</td><td>33</td><td>A143</td><td>A152</td><td>2</td><td>A173</td><td>1</td><td>A192</td><td>A201</td><td>0</td></tr>\n",
       "\t<tr><td>A14</td><td>24</td><td>A32</td><td>A41</td><td>9277</td><td>A65</td><td>A73</td><td>2</td><td>A91</td><td>A101</td><td>...</td><td>A124</td><td>48</td><td>A143</td><td>A153</td><td>1</td><td>A173</td><td>1</td><td>A192</td><td>A201</td><td>0</td></tr>\n",
       "</tbody>\n",
       "</table>\n"
      ],
      "text/latex": [
       "A tibble: 2 × 21\n",
       "\\begin{tabular}{lllllllllllllllllllll}\n",
       " A11 & X6 & A34 & A43 & X1169 & A65 & A75 & X4 & A93 & A101 & ... & A121 & X67 & A143 & A152 & X2 & A173 & X1 & A192 & A201 & X1.1\\\\\n",
       " <chr> & <int> & <chr> & <chr> & <int> & <chr> & <chr> & <int> & <chr> & <chr> & ... & <chr> & <int> & <chr> & <chr> & <int> & <chr> & <int> & <chr> & <chr> & <dbl>\\\\\n",
       "\\hline\n",
       "\t A14 & 24 & A34 & A46 & 1927 & A65 & A73 & 3 & A92 & A101 & ... & A123 & 33 & A143 & A152 & 2 & A173 & 1 & A192 & A201 & 0\\\\\n",
       "\t A14 & 24 & A32 & A41 & 9277 & A65 & A73 & 2 & A91 & A101 & ... & A124 & 48 & A143 & A153 & 1 & A173 & 1 & A192 & A201 & 0\\\\\n",
       "\\end{tabular}\n"
      ],
      "text/markdown": [
       "\n",
       "A tibble: 2 × 21\n",
       "\n",
       "| A11 &lt;chr&gt; | X6 &lt;int&gt; | A34 &lt;chr&gt; | A43 &lt;chr&gt; | X1169 &lt;int&gt; | A65 &lt;chr&gt; | A75 &lt;chr&gt; | X4 &lt;int&gt; | A93 &lt;chr&gt; | A101 &lt;chr&gt; | ... ... | A121 &lt;chr&gt; | X67 &lt;int&gt; | A143 &lt;chr&gt; | A152 &lt;chr&gt; | X2 &lt;int&gt; | A173 &lt;chr&gt; | X1 &lt;int&gt; | A192 &lt;chr&gt; | A201 &lt;chr&gt; | X1.1 &lt;dbl&gt; |\n",
       "|---|---|---|---|---|---|---|---|---|---|---|---|---|---|---|---|---|---|---|---|---|\n",
       "| A14 | 24 | A34 | A46 | 1927 | A65 | A73 | 3 | A92 | A101 | ... | A123 | 33 | A143 | A152 | 2 | A173 | 1 | A192 | A201 | 0 |\n",
       "| A14 | 24 | A32 | A41 | 9277 | A65 | A73 | 2 | A91 | A101 | ... | A124 | 48 | A143 | A153 | 1 | A173 | 1 | A192 | A201 | 0 |\n",
       "\n"
      ],
      "text/plain": [
       "  A11 X6 A34 A43 X1169 A65 A75 X4 A93 A101 ... A121 X67 A143 A152 X2 A173 X1\n",
       "1 A14 24 A34 A46 1927  A65 A73 3  A92 A101 ... A123 33  A143 A152 2  A173 1 \n",
       "2 A14 24 A32 A41 9277  A65 A73 2  A91 A101 ... A124 48  A143 A153 1  A173 1 \n",
       "  A192 A201 X1.1\n",
       "1 A192 A201 0   \n",
       "2 A192 A201 0   "
      ]
     },
     "metadata": {},
     "output_type": "display_data"
    },
    {
     "data": {
      "text/html": [
       "<table class=\"dataframe\">\n",
       "<caption>A tibble: 2 × 21</caption>\n",
       "<thead>\n",
       "\t<tr><th scope=col>A11</th><th scope=col>X6</th><th scope=col>A34</th><th scope=col>A43</th><th scope=col>X1169</th><th scope=col>A65</th><th scope=col>A75</th><th scope=col>X4</th><th scope=col>A93</th><th scope=col>A101</th><th scope=col>...</th><th scope=col>A121</th><th scope=col>X67</th><th scope=col>A143</th><th scope=col>A152</th><th scope=col>X2</th><th scope=col>A173</th><th scope=col>X1</th><th scope=col>A192</th><th scope=col>A201</th><th scope=col>X1.1</th></tr>\n",
       "\t<tr><th scope=col>&lt;chr&gt;</th><th scope=col>&lt;int&gt;</th><th scope=col>&lt;chr&gt;</th><th scope=col>&lt;chr&gt;</th><th scope=col>&lt;int&gt;</th><th scope=col>&lt;chr&gt;</th><th scope=col>&lt;chr&gt;</th><th scope=col>&lt;int&gt;</th><th scope=col>&lt;chr&gt;</th><th scope=col>&lt;chr&gt;</th><th scope=col>...</th><th scope=col>&lt;chr&gt;</th><th scope=col>&lt;int&gt;</th><th scope=col>&lt;chr&gt;</th><th scope=col>&lt;chr&gt;</th><th scope=col>&lt;int&gt;</th><th scope=col>&lt;chr&gt;</th><th scope=col>&lt;int&gt;</th><th scope=col>&lt;chr&gt;</th><th scope=col>&lt;chr&gt;</th><th scope=col>&lt;dbl&gt;</th></tr>\n",
       "</thead>\n",
       "<tbody>\n",
       "\t<tr><td>A14</td><td>12</td><td>A34</td><td>A46</td><td>2096</td><td>A61</td><td>A74</td><td>2</td><td>A93</td><td>A101</td><td>...</td><td>A121</td><td>49</td><td>A143</td><td>A152</td><td>1</td><td>A172</td><td>2</td><td>A191</td><td>A201</td><td>0</td></tr>\n",
       "\t<tr><td>A11</td><td>42</td><td>A32</td><td>A42</td><td>7882</td><td>A61</td><td>A74</td><td>2</td><td>A93</td><td>A103</td><td>...</td><td>A122</td><td>45</td><td>A143</td><td>A153</td><td>1</td><td>A173</td><td>2</td><td>A191</td><td>A201</td><td>0</td></tr>\n",
       "</tbody>\n",
       "</table>\n"
      ],
      "text/latex": [
       "A tibble: 2 × 21\n",
       "\\begin{tabular}{lllllllllllllllllllll}\n",
       " A11 & X6 & A34 & A43 & X1169 & A65 & A75 & X4 & A93 & A101 & ... & A121 & X67 & A143 & A152 & X2 & A173 & X1 & A192 & A201 & X1.1\\\\\n",
       " <chr> & <int> & <chr> & <chr> & <int> & <chr> & <chr> & <int> & <chr> & <chr> & ... & <chr> & <int> & <chr> & <chr> & <int> & <chr> & <int> & <chr> & <chr> & <dbl>\\\\\n",
       "\\hline\n",
       "\t A14 & 12 & A34 & A46 & 2096 & A61 & A74 & 2 & A93 & A101 & ... & A121 & 49 & A143 & A152 & 1 & A172 & 2 & A191 & A201 & 0\\\\\n",
       "\t A11 & 42 & A32 & A42 & 7882 & A61 & A74 & 2 & A93 & A103 & ... & A122 & 45 & A143 & A153 & 1 & A173 & 2 & A191 & A201 & 0\\\\\n",
       "\\end{tabular}\n"
      ],
      "text/markdown": [
       "\n",
       "A tibble: 2 × 21\n",
       "\n",
       "| A11 &lt;chr&gt; | X6 &lt;int&gt; | A34 &lt;chr&gt; | A43 &lt;chr&gt; | X1169 &lt;int&gt; | A65 &lt;chr&gt; | A75 &lt;chr&gt; | X4 &lt;int&gt; | A93 &lt;chr&gt; | A101 &lt;chr&gt; | ... ... | A121 &lt;chr&gt; | X67 &lt;int&gt; | A143 &lt;chr&gt; | A152 &lt;chr&gt; | X2 &lt;int&gt; | A173 &lt;chr&gt; | X1 &lt;int&gt; | A192 &lt;chr&gt; | A201 &lt;chr&gt; | X1.1 &lt;dbl&gt; |\n",
       "|---|---|---|---|---|---|---|---|---|---|---|---|---|---|---|---|---|---|---|---|---|\n",
       "| A14 | 12 | A34 | A46 | 2096 | A61 | A74 | 2 | A93 | A101 | ... | A121 | 49 | A143 | A152 | 1 | A172 | 2 | A191 | A201 | 0 |\n",
       "| A11 | 42 | A32 | A42 | 7882 | A61 | A74 | 2 | A93 | A103 | ... | A122 | 45 | A143 | A153 | 1 | A173 | 2 | A191 | A201 | 0 |\n",
       "\n"
      ],
      "text/plain": [
       "  A11 X6 A34 A43 X1169 A65 A75 X4 A93 A101 ... A121 X67 A143 A152 X2 A173 X1\n",
       "1 A14 12 A34 A46 2096  A61 A74 2  A93 A101 ... A121 49  A143 A152 1  A172 2 \n",
       "2 A11 42 A32 A42 7882  A61 A74 2  A93 A103 ... A122 45  A143 A153 1  A173 2 \n",
       "  A192 A201 X1.1\n",
       "1 A191 A201 0   \n",
       "2 A191 A201 0   "
      ]
     },
     "metadata": {},
     "output_type": "display_data"
    }
   ],
   "source": [
    "# Divide the data into 70% training and 30% test/validation data\n",
    "\n",
    "m <- nrow(data)\n",
    "#sample(1:m, size = round(m*0.7), replace = FALSE)\n",
    "trn <- sample(1:m, size = round(m*0.7), replace = FALSE)\n",
    "d.learn <- data[trn,]\n",
    "d.valid <- data[-trn,]\n",
    "head(d.learn,2)\n",
    "head(d.valid,2)"
   ]
  },
  {
   "cell_type": "code",
   "execution_count": 235,
   "metadata": {
    "collapsed": false
   },
   "outputs": [
    {
     "data": {
      "text/html": [
       "<table class=\"dataframe\">\n",
       "<caption>A tibble: 2 × 21</caption>\n",
       "<thead>\n",
       "\t<tr><th scope=col>A11</th><th scope=col>X6</th><th scope=col>A34</th><th scope=col>A43</th><th scope=col>X1169</th><th scope=col>A65</th><th scope=col>A75</th><th scope=col>X4</th><th scope=col>A93</th><th scope=col>A101</th><th scope=col>...</th><th scope=col>A121</th><th scope=col>X67</th><th scope=col>A143</th><th scope=col>A152</th><th scope=col>X2</th><th scope=col>A173</th><th scope=col>X1</th><th scope=col>A192</th><th scope=col>A201</th><th scope=col>X1.1</th></tr>\n",
       "\t<tr><th scope=col>&lt;chr&gt;</th><th scope=col>&lt;int&gt;</th><th scope=col>&lt;chr&gt;</th><th scope=col>&lt;chr&gt;</th><th scope=col>&lt;int&gt;</th><th scope=col>&lt;chr&gt;</th><th scope=col>&lt;chr&gt;</th><th scope=col>&lt;int&gt;</th><th scope=col>&lt;chr&gt;</th><th scope=col>&lt;chr&gt;</th><th scope=col>...</th><th scope=col>&lt;chr&gt;</th><th scope=col>&lt;int&gt;</th><th scope=col>&lt;chr&gt;</th><th scope=col>&lt;chr&gt;</th><th scope=col>&lt;int&gt;</th><th scope=col>&lt;chr&gt;</th><th scope=col>&lt;int&gt;</th><th scope=col>&lt;chr&gt;</th><th scope=col>&lt;chr&gt;</th><th scope=col>&lt;dbl&gt;</th></tr>\n",
       "</thead>\n",
       "<tbody>\n",
       "\t<tr><td>A14</td><td>12</td><td>A32</td><td>A43</td><td> 886</td><td>A65</td><td>A73</td><td>4</td><td>A92</td><td>A101</td><td>...</td><td>A123</td><td>21</td><td>A143</td><td>A152</td><td>1</td><td>A173</td><td>1</td><td>A191</td><td>A201</td><td>0</td></tr>\n",
       "\t<tr><td>A14</td><td>18</td><td>A32</td><td>A43</td><td>1453</td><td>A61</td><td>A72</td><td>3</td><td>A92</td><td>A101</td><td>...</td><td>A121</td><td>26</td><td>A143</td><td>A152</td><td>1</td><td>A173</td><td>1</td><td>A191</td><td>A201</td><td>0</td></tr>\n",
       "</tbody>\n",
       "</table>\n"
      ],
      "text/latex": [
       "A tibble: 2 × 21\n",
       "\\begin{tabular}{lllllllllllllllllllll}\n",
       " A11 & X6 & A34 & A43 & X1169 & A65 & A75 & X4 & A93 & A101 & ... & A121 & X67 & A143 & A152 & X2 & A173 & X1 & A192 & A201 & X1.1\\\\\n",
       " <chr> & <int> & <chr> & <chr> & <int> & <chr> & <chr> & <int> & <chr> & <chr> & ... & <chr> & <int> & <chr> & <chr> & <int> & <chr> & <int> & <chr> & <chr> & <dbl>\\\\\n",
       "\\hline\n",
       "\t A14 & 12 & A32 & A43 &  886 & A65 & A73 & 4 & A92 & A101 & ... & A123 & 21 & A143 & A152 & 1 & A173 & 1 & A191 & A201 & 0\\\\\n",
       "\t A14 & 18 & A32 & A43 & 1453 & A61 & A72 & 3 & A92 & A101 & ... & A121 & 26 & A143 & A152 & 1 & A173 & 1 & A191 & A201 & 0\\\\\n",
       "\\end{tabular}\n"
      ],
      "text/markdown": [
       "\n",
       "A tibble: 2 × 21\n",
       "\n",
       "| A11 &lt;chr&gt; | X6 &lt;int&gt; | A34 &lt;chr&gt; | A43 &lt;chr&gt; | X1169 &lt;int&gt; | A65 &lt;chr&gt; | A75 &lt;chr&gt; | X4 &lt;int&gt; | A93 &lt;chr&gt; | A101 &lt;chr&gt; | ... ... | A121 &lt;chr&gt; | X67 &lt;int&gt; | A143 &lt;chr&gt; | A152 &lt;chr&gt; | X2 &lt;int&gt; | A173 &lt;chr&gt; | X1 &lt;int&gt; | A192 &lt;chr&gt; | A201 &lt;chr&gt; | X1.1 &lt;dbl&gt; |\n",
       "|---|---|---|---|---|---|---|---|---|---|---|---|---|---|---|---|---|---|---|---|---|\n",
       "| A14 | 12 | A32 | A43 |  886 | A65 | A73 | 4 | A92 | A101 | ... | A123 | 21 | A143 | A152 | 1 | A173 | 1 | A191 | A201 | 0 |\n",
       "| A14 | 18 | A32 | A43 | 1453 | A61 | A72 | 3 | A92 | A101 | ... | A121 | 26 | A143 | A152 | 1 | A173 | 1 | A191 | A201 | 0 |\n",
       "\n"
      ],
      "text/plain": [
       "  A11 X6 A34 A43 X1169 A65 A75 X4 A93 A101 ... A121 X67 A143 A152 X2 A173 X1\n",
       "1 A14 12 A32 A43  886  A65 A73 4  A92 A101 ... A123 21  A143 A152 1  A173 1 \n",
       "2 A14 18 A32 A43 1453  A61 A72 3  A92 A101 ... A121 26  A143 A152 1  A173 1 \n",
       "  A192 A201 X1.1\n",
       "1 A191 A201 0   \n",
       "2 A191 A201 0   "
      ]
     },
     "metadata": {},
     "output_type": "display_data"
    }
   ],
   "source": [
    "head(d.learn,2)"
   ]
  },
  {
   "cell_type": "code",
   "execution_count": 284,
   "metadata": {
    "collapsed": false
   },
   "outputs": [
    {
     "data": {
      "text/plain": [
       "\n",
       "Call:\n",
       "glm(formula = X1.1 ~ ., family = binomial(link = \"logit\"), data = d.learn)\n",
       "\n",
       "Deviance Residuals: \n",
       "    Min       1Q   Median       3Q      Max  \n",
       "-2.4552  -0.6884  -0.3540   0.6043   2.5817  \n",
       "\n",
       "Coefficients:\n",
       "              Estimate Std. Error z value Pr(>|z|)    \n",
       "(Intercept) -6.036e-01  1.344e+00  -0.449 0.653269    \n",
       "A11A12      -3.439e-01  2.745e-01  -1.253 0.210360    \n",
       "A11A13      -9.660e-01  4.731e-01  -2.042 0.041154 *  \n",
       "A11A14      -1.722e+00  2.870e-01  -5.999 1.98e-09 ***\n",
       "X6           2.277e-02  1.139e-02   1.999 0.045632 *  \n",
       "A34A31       2.201e-02  6.894e-01   0.032 0.974528    \n",
       "A34A32      -7.375e-01  5.441e-01  -1.356 0.175229    \n",
       "A34A33      -1.143e+00  5.978e-01  -1.913 0.055768 .  \n",
       "A34A34      -1.990e+00  5.600e-01  -3.554 0.000380 ***\n",
       "A43A41      -1.639e+00  4.431e-01  -3.700 0.000216 ***\n",
       "A43A410     -1.786e+01  5.754e+02  -0.031 0.975240    \n",
       "A43A42      -7.737e-01  3.164e-01  -2.446 0.014460 *  \n",
       "A43A43      -1.122e+00  3.121e-01  -3.594 0.000326 ***\n",
       "A43A44      -1.484e+00  1.021e+00  -1.454 0.146049    \n",
       "A43A45      -9.324e-01  6.418e-01  -1.453 0.146283    \n",
       "A43A46       1.570e-01  4.994e-01   0.314 0.753300    \n",
       "A43A48      -1.850e+00  1.228e+00  -1.506 0.132105    \n",
       "A43A49      -6.140e-01  4.041e-01  -1.519 0.128671    \n",
       "X1169        1.854e-04  5.593e-05   3.314 0.000918 ***\n",
       "A65A62      -3.806e-01  3.764e-01  -1.011 0.312004    \n",
       "A65A63       1.390e-01  4.849e-01   0.287 0.774423    \n",
       "A65A64      -1.048e+00  5.970e-01  -1.755 0.079218 .  \n",
       "A65A65      -1.022e+00  3.195e-01  -3.198 0.001383 ** \n",
       "A75A72      -6.937e-03  5.078e-01  -0.014 0.989101    \n",
       "A75A73      -5.607e-01  4.930e-01  -1.137 0.255459    \n",
       "A75A74      -9.946e-01  5.335e-01  -1.864 0.062306 .  \n",
       "A75A75      -7.558e-01  4.997e-01  -1.513 0.130404    \n",
       "X4           3.220e-01  1.091e-01   2.952 0.003160 ** \n",
       "A93A92       1.665e-01  4.966e-01   0.335 0.737444    \n",
       "A93A93      -3.960e-01  4.863e-01  -0.814 0.415464    \n",
       "A93A94       8.984e-03  5.842e-01   0.015 0.987731    \n",
       "A101A102     4.990e-01  5.082e-01   0.982 0.326169    \n",
       "A101A103    -8.940e-01  4.903e-01  -1.823 0.068241 .  \n",
       "X4.1         9.388e-02  1.033e-01   0.909 0.363404    \n",
       "A121A122     1.930e-01  3.075e-01   0.628 0.530215    \n",
       "A121A123     1.201e-01  2.899e-01   0.414 0.678581    \n",
       "A121A124     6.877e-01  5.164e-01   1.332 0.182950    \n",
       "X67         -6.252e-03  1.084e-02  -0.577 0.564252    \n",
       "A143A142     2.889e-01  5.176e-01   0.558 0.576658    \n",
       "A143A143    -5.152e-01  3.174e-01  -1.623 0.104615    \n",
       "A152A152    -6.927e-02  2.972e-01  -0.233 0.815687    \n",
       "A152A153    -5.819e-01  6.046e-01  -0.962 0.335841    \n",
       "X2           5.239e-01  2.450e-01   2.139 0.032473 *  \n",
       "A173A172     3.685e-01  8.084e-01   0.456 0.648471    \n",
       "A173A173     5.959e-01  7.732e-01   0.771 0.440895    \n",
       "A173A174     2.926e-01  7.938e-01   0.369 0.712403    \n",
       "X1           1.734e-01  3.063e-01   0.566 0.571398    \n",
       "A192A192    -5.592e-01  2.528e-01  -2.213 0.026930 *  \n",
       "A201A202    -1.616e+00  7.981e-01  -2.025 0.042908 *  \n",
       "---\n",
       "Signif. codes:  0 '***' 0.001 '**' 0.01 '*' 0.05 '.' 0.1 ' ' 1\n",
       "\n",
       "(Dispersion parameter for binomial family taken to be 1)\n",
       "\n",
       "    Null deviance: 831.35  on 698  degrees of freedom\n",
       "Residual deviance: 603.33  on 650  degrees of freedom\n",
       "AIC: 701.33\n",
       "\n",
       "Number of Fisher Scoring iterations: 14\n"
      ]
     },
     "metadata": {},
     "output_type": "display_data"
    }
   ],
   "source": [
    "# Develop the logistic regression model\n",
    "# 1st iteration: Use all the available variables\n",
    "\n",
    "reg = glm(X1.1 ~.,family=binomial(link = \"logit\"),data=d.learn)\n",
    "summary(reg)\n",
    "#AIC is 701 for this model using all predictors"
   ]
  },
  {
   "cell_type": "code",
   "execution_count": 285,
   "metadata": {
    "collapsed": false
   },
   "outputs": [
    {
     "data": {
      "text/plain": [
       "\n",
       "Call:\n",
       "glm(formula = X1.1 ~ A11 + A34 + A43 + A65 + A75 + A93 + A101 + \n",
       "    A121 + A143 + A152 + A173 + A192, family = binomial(link = \"logit\"), \n",
       "    data = d.learn)\n",
       "\n",
       "Deviance Residuals: \n",
       "    Min       1Q   Median       3Q      Max  \n",
       "-2.0605  -0.7468  -0.4310   0.7383   2.5258  \n",
       "\n",
       "Coefficients:\n",
       "            Estimate Std. Error z value Pr(>|z|)    \n",
       "(Intercept)   1.7787     1.0370   1.715 0.086304 .  \n",
       "A11A12       -0.3092     0.2567  -1.205 0.228353    \n",
       "A11A13       -1.2994     0.4495  -2.891 0.003843 ** \n",
       "A11A14       -1.6608     0.2703  -6.144 8.06e-10 ***\n",
       "A34A31       -0.4046     0.6426  -0.630 0.528894    \n",
       "A34A32       -1.1712     0.4948  -2.367 0.017922 *  \n",
       "A34A33       -1.1464     0.5671  -2.022 0.043215 *  \n",
       "A34A34       -1.9976     0.5258  -3.799 0.000145 ***\n",
       "A43A41       -1.2852     0.4129  -3.113 0.001855 ** \n",
       "A43A410     -16.1155   665.6749  -0.024 0.980686    \n",
       "A43A42       -0.6501     0.2947  -2.206 0.027355 *  \n",
       "A43A43       -0.8773     0.2906  -3.019 0.002540 ** \n",
       "A43A44       -1.2549     0.9590  -1.309 0.190678    \n",
       "A43A45       -0.6199     0.6339  -0.978 0.328135    \n",
       "A43A46        0.2988     0.4666   0.640 0.521971    \n",
       "A43A48       -1.7380     1.2223  -1.422 0.155043    \n",
       "A43A49       -0.3385     0.3785  -0.894 0.371158    \n",
       "A65A62       -0.3330     0.3573  -0.932 0.351299    \n",
       "A65A63       -0.1480     0.4570  -0.324 0.746085    \n",
       "A65A64       -1.0011     0.5709  -1.754 0.079483 .  \n",
       "A65A65       -0.7361     0.2988  -2.463 0.013772 *  \n",
       "A75A72        0.1590     0.4833   0.329 0.742206    \n",
       "A75A73       -0.3145     0.4708  -0.668 0.504142    \n",
       "A75A74       -0.5531     0.5025  -1.101 0.271029    \n",
       "A75A75       -0.4755     0.4755  -1.000 0.317318    \n",
       "A93A92        0.1953     0.4654   0.420 0.674825    \n",
       "A93A93       -0.1786     0.4516  -0.395 0.692498    \n",
       "A93A94       -0.0509     0.5515  -0.092 0.926464    \n",
       "A101A102      0.5811     0.4780   1.216 0.224100    \n",
       "A101A103     -0.8215     0.4718  -1.741 0.081676 .  \n",
       "A121A122      0.3016     0.2935   1.028 0.304114    \n",
       "A121A123      0.4345     0.2763   1.572 0.115919    \n",
       "A121A124      0.9364     0.4603   2.034 0.041919 *  \n",
       "A143A142      0.5688     0.5059   1.124 0.260865    \n",
       "A143A143     -0.3934     0.3029  -1.299 0.193981    \n",
       "A152A152     -0.1029     0.2710  -0.380 0.704200    \n",
       "A152A153     -0.1952     0.5334  -0.366 0.714417    \n",
       "A173A172      0.1508     0.7415   0.203 0.838828    \n",
       "A173A173      0.5272     0.7155   0.737 0.461275    \n",
       "A173A174      0.4938     0.7349   0.672 0.501628    \n",
       "A192A192     -0.2980     0.2284  -1.305 0.191944    \n",
       "---\n",
       "Signif. codes:  0 '***' 0.001 '**' 0.01 '*' 0.05 '.' 0.1 ' ' 1\n",
       "\n",
       "(Dispersion parameter for binomial family taken to be 1)\n",
       "\n",
       "    Null deviance: 831.35  on 698  degrees of freedom\n",
       "Residual deviance: 652.87  on 658  degrees of freedom\n",
       "AIC: 734.87\n",
       "\n",
       "Number of Fisher Scoring iterations: 14\n"
      ]
     },
     "metadata": {},
     "output_type": "display_data"
    }
   ],
   "source": [
    "# 2nd iteration: Use all the variables found significant in \n",
    "# the 1st iteration.\n",
    "# For categorical variables, if any value is significant,\n",
    "# we'll keep all values in the model.\n",
    "\n",
    "reg2 = glm(X1.1 ~ A11+A34+A43+A65+A75+A93+A101+A121+A143+A152+A173+A192,family=binomial(link = \"logit\"),data=d.learn)\n",
    "summary(reg2)\n",
    "#AIC is 734(high) vs.701 using al predictors"
   ]
  },
  {
   "cell_type": "code",
   "execution_count": 286,
   "metadata": {
    "collapsed": false
   },
   "outputs": [
    {
     "data": {
      "text/plain": [
       "\n",
       "Call:\n",
       "glm(formula = X1.1 ~ ., family = binomial(link = \"logit\"), data = d.learn)\n",
       "\n",
       "Deviance Residuals: \n",
       "    Min       1Q   Median       3Q      Max  \n",
       "-2.4552  -0.6884  -0.3540   0.6043   2.5817  \n",
       "\n",
       "Coefficients:\n",
       "              Estimate Std. Error z value Pr(>|z|)    \n",
       "(Intercept) -6.036e-01  1.344e+00  -0.449 0.653269    \n",
       "A11A12      -3.439e-01  2.745e-01  -1.253 0.210360    \n",
       "A11A13      -9.660e-01  4.731e-01  -2.042 0.041154 *  \n",
       "A11A14      -1.722e+00  2.870e-01  -5.999 1.98e-09 ***\n",
       "X6           2.277e-02  1.139e-02   1.999 0.045632 *  \n",
       "A34A31       2.201e-02  6.894e-01   0.032 0.974528    \n",
       "A34A32      -7.375e-01  5.441e-01  -1.356 0.175229    \n",
       "A34A33      -1.143e+00  5.978e-01  -1.913 0.055768 .  \n",
       "A34A34      -1.990e+00  5.600e-01  -3.554 0.000380 ***\n",
       "A43A41      -1.639e+00  4.431e-01  -3.700 0.000216 ***\n",
       "A43A410     -1.786e+01  5.754e+02  -0.031 0.975240    \n",
       "A43A42      -7.737e-01  3.164e-01  -2.446 0.014460 *  \n",
       "A43A43      -1.122e+00  3.121e-01  -3.594 0.000326 ***\n",
       "A43A44      -1.484e+00  1.021e+00  -1.454 0.146049    \n",
       "A43A45      -9.324e-01  6.418e-01  -1.453 0.146283    \n",
       "A43A46       1.570e-01  4.994e-01   0.314 0.753300    \n",
       "A43A48      -1.850e+00  1.228e+00  -1.506 0.132105    \n",
       "A43A49      -6.140e-01  4.041e-01  -1.519 0.128671    \n",
       "X1169        1.854e-04  5.593e-05   3.314 0.000918 ***\n",
       "A65A62      -3.806e-01  3.764e-01  -1.011 0.312004    \n",
       "A65A63       1.390e-01  4.849e-01   0.287 0.774423    \n",
       "A65A64      -1.048e+00  5.970e-01  -1.755 0.079218 .  \n",
       "A65A65      -1.022e+00  3.195e-01  -3.198 0.001383 ** \n",
       "A75A72      -6.937e-03  5.078e-01  -0.014 0.989101    \n",
       "A75A73      -5.607e-01  4.930e-01  -1.137 0.255459    \n",
       "A75A74      -9.946e-01  5.335e-01  -1.864 0.062306 .  \n",
       "A75A75      -7.558e-01  4.997e-01  -1.513 0.130404    \n",
       "X4           3.220e-01  1.091e-01   2.952 0.003160 ** \n",
       "A93A92       1.665e-01  4.966e-01   0.335 0.737444    \n",
       "A93A93      -3.960e-01  4.863e-01  -0.814 0.415464    \n",
       "A93A94       8.984e-03  5.842e-01   0.015 0.987731    \n",
       "A101A102     4.990e-01  5.082e-01   0.982 0.326169    \n",
       "A101A103    -8.940e-01  4.903e-01  -1.823 0.068241 .  \n",
       "X4.1         9.388e-02  1.033e-01   0.909 0.363404    \n",
       "A121A122     1.930e-01  3.075e-01   0.628 0.530215    \n",
       "A121A123     1.201e-01  2.899e-01   0.414 0.678581    \n",
       "A121A124     6.877e-01  5.164e-01   1.332 0.182950    \n",
       "X67         -6.252e-03  1.084e-02  -0.577 0.564252    \n",
       "A143A142     2.889e-01  5.176e-01   0.558 0.576658    \n",
       "A143A143    -5.152e-01  3.174e-01  -1.623 0.104615    \n",
       "A152A152    -6.927e-02  2.972e-01  -0.233 0.815687    \n",
       "A152A153    -5.819e-01  6.046e-01  -0.962 0.335841    \n",
       "X2           5.239e-01  2.450e-01   2.139 0.032473 *  \n",
       "A173A172     3.685e-01  8.084e-01   0.456 0.648471    \n",
       "A173A173     5.959e-01  7.732e-01   0.771 0.440895    \n",
       "A173A174     2.926e-01  7.938e-01   0.369 0.712403    \n",
       "X1           1.734e-01  3.063e-01   0.566 0.571398    \n",
       "A192A192    -5.592e-01  2.528e-01  -2.213 0.026930 *  \n",
       "A201A202    -1.616e+00  7.981e-01  -2.025 0.042908 *  \n",
       "---\n",
       "Signif. codes:  0 '***' 0.001 '**' 0.01 '*' 0.05 '.' 0.1 ' ' 1\n",
       "\n",
       "(Dispersion parameter for binomial family taken to be 1)\n",
       "\n",
       "    Null deviance: 831.35  on 698  degrees of freedom\n",
       "Residual deviance: 603.33  on 650  degrees of freedom\n",
       "AIC: 701.33\n",
       "\n",
       "Number of Fisher Scoring iterations: 14\n"
      ]
     },
     "metadata": {},
     "output_type": "display_data"
    }
   ],
   "source": [
    "# 3rd iteration: Use all the variables found significant in \n",
    "# the 1st iteration.\n",
    "# For categorical variables, if any value is significant,\n",
    "# we'll keep all values in the model.\n",
    "#Of these A11,A34,A43,A65,A121,A143 are significant\n",
    "reg2 = glm(X1.1 ~ A11+A34+A43+A65+A121+A143 ,family=binomial(link = \"logit\"),data=d.learn)\n",
    "summary(reg)\n",
    "# This model has a lower AIC of 98 (704 second time) vs. 753 with all predictors shows the model' fit"
   ]
  },
  {
   "cell_type": "code",
   "execution_count": 241,
   "metadata": {
    "collapsed": false
   },
   "outputs": [],
   "source": [
    "# But for the categorical variables, not all values are significant.\n",
    "# So, we can create a binary variable for eachsignificant factor\n",
    "#A11+A34+A43+A65+A121+A143\n",
    "\n",
    "d.learn$A11A13[d.learn$X1.1 == \"A11\"] <- 1\n",
    "d.learn$A11A13[d.learn$X1.1 == \"A11\"] <- 0\n",
    "\n",
    "d.learn$A11A14[d.learn$X1.1 == \"A14\"] <- 1\n",
    "d.learn$A11A14[d.learn$X1.1 == \"A14\"] <- 0\n",
    "\n",
    "d.learn$A34A34[d.learn$X1.1 == \"A34\"] <- 1\n",
    "d.learn$A34A34[d.learn$X1.1 == \"A34\"] <- 0\n",
    "\n",
    "d.learn$A43A41[d.learn$X1.1 == \"A43\"] <- 1\n",
    "d.learn$A43A41[d.learn$X1.1 == \"A43\"] <- 0\n",
    "\n",
    "d.learn$A121A41[d.learn$X1.1 == \"A121\"] <- 1\n",
    "d.learn$A121A41[d.learn$X1.1 == \"A121\"] <- 0\n",
    "\n",
    "d.learn$A65A143[d.learn$X1.1 == \"A143\"] <- 1\n",
    "d.learn$A65A143[d.learn$X1.1 == \"A143\"] <- 0"
   ]
  },
  {
   "cell_type": "code",
   "execution_count": 240,
   "metadata": {
    "collapsed": false
   },
   "outputs": [
    {
     "data": {
      "text/html": [
       "<table class=\"dataframe\">\n",
       "<caption>A tibble: 2 × 27</caption>\n",
       "<thead>\n",
       "\t<tr><th scope=col>A11</th><th scope=col>X6</th><th scope=col>A34</th><th scope=col>A43</th><th scope=col>X1169</th><th scope=col>A65</th><th scope=col>A75</th><th scope=col>X4</th><th scope=col>A93</th><th scope=col>A101</th><th scope=col>...</th><th scope=col>X1</th><th scope=col>A192</th><th scope=col>A201</th><th scope=col>X1.1</th><th scope=col>A11A13</th><th scope=col>A11A14</th><th scope=col>A34A34</th><th scope=col>A43A41</th><th scope=col>A121A41</th><th scope=col>A65A143</th></tr>\n",
       "\t<tr><th scope=col>&lt;chr&gt;</th><th scope=col>&lt;int&gt;</th><th scope=col>&lt;chr&gt;</th><th scope=col>&lt;chr&gt;</th><th scope=col>&lt;int&gt;</th><th scope=col>&lt;chr&gt;</th><th scope=col>&lt;chr&gt;</th><th scope=col>&lt;int&gt;</th><th scope=col>&lt;chr&gt;</th><th scope=col>&lt;chr&gt;</th><th scope=col>...</th><th scope=col>&lt;int&gt;</th><th scope=col>&lt;chr&gt;</th><th scope=col>&lt;chr&gt;</th><th scope=col>&lt;dbl&gt;</th><th scope=col>&lt;dbl&gt;</th><th scope=col>&lt;dbl&gt;</th><th scope=col>&lt;dbl&gt;</th><th scope=col>&lt;dbl&gt;</th><th scope=col>&lt;dbl&gt;</th><th scope=col>&lt;dbl&gt;</th></tr>\n",
       "</thead>\n",
       "<tbody>\n",
       "\t<tr><td>A14</td><td>12</td><td>A32</td><td>A43</td><td> 886</td><td>A65</td><td>A73</td><td>4</td><td>A92</td><td>A101</td><td>...</td><td>1</td><td>A191</td><td>A201</td><td>0</td><td>NA</td><td>NA</td><td>NA</td><td>NA</td><td>NA</td><td>NA</td></tr>\n",
       "\t<tr><td>A14</td><td>18</td><td>A32</td><td>A43</td><td>1453</td><td>A61</td><td>A72</td><td>3</td><td>A92</td><td>A101</td><td>...</td><td>1</td><td>A191</td><td>A201</td><td>0</td><td>NA</td><td>NA</td><td>NA</td><td>NA</td><td>NA</td><td>NA</td></tr>\n",
       "</tbody>\n",
       "</table>\n"
      ],
      "text/latex": [
       "A tibble: 2 × 27\n",
       "\\begin{tabular}{lllllllllllllllllllll}\n",
       " A11 & X6 & A34 & A43 & X1169 & A65 & A75 & X4 & A93 & A101 & ... & X1 & A192 & A201 & X1.1 & A11A13 & A11A14 & A34A34 & A43A41 & A121A41 & A65A143\\\\\n",
       " <chr> & <int> & <chr> & <chr> & <int> & <chr> & <chr> & <int> & <chr> & <chr> & ... & <int> & <chr> & <chr> & <dbl> & <dbl> & <dbl> & <dbl> & <dbl> & <dbl> & <dbl>\\\\\n",
       "\\hline\n",
       "\t A14 & 12 & A32 & A43 &  886 & A65 & A73 & 4 & A92 & A101 & ... & 1 & A191 & A201 & 0 & NA & NA & NA & NA & NA & NA\\\\\n",
       "\t A14 & 18 & A32 & A43 & 1453 & A61 & A72 & 3 & A92 & A101 & ... & 1 & A191 & A201 & 0 & NA & NA & NA & NA & NA & NA\\\\\n",
       "\\end{tabular}\n"
      ],
      "text/markdown": [
       "\n",
       "A tibble: 2 × 27\n",
       "\n",
       "| A11 &lt;chr&gt; | X6 &lt;int&gt; | A34 &lt;chr&gt; | A43 &lt;chr&gt; | X1169 &lt;int&gt; | A65 &lt;chr&gt; | A75 &lt;chr&gt; | X4 &lt;int&gt; | A93 &lt;chr&gt; | A101 &lt;chr&gt; | ... ... | X1 &lt;int&gt; | A192 &lt;chr&gt; | A201 &lt;chr&gt; | X1.1 &lt;dbl&gt; | A11A13 &lt;dbl&gt; | A11A14 &lt;dbl&gt; | A34A34 &lt;dbl&gt; | A43A41 &lt;dbl&gt; | A121A41 &lt;dbl&gt; | A65A143 &lt;dbl&gt; |\n",
       "|---|---|---|---|---|---|---|---|---|---|---|---|---|---|---|---|---|---|---|---|---|\n",
       "| A14 | 12 | A32 | A43 |  886 | A65 | A73 | 4 | A92 | A101 | ... | 1 | A191 | A201 | 0 | NA | NA | NA | NA | NA | NA |\n",
       "| A14 | 18 | A32 | A43 | 1453 | A61 | A72 | 3 | A92 | A101 | ... | 1 | A191 | A201 | 0 | NA | NA | NA | NA | NA | NA |\n",
       "\n"
      ],
      "text/plain": [
       "  A11 X6 A34 A43 X1169 A65 A75 X4 A93 A101 ... X1 A192 A201 X1.1 A11A13 A11A14\n",
       "1 A14 12 A32 A43  886  A65 A73 4  A92 A101 ... 1  A191 A201 0    NA     NA    \n",
       "2 A14 18 A32 A43 1453  A61 A72 3  A92 A101 ... 1  A191 A201 0    NA     NA    \n",
       "  A34A34 A43A41 A121A41 A65A143\n",
       "1 NA     NA     NA      NA     \n",
       "2 NA     NA     NA      NA     "
      ]
     },
     "metadata": {},
     "output_type": "display_data"
    }
   ],
   "source": [
    "#Iterative do the intialization to avoid error with initialization of the previous step\n",
    "head(d.learn,2)"
   ]
  },
  {
   "cell_type": "code",
   "execution_count": 290,
   "metadata": {
    "collapsed": false
   },
   "outputs": [
    {
     "data": {
      "text/html": [
       "<style>\n",
       ".dl-inline {width: auto; margin:0; padding: 0}\n",
       ".dl-inline>dt, .dl-inline>dd {float: none; width: auto; display: inline-block}\n",
       ".dl-inline>dt::after {content: \":\\0020\"; padding-right: .5ex}\n",
       ".dl-inline>dt:not(:first-of-type) {padding-left: .5ex}\n",
       "</style><dl class=dl-inline><dt>1</dt><dd>0.0262541102961707</dd><dt>2</dt><dd>0.335919191182075</dd><dt>3</dt><dd>0.791915453614011</dd><dt>4</dt><dd>0.134042920309172</dd><dt>5</dt><dd>0.905349430697022</dd><dt>6</dt><dd>0.110149866428091</dd><dt>7</dt><dd>0.936895564169456</dd><dt>8</dt><dd>0.0683581459915182</dd><dt>9</dt><dd>0.0032065669899146</dd><dt>10</dt><dd>0.123786616898688</dd><dt>11</dt><dd>0.806732914611602</dd><dt>12</dt><dd>0.290396059962923</dd><dt>13</dt><dd>0.626174955647017</dd><dt>14</dt><dd>0.489945782590698</dd><dt>15</dt><dd>0.0315861821654858</dd><dt>16</dt><dd>0.116111158168528</dd><dt>17</dt><dd>0.304299915528803</dd><dt>18</dt><dd>0.087136239684185</dd><dt>19</dt><dd>0.056904030268832</dd><dt>20</dt><dd>0.00850736822666429</dd><dt>21</dt><dd>0.659238468390413</dd><dt>22</dt><dd>0.0112474824223386</dd><dt>23</dt><dd>0.443135284782538</dd><dt>24</dt><dd>5.89009292225748e-09</dd><dt>25</dt><dd>0.444062336182445</dd><dt>26</dt><dd>0.733276322302777</dd><dt>27</dt><dd>0.134015938422631</dd><dt>28</dt><dd>0.0989783179031707</dd><dt>29</dt><dd>0.0176673586471939</dd><dt>30</dt><dd>0.434546618714602</dd><dt>31</dt><dd>0.0516779413793954</dd><dt>32</dt><dd>0.0198175555485388</dd><dt>33</dt><dd>0.0310930829000574</dd><dt>34</dt><dd>0.140505890675594</dd><dt>35</dt><dd>0.125433113853058</dd><dt>36</dt><dd>0.19563415272682</dd><dt>37</dt><dd>3.56628482627457e-08</dd><dt>38</dt><dd>0.131655606936058</dd><dt>39</dt><dd>0.00978273979738719</dd><dt>40</dt><dd>0.0667245471174334</dd><dt>41</dt><dd>0.0978730323378211</dd><dt>42</dt><dd>0.335722887299927</dd><dt>43</dt><dd>0.636453286161674</dd><dt>44</dt><dd>0.0439298391664398</dd><dt>45</dt><dd>0.0276321435851717</dd><dt>46</dt><dd>0.396222310506517</dd><dt>47</dt><dd>0.00921906615638505</dd><dt>48</dt><dd>0.0115285828457731</dd><dt>49</dt><dd>0.0468856402567384</dd><dt>50</dt><dd>0.650136705253986</dd><dt>51</dt><dd>0.32135520346486</dd><dt>52</dt><dd>0.301746593385296</dd><dt>53</dt><dd>0.108414828542197</dd><dt>54</dt><dd>0.221090125424419</dd><dt>55</dt><dd>0.137315303374562</dd><dt>56</dt><dd>0.246155598854879</dd><dt>57</dt><dd>0.114842448299077</dd><dt>58</dt><dd>0.218861811954387</dd><dt>59</dt><dd>0.667197416968552</dd><dt>60</dt><dd>0.0386315758718067</dd><dt>61</dt><dd>0.156634277482666</dd><dt>62</dt><dd>0.103216688324964</dd><dt>63</dt><dd>0.201241421310928</dd><dt>64</dt><dd>0.796260868816571</dd><dt>65</dt><dd>0.584633093764016</dd><dt>66</dt><dd>0.154322064995787</dd><dt>67</dt><dd>0.778238184808198</dd><dt>68</dt><dd>0.34445341235501</dd><dt>69</dt><dd>0.066844947964976</dd><dt>70</dt><dd>0.599148333114331</dd><dt>71</dt><dd>0.789873815547454</dd><dt>72</dt><dd>0.0436095183101236</dd><dt>73</dt><dd>0.106068915924513</dd><dt>74</dt><dd>0.043618639083514</dd><dt>75</dt><dd>0.620561057816034</dd><dt>76</dt><dd>0.087024915653913</dd><dt>77</dt><dd>0.253007114652182</dd><dt>78</dt><dd>0.0195171994745678</dd><dt>79</dt><dd>0.808426267515294</dd><dt>80</dt><dd>0.0428923839089808</dd><dt>81</dt><dd>0.880295459846557</dd><dt>82</dt><dd>0.522842213189857</dd><dt>83</dt><dd>0.778464447289437</dd><dt>84</dt><dd>0.0176624487053829</dd><dt>85</dt><dd>0.0318048941115579</dd><dt>86</dt><dd>0.610702472217885</dd><dt>87</dt><dd>0.281779161759604</dd><dt>88</dt><dd>0.38692973564985</dd><dt>89</dt><dd>2.42151313159352e-08</dd><dt>90</dt><dd>0.405035746768609</dd><dt>91</dt><dd>0.118217275942332</dd><dt>92</dt><dd>0.409435718530245</dd><dt>93</dt><dd>0.709331035525078</dd><dt>94</dt><dd>0.287247456336581</dd><dt>95</dt><dd>0.934307612498884</dd><dt>96</dt><dd>0.0559218521048343</dd><dt>97</dt><dd>0.191613683541948</dd><dt>98</dt><dd>0.669922987407228</dd><dt>99</dt><dd>0.392961166684749</dd><dt>100</dt><dd>0.00282666790172517</dd><dt>101</dt><dd>0.109404789629453</dd><dt>102</dt><dd>0.618599109657203</dd><dt>103</dt><dd>0.446871902186724</dd><dt>104</dt><dd>0.0707724129086167</dd><dt>105</dt><dd>0.0183789261748995</dd><dt>106</dt><dd>0.643174516355674</dd><dt>107</dt><dd>0.181804037997709</dd><dt>108</dt><dd>0.0729383457031842</dd><dt>109</dt><dd>1.21453469821237e-06</dd><dt>110</dt><dd>0.122077257808149</dd><dt>111</dt><dd>0.686263012274433</dd><dt>112</dt><dd>0.0442669712866269</dd><dt>113</dt><dd>0.375005694354245</dd><dt>114</dt><dd>0.0191985735193171</dd><dt>115</dt><dd>0.178596552485721</dd><dt>116</dt><dd>0.188280123128712</dd><dt>117</dt><dd>0.02788954218689</dd><dt>118</dt><dd>0.197575278727132</dd><dt>119</dt><dd>0.11234038267415</dd><dt>120</dt><dd>0.111674323769866</dd><dt>121</dt><dd>0.367118512232061</dd><dt>122</dt><dd>1.66974926695743e-07</dd><dt>123</dt><dd>0.31763451506631</dd><dt>124</dt><dd>0.0408299217105441</dd><dt>125</dt><dd>0.550614664004172</dd><dt>126</dt><dd>0.278052794537795</dd><dt>127</dt><dd>0.84552309937729</dd><dt>128</dt><dd>0.0630436554494535</dd><dt>129</dt><dd>0.0322453377585592</dd><dt>130</dt><dd>0.580694417702317</dd><dt>131</dt><dd>0.0798588120019712</dd><dt>132</dt><dd>0.389534246381164</dd><dt>133</dt><dd>0.224284066256021</dd><dt>134</dt><dd>0.329480006913146</dd><dt>135</dt><dd>0.834292059293327</dd><dt>136</dt><dd>0.0132073429133512</dd><dt>137</dt><dd>0.133303239977064</dd><dt>138</dt><dd>0.116512474487956</dd><dt>139</dt><dd>0.0592810878343377</dd><dt>140</dt><dd>0.0172950526983148</dd><dt>141</dt><dd>0.825576929746072</dd><dt>142</dt><dd>0.0612471375270428</dd><dt>143</dt><dd>0.0125997299995142</dd><dt>144</dt><dd>0.0349712580735897</dd><dt>145</dt><dd>0.385702671921424</dd><dt>146</dt><dd>0.108793855833266</dd><dt>147</dt><dd>0.643508678682285</dd><dt>148</dt><dd>0.669965108133365</dd><dt>149</dt><dd>0.0510372894252668</dd><dt>150</dt><dd>0.417422653494713</dd><dt>151</dt><dd>0.232012195517213</dd><dt>152</dt><dd>0.128201506086098</dd><dt>153</dt><dd>0.110403158675029</dd><dt>154</dt><dd>0.0138583973999629</dd><dt>155</dt><dd>0.889806443431729</dd><dt>156</dt><dd>0.726217834963811</dd><dt>157</dt><dd>0.191776654714851</dd><dt>158</dt><dd>0.430739941590273</dd><dt>159</dt><dd>0.0574916377930104</dd><dt>160</dt><dd>0.0457123319951057</dd><dt>161</dt><dd>0.0662402537532521</dd><dt>162</dt><dd>0.536006359995032</dd><dt>163</dt><dd>0.176037734852602</dd><dt>164</dt><dd>2.0028841999341e-08</dd><dt>165</dt><dd>0.0702017271638281</dd><dt>166</dt><dd>0.108447594842391</dd><dt>167</dt><dd>0.405651561959908</dd><dt>168</dt><dd>0.871322504071041</dd><dt>169</dt><dd>0.178953619061188</dd><dt>170</dt><dd>0.614649505248505</dd><dt>171</dt><dd>0.59570937678776</dd><dt>172</dt><dd>0.0852753903784437</dd><dt>173</dt><dd>0.592084950733945</dd><dt>174</dt><dd>0.156525388705636</dd><dt>175</dt><dd>0.273027284784856</dd><dt>176</dt><dd>0.027539564900633</dd><dt>177</dt><dd>0.110103353196841</dd><dt>178</dt><dd>0.622341218478283</dd><dt>179</dt><dd>0.513253173732628</dd><dt>180</dt><dd>0.626339879204505</dd><dt>181</dt><dd>0.29581640376903</dd><dt>182</dt><dd>0.729105852018251</dd><dt>183</dt><dd>0.0144896533813076</dd><dt>184</dt><dd>0.154560756084853</dd><dt>185</dt><dd>0.110566206133116</dd><dt>186</dt><dd>2.57594604097518e-08</dd><dt>187</dt><dd>0.534267671234725</dd><dt>188</dt><dd>0.483199110754618</dd><dt>189</dt><dd>0.0466475357679148</dd><dt>190</dt><dd>0.0389478737932743</dd><dt>191</dt><dd>0.14933745942891</dd><dt>192</dt><dd>0.316779705620714</dd><dt>193</dt><dd>0.16568843837771</dd><dt>194</dt><dd>0.498133227971185</dd><dt>195</dt><dd>0.0426823650898274</dd><dt>196</dt><dd>0.229531003826723</dd><dt>197</dt><dd>0.245721121516952</dd><dt>198</dt><dd>0.655057841095266</dd><dt>199</dt><dd>0.128900645225803</dd><dt>200</dt><dd>0.0300124510382124</dd><dt>201</dt><dd>0.841990242914613</dd><dt>202</dt><dd>0.14883663740095</dd><dt>203</dt><dd>0.938854107459873</dd><dt>204</dt><dd>0.583517344310879</dd><dt>205</dt><dd>0.254981021014969</dd><dt>206</dt><dd>0.384210252814526</dd><dt>207</dt><dd>0.793476886068114</dd><dt>208</dt><dd>0.943729718153004</dd><dt>209</dt><dd>0.0284183419884234</dd><dt>210</dt><dd>0.862425341201509</dd><dt>211</dt><dd>0.666878833231457</dd><dt>212</dt><dd>0.555568156720251</dd><dt>213</dt><dd>0.0233060195363274</dd><dt>214</dt><dd>0.593041040381449</dd><dt>215</dt><dd>0.0415290992084238</dd><dt>216</dt><dd>0.0157223114851342</dd><dt>217</dt><dd>0.0348384983410256</dd><dt>218</dt><dd>0.191204548440923</dd><dt>219</dt><dd>0.0288211195665811</dd><dt>220</dt><dd>0.0611239375931927</dd><dt>221</dt><dd>0.307559972723811</dd><dt>222</dt><dd>0.581343605577129</dd><dt>223</dt><dd>0.0151969496625188</dd><dt>224</dt><dd>0.73952393661164</dd><dt>225</dt><dd>0.0742421122610703</dd><dt>226</dt><dd>0.0106306705929144</dd><dt>227</dt><dd>0.299891375372186</dd><dt>228</dt><dd>0.188544404103885</dd><dt>229</dt><dd>0.171755646261708</dd><dt>230</dt><dd>0.0487958855160275</dd><dt>231</dt><dd>0.415714342219413</dd><dt>232</dt><dd>0.0686264726383295</dd><dt>233</dt><dd>0.0258868642376737</dd><dt>234</dt><dd>0.0275146912724957</dd><dt>235</dt><dd>0.185571009948282</dd><dt>236</dt><dd>0.19630399099828</dd><dt>237</dt><dd>0.555082466556529</dd><dt>238</dt><dd>0.771754017777665</dd><dt>239</dt><dd>0.223447653597471</dd><dt>240</dt><dd>0.105284875786713</dd><dt>241</dt><dd>0.0958811875532551</dd><dt>242</dt><dd>0.208000926492694</dd><dt>243</dt><dd>0.378501054141287</dd><dt>244</dt><dd>0.0641735766630168</dd><dt>245</dt><dd>0.350371527350234</dd><dt>246</dt><dd>0.181523706349016</dd><dt>247</dt><dd>0.0296996457305181</dd><dt>248</dt><dd>0.820814288097475</dd><dt>249</dt><dd>0.00863424948836101</dd><dt>250</dt><dd>0.021934485089544</dd><dt>251</dt><dd>0.0820518650519645</dd><dt>252</dt><dd>0.175657992793455</dd><dt>253</dt><dd>0.543453062647147</dd><dt>254</dt><dd>0.244936962876417</dd><dt>255</dt><dd>0.0924763856458179</dd><dt>256</dt><dd>0.433036954640309</dd><dt>257</dt><dd>0.0664062624590226</dd><dt>258</dt><dd>0.845509395502849</dd><dt>259</dt><dd>0.64973131937257</dd><dt>260</dt><dd>0.0232281840541003</dd><dt>261</dt><dd>0.152343594666689</dd><dt>262</dt><dd>0.563376406717324</dd><dt>263</dt><dd>0.108034246636096</dd><dt>264</dt><dd>0.0237674836101379</dd><dt>265</dt><dd>0.104747616222874</dd><dt>266</dt><dd>0.073655623423472</dd><dt>267</dt><dd>0.179570502545221</dd><dt>268</dt><dd>0.341668702049912</dd><dt>269</dt><dd>0.0127551708326717</dd><dt>270</dt><dd>0.66230838403741</dd><dt>271</dt><dd>1.96257058218435e-07</dd><dt>272</dt><dd>0.40119055175856</dd><dt>273</dt><dd>0.33351714398911</dd><dt>274</dt><dd>0.916826228122979</dd><dt>275</dt><dd>0.550814828577136</dd><dt>276</dt><dd>0.371717046720488</dd><dt>277</dt><dd>0.699664968761511</dd><dt>278</dt><dd>0.295684649281502</dd><dt>279</dt><dd>0.911446029136818</dd><dt>280</dt><dd>0.00946928513824437</dd><dt>281</dt><dd>0.0291280023347744</dd><dt>282</dt><dd>0.972726841424771</dd><dt>283</dt><dd>0.152136882923718</dd><dt>284</dt><dd>0.0894148622391138</dd><dt>285</dt><dd>0.360088318305072</dd><dt>286</dt><dd>0.0667033057333654</dd><dt>287</dt><dd>0.105749652572269</dd><dt>288</dt><dd>0.077638852856699</dd><dt>289</dt><dd>0.635538801585363</dd><dt>290</dt><dd>0.220126925094037</dd><dt>291</dt><dd>0.304436517722608</dd><dt>292</dt><dd>0.940544336504893</dd><dt>293</dt><dd>0.0437552645266986</dd><dt>294</dt><dd>0.0701479588071494</dd><dt>295</dt><dd>0.35799603184621</dd><dt>296</dt><dd>0.207559346340878</dd><dt>297</dt><dd>0.0237761537175112</dd><dt>298</dt><dd>0.438722573485778</dd><dt>299</dt><dd>0.0749303640452978</dd><dt>300</dt><dd>0.122643356102131</dd></dl>\n"
      ],
      "text/latex": [
       "\\begin{description*}\n",
       "\\item[1] 0.0262541102961707\n",
       "\\item[2] 0.335919191182075\n",
       "\\item[3] 0.791915453614011\n",
       "\\item[4] 0.134042920309172\n",
       "\\item[5] 0.905349430697022\n",
       "\\item[6] 0.110149866428091\n",
       "\\item[7] 0.936895564169456\n",
       "\\item[8] 0.0683581459915182\n",
       "\\item[9] 0.0032065669899146\n",
       "\\item[10] 0.123786616898688\n",
       "\\item[11] 0.806732914611602\n",
       "\\item[12] 0.290396059962923\n",
       "\\item[13] 0.626174955647017\n",
       "\\item[14] 0.489945782590698\n",
       "\\item[15] 0.0315861821654858\n",
       "\\item[16] 0.116111158168528\n",
       "\\item[17] 0.304299915528803\n",
       "\\item[18] 0.087136239684185\n",
       "\\item[19] 0.056904030268832\n",
       "\\item[20] 0.00850736822666429\n",
       "\\item[21] 0.659238468390413\n",
       "\\item[22] 0.0112474824223386\n",
       "\\item[23] 0.443135284782538\n",
       "\\item[24] 5.89009292225748e-09\n",
       "\\item[25] 0.444062336182445\n",
       "\\item[26] 0.733276322302777\n",
       "\\item[27] 0.134015938422631\n",
       "\\item[28] 0.0989783179031707\n",
       "\\item[29] 0.0176673586471939\n",
       "\\item[30] 0.434546618714602\n",
       "\\item[31] 0.0516779413793954\n",
       "\\item[32] 0.0198175555485388\n",
       "\\item[33] 0.0310930829000574\n",
       "\\item[34] 0.140505890675594\n",
       "\\item[35] 0.125433113853058\n",
       "\\item[36] 0.19563415272682\n",
       "\\item[37] 3.56628482627457e-08\n",
       "\\item[38] 0.131655606936058\n",
       "\\item[39] 0.00978273979738719\n",
       "\\item[40] 0.0667245471174334\n",
       "\\item[41] 0.0978730323378211\n",
       "\\item[42] 0.335722887299927\n",
       "\\item[43] 0.636453286161674\n",
       "\\item[44] 0.0439298391664398\n",
       "\\item[45] 0.0276321435851717\n",
       "\\item[46] 0.396222310506517\n",
       "\\item[47] 0.00921906615638505\n",
       "\\item[48] 0.0115285828457731\n",
       "\\item[49] 0.0468856402567384\n",
       "\\item[50] 0.650136705253986\n",
       "\\item[51] 0.32135520346486\n",
       "\\item[52] 0.301746593385296\n",
       "\\item[53] 0.108414828542197\n",
       "\\item[54] 0.221090125424419\n",
       "\\item[55] 0.137315303374562\n",
       "\\item[56] 0.246155598854879\n",
       "\\item[57] 0.114842448299077\n",
       "\\item[58] 0.218861811954387\n",
       "\\item[59] 0.667197416968552\n",
       "\\item[60] 0.0386315758718067\n",
       "\\item[61] 0.156634277482666\n",
       "\\item[62] 0.103216688324964\n",
       "\\item[63] 0.201241421310928\n",
       "\\item[64] 0.796260868816571\n",
       "\\item[65] 0.584633093764016\n",
       "\\item[66] 0.154322064995787\n",
       "\\item[67] 0.778238184808198\n",
       "\\item[68] 0.34445341235501\n",
       "\\item[69] 0.066844947964976\n",
       "\\item[70] 0.599148333114331\n",
       "\\item[71] 0.789873815547454\n",
       "\\item[72] 0.0436095183101236\n",
       "\\item[73] 0.106068915924513\n",
       "\\item[74] 0.043618639083514\n",
       "\\item[75] 0.620561057816034\n",
       "\\item[76] 0.087024915653913\n",
       "\\item[77] 0.253007114652182\n",
       "\\item[78] 0.0195171994745678\n",
       "\\item[79] 0.808426267515294\n",
       "\\item[80] 0.0428923839089808\n",
       "\\item[81] 0.880295459846557\n",
       "\\item[82] 0.522842213189857\n",
       "\\item[83] 0.778464447289437\n",
       "\\item[84] 0.0176624487053829\n",
       "\\item[85] 0.0318048941115579\n",
       "\\item[86] 0.610702472217885\n",
       "\\item[87] 0.281779161759604\n",
       "\\item[88] 0.38692973564985\n",
       "\\item[89] 2.42151313159352e-08\n",
       "\\item[90] 0.405035746768609\n",
       "\\item[91] 0.118217275942332\n",
       "\\item[92] 0.409435718530245\n",
       "\\item[93] 0.709331035525078\n",
       "\\item[94] 0.287247456336581\n",
       "\\item[95] 0.934307612498884\n",
       "\\item[96] 0.0559218521048343\n",
       "\\item[97] 0.191613683541948\n",
       "\\item[98] 0.669922987407228\n",
       "\\item[99] 0.392961166684749\n",
       "\\item[100] 0.00282666790172517\n",
       "\\item[101] 0.109404789629453\n",
       "\\item[102] 0.618599109657203\n",
       "\\item[103] 0.446871902186724\n",
       "\\item[104] 0.0707724129086167\n",
       "\\item[105] 0.0183789261748995\n",
       "\\item[106] 0.643174516355674\n",
       "\\item[107] 0.181804037997709\n",
       "\\item[108] 0.0729383457031842\n",
       "\\item[109] 1.21453469821237e-06\n",
       "\\item[110] 0.122077257808149\n",
       "\\item[111] 0.686263012274433\n",
       "\\item[112] 0.0442669712866269\n",
       "\\item[113] 0.375005694354245\n",
       "\\item[114] 0.0191985735193171\n",
       "\\item[115] 0.178596552485721\n",
       "\\item[116] 0.188280123128712\n",
       "\\item[117] 0.02788954218689\n",
       "\\item[118] 0.197575278727132\n",
       "\\item[119] 0.11234038267415\n",
       "\\item[120] 0.111674323769866\n",
       "\\item[121] 0.367118512232061\n",
       "\\item[122] 1.66974926695743e-07\n",
       "\\item[123] 0.31763451506631\n",
       "\\item[124] 0.0408299217105441\n",
       "\\item[125] 0.550614664004172\n",
       "\\item[126] 0.278052794537795\n",
       "\\item[127] 0.84552309937729\n",
       "\\item[128] 0.0630436554494535\n",
       "\\item[129] 0.0322453377585592\n",
       "\\item[130] 0.580694417702317\n",
       "\\item[131] 0.0798588120019712\n",
       "\\item[132] 0.389534246381164\n",
       "\\item[133] 0.224284066256021\n",
       "\\item[134] 0.329480006913146\n",
       "\\item[135] 0.834292059293327\n",
       "\\item[136] 0.0132073429133512\n",
       "\\item[137] 0.133303239977064\n",
       "\\item[138] 0.116512474487956\n",
       "\\item[139] 0.0592810878343377\n",
       "\\item[140] 0.0172950526983148\n",
       "\\item[141] 0.825576929746072\n",
       "\\item[142] 0.0612471375270428\n",
       "\\item[143] 0.0125997299995142\n",
       "\\item[144] 0.0349712580735897\n",
       "\\item[145] 0.385702671921424\n",
       "\\item[146] 0.108793855833266\n",
       "\\item[147] 0.643508678682285\n",
       "\\item[148] 0.669965108133365\n",
       "\\item[149] 0.0510372894252668\n",
       "\\item[150] 0.417422653494713\n",
       "\\item[151] 0.232012195517213\n",
       "\\item[152] 0.128201506086098\n",
       "\\item[153] 0.110403158675029\n",
       "\\item[154] 0.0138583973999629\n",
       "\\item[155] 0.889806443431729\n",
       "\\item[156] 0.726217834963811\n",
       "\\item[157] 0.191776654714851\n",
       "\\item[158] 0.430739941590273\n",
       "\\item[159] 0.0574916377930104\n",
       "\\item[160] 0.0457123319951057\n",
       "\\item[161] 0.0662402537532521\n",
       "\\item[162] 0.536006359995032\n",
       "\\item[163] 0.176037734852602\n",
       "\\item[164] 2.0028841999341e-08\n",
       "\\item[165] 0.0702017271638281\n",
       "\\item[166] 0.108447594842391\n",
       "\\item[167] 0.405651561959908\n",
       "\\item[168] 0.871322504071041\n",
       "\\item[169] 0.178953619061188\n",
       "\\item[170] 0.614649505248505\n",
       "\\item[171] 0.59570937678776\n",
       "\\item[172] 0.0852753903784437\n",
       "\\item[173] 0.592084950733945\n",
       "\\item[174] 0.156525388705636\n",
       "\\item[175] 0.273027284784856\n",
       "\\item[176] 0.027539564900633\n",
       "\\item[177] 0.110103353196841\n",
       "\\item[178] 0.622341218478283\n",
       "\\item[179] 0.513253173732628\n",
       "\\item[180] 0.626339879204505\n",
       "\\item[181] 0.29581640376903\n",
       "\\item[182] 0.729105852018251\n",
       "\\item[183] 0.0144896533813076\n",
       "\\item[184] 0.154560756084853\n",
       "\\item[185] 0.110566206133116\n",
       "\\item[186] 2.57594604097518e-08\n",
       "\\item[187] 0.534267671234725\n",
       "\\item[188] 0.483199110754618\n",
       "\\item[189] 0.0466475357679148\n",
       "\\item[190] 0.0389478737932743\n",
       "\\item[191] 0.14933745942891\n",
       "\\item[192] 0.316779705620714\n",
       "\\item[193] 0.16568843837771\n",
       "\\item[194] 0.498133227971185\n",
       "\\item[195] 0.0426823650898274\n",
       "\\item[196] 0.229531003826723\n",
       "\\item[197] 0.245721121516952\n",
       "\\item[198] 0.655057841095266\n",
       "\\item[199] 0.128900645225803\n",
       "\\item[200] 0.0300124510382124\n",
       "\\item[201] 0.841990242914613\n",
       "\\item[202] 0.14883663740095\n",
       "\\item[203] 0.938854107459873\n",
       "\\item[204] 0.583517344310879\n",
       "\\item[205] 0.254981021014969\n",
       "\\item[206] 0.384210252814526\n",
       "\\item[207] 0.793476886068114\n",
       "\\item[208] 0.943729718153004\n",
       "\\item[209] 0.0284183419884234\n",
       "\\item[210] 0.862425341201509\n",
       "\\item[211] 0.666878833231457\n",
       "\\item[212] 0.555568156720251\n",
       "\\item[213] 0.0233060195363274\n",
       "\\item[214] 0.593041040381449\n",
       "\\item[215] 0.0415290992084238\n",
       "\\item[216] 0.0157223114851342\n",
       "\\item[217] 0.0348384983410256\n",
       "\\item[218] 0.191204548440923\n",
       "\\item[219] 0.0288211195665811\n",
       "\\item[220] 0.0611239375931927\n",
       "\\item[221] 0.307559972723811\n",
       "\\item[222] 0.581343605577129\n",
       "\\item[223] 0.0151969496625188\n",
       "\\item[224] 0.73952393661164\n",
       "\\item[225] 0.0742421122610703\n",
       "\\item[226] 0.0106306705929144\n",
       "\\item[227] 0.299891375372186\n",
       "\\item[228] 0.188544404103885\n",
       "\\item[229] 0.171755646261708\n",
       "\\item[230] 0.0487958855160275\n",
       "\\item[231] 0.415714342219413\n",
       "\\item[232] 0.0686264726383295\n",
       "\\item[233] 0.0258868642376737\n",
       "\\item[234] 0.0275146912724957\n",
       "\\item[235] 0.185571009948282\n",
       "\\item[236] 0.19630399099828\n",
       "\\item[237] 0.555082466556529\n",
       "\\item[238] 0.771754017777665\n",
       "\\item[239] 0.223447653597471\n",
       "\\item[240] 0.105284875786713\n",
       "\\item[241] 0.0958811875532551\n",
       "\\item[242] 0.208000926492694\n",
       "\\item[243] 0.378501054141287\n",
       "\\item[244] 0.0641735766630168\n",
       "\\item[245] 0.350371527350234\n",
       "\\item[246] 0.181523706349016\n",
       "\\item[247] 0.0296996457305181\n",
       "\\item[248] 0.820814288097475\n",
       "\\item[249] 0.00863424948836101\n",
       "\\item[250] 0.021934485089544\n",
       "\\item[251] 0.0820518650519645\n",
       "\\item[252] 0.175657992793455\n",
       "\\item[253] 0.543453062647147\n",
       "\\item[254] 0.244936962876417\n",
       "\\item[255] 0.0924763856458179\n",
       "\\item[256] 0.433036954640309\n",
       "\\item[257] 0.0664062624590226\n",
       "\\item[258] 0.845509395502849\n",
       "\\item[259] 0.64973131937257\n",
       "\\item[260] 0.0232281840541003\n",
       "\\item[261] 0.152343594666689\n",
       "\\item[262] 0.563376406717324\n",
       "\\item[263] 0.108034246636096\n",
       "\\item[264] 0.0237674836101379\n",
       "\\item[265] 0.104747616222874\n",
       "\\item[266] 0.073655623423472\n",
       "\\item[267] 0.179570502545221\n",
       "\\item[268] 0.341668702049912\n",
       "\\item[269] 0.0127551708326717\n",
       "\\item[270] 0.66230838403741\n",
       "\\item[271] 1.96257058218435e-07\n",
       "\\item[272] 0.40119055175856\n",
       "\\item[273] 0.33351714398911\n",
       "\\item[274] 0.916826228122979\n",
       "\\item[275] 0.550814828577136\n",
       "\\item[276] 0.371717046720488\n",
       "\\item[277] 0.699664968761511\n",
       "\\item[278] 0.295684649281502\n",
       "\\item[279] 0.911446029136818\n",
       "\\item[280] 0.00946928513824437\n",
       "\\item[281] 0.0291280023347744\n",
       "\\item[282] 0.972726841424771\n",
       "\\item[283] 0.152136882923718\n",
       "\\item[284] 0.0894148622391138\n",
       "\\item[285] 0.360088318305072\n",
       "\\item[286] 0.0667033057333654\n",
       "\\item[287] 0.105749652572269\n",
       "\\item[288] 0.077638852856699\n",
       "\\item[289] 0.635538801585363\n",
       "\\item[290] 0.220126925094037\n",
       "\\item[291] 0.304436517722608\n",
       "\\item[292] 0.940544336504893\n",
       "\\item[293] 0.0437552645266986\n",
       "\\item[294] 0.0701479588071494\n",
       "\\item[295] 0.35799603184621\n",
       "\\item[296] 0.207559346340878\n",
       "\\item[297] 0.0237761537175112\n",
       "\\item[298] 0.438722573485778\n",
       "\\item[299] 0.0749303640452978\n",
       "\\item[300] 0.122643356102131\n",
       "\\end{description*}\n"
      ],
      "text/markdown": [
       "1\n",
       ":   0.02625411029617072\n",
       ":   0.3359191911820753\n",
       ":   0.7919154536140114\n",
       ":   0.1340429203091725\n",
       ":   0.9053494306970226\n",
       ":   0.1101498664280917\n",
       ":   0.9368955641694568\n",
       ":   0.06835814599151829\n",
       ":   0.003206566989914610\n",
       ":   0.12378661689868811\n",
       ":   0.80673291461160212\n",
       ":   0.29039605996292313\n",
       ":   0.62617495564701714\n",
       ":   0.48994578259069815\n",
       ":   0.031586182165485816\n",
       ":   0.11611115816852817\n",
       ":   0.30429991552880318\n",
       ":   0.08713623968418519\n",
       ":   0.05690403026883220\n",
       ":   0.0085073682266642921\n",
       ":   0.65923846839041322\n",
       ":   0.011247482422338623\n",
       ":   0.44313528478253824\n",
       ":   5.89009292225748e-0925\n",
       ":   0.44406233618244526\n",
       ":   0.73327632230277727\n",
       ":   0.13401593842263128\n",
       ":   0.098978317903170729\n",
       ":   0.017667358647193930\n",
       ":   0.43454661871460231\n",
       ":   0.051677941379395432\n",
       ":   0.019817555548538833\n",
       ":   0.031093082900057434\n",
       ":   0.14050589067559435\n",
       ":   0.12543311385305836\n",
       ":   0.1956341527268237\n",
       ":   3.56628482627457e-0838\n",
       ":   0.13165560693605839\n",
       ":   0.0097827397973871940\n",
       ":   0.066724547117433441\n",
       ":   0.097873032337821142\n",
       ":   0.33572288729992743\n",
       ":   0.63645328616167444\n",
       ":   0.043929839166439845\n",
       ":   0.027632143585171746\n",
       ":   0.39622231050651747\n",
       ":   0.0092190661563850548\n",
       ":   0.011528582845773149\n",
       ":   0.046885640256738450\n",
       ":   0.65013670525398651\n",
       ":   0.3213552034648652\n",
       ":   0.30174659338529653\n",
       ":   0.10841482854219754\n",
       ":   0.22109012542441955\n",
       ":   0.13731530337456256\n",
       ":   0.24615559885487957\n",
       ":   0.11484244829907758\n",
       ":   0.21886181195438759\n",
       ":   0.66719741696855260\n",
       ":   0.038631575871806761\n",
       ":   0.15663427748266662\n",
       ":   0.10321668832496463\n",
       ":   0.20124142131092864\n",
       ":   0.79626086881657165\n",
       ":   0.58463309376401666\n",
       ":   0.15432206499578767\n",
       ":   0.77823818480819868\n",
       ":   0.3444534123550169\n",
       ":   0.06684494796497670\n",
       ":   0.59914833311433171\n",
       ":   0.78987381554745472\n",
       ":   0.043609518310123673\n",
       ":   0.10606891592451374\n",
       ":   0.04361863908351475\n",
       ":   0.62056105781603476\n",
       ":   0.08702491565391377\n",
       ":   0.25300711465218278\n",
       ":   0.019517199474567879\n",
       ":   0.80842626751529480\n",
       ":   0.042892383908980881\n",
       ":   0.88029545984655782\n",
       ":   0.52284221318985783\n",
       ":   0.77846444728943784\n",
       ":   0.017662448705382985\n",
       ":   0.031804894111557986\n",
       ":   0.61070247221788587\n",
       ":   0.28177916175960488\n",
       ":   0.3869297356498589\n",
       ":   2.42151313159352e-0890\n",
       ":   0.40503574676860991\n",
       ":   0.11821727594233292\n",
       ":   0.40943571853024593\n",
       ":   0.70933103552507894\n",
       ":   0.28724745633658195\n",
       ":   0.93430761249888496\n",
       ":   0.055921852104834397\n",
       ":   0.19161368354194898\n",
       ":   0.66992298740722899\n",
       ":   0.392961166684749100\n",
       ":   0.00282666790172517101\n",
       ":   0.109404789629453102\n",
       ":   0.618599109657203103\n",
       ":   0.446871902186724104\n",
       ":   0.0707724129086167105\n",
       ":   0.0183789261748995106\n",
       ":   0.643174516355674107\n",
       ":   0.181804037997709108\n",
       ":   0.0729383457031842109\n",
       ":   1.21453469821237e-06110\n",
       ":   0.122077257808149111\n",
       ":   0.686263012274433112\n",
       ":   0.0442669712866269113\n",
       ":   0.375005694354245114\n",
       ":   0.0191985735193171115\n",
       ":   0.178596552485721116\n",
       ":   0.188280123128712117\n",
       ":   0.02788954218689118\n",
       ":   0.197575278727132119\n",
       ":   0.11234038267415120\n",
       ":   0.111674323769866121\n",
       ":   0.367118512232061122\n",
       ":   1.66974926695743e-07123\n",
       ":   0.31763451506631124\n",
       ":   0.0408299217105441125\n",
       ":   0.550614664004172126\n",
       ":   0.278052794537795127\n",
       ":   0.84552309937729128\n",
       ":   0.0630436554494535129\n",
       ":   0.0322453377585592130\n",
       ":   0.580694417702317131\n",
       ":   0.0798588120019712132\n",
       ":   0.389534246381164133\n",
       ":   0.224284066256021134\n",
       ":   0.329480006913146135\n",
       ":   0.834292059293327136\n",
       ":   0.0132073429133512137\n",
       ":   0.133303239977064138\n",
       ":   0.116512474487956139\n",
       ":   0.0592810878343377140\n",
       ":   0.0172950526983148141\n",
       ":   0.825576929746072142\n",
       ":   0.0612471375270428143\n",
       ":   0.0125997299995142144\n",
       ":   0.0349712580735897145\n",
       ":   0.385702671921424146\n",
       ":   0.108793855833266147\n",
       ":   0.643508678682285148\n",
       ":   0.669965108133365149\n",
       ":   0.0510372894252668150\n",
       ":   0.417422653494713151\n",
       ":   0.232012195517213152\n",
       ":   0.128201506086098153\n",
       ":   0.110403158675029154\n",
       ":   0.0138583973999629155\n",
       ":   0.889806443431729156\n",
       ":   0.726217834963811157\n",
       ":   0.191776654714851158\n",
       ":   0.430739941590273159\n",
       ":   0.0574916377930104160\n",
       ":   0.0457123319951057161\n",
       ":   0.0662402537532521162\n",
       ":   0.536006359995032163\n",
       ":   0.176037734852602164\n",
       ":   2.0028841999341e-08165\n",
       ":   0.0702017271638281166\n",
       ":   0.108447594842391167\n",
       ":   0.405651561959908168\n",
       ":   0.871322504071041169\n",
       ":   0.178953619061188170\n",
       ":   0.614649505248505171\n",
       ":   0.59570937678776172\n",
       ":   0.0852753903784437173\n",
       ":   0.592084950733945174\n",
       ":   0.156525388705636175\n",
       ":   0.273027284784856176\n",
       ":   0.027539564900633177\n",
       ":   0.110103353196841178\n",
       ":   0.622341218478283179\n",
       ":   0.513253173732628180\n",
       ":   0.626339879204505181\n",
       ":   0.29581640376903182\n",
       ":   0.729105852018251183\n",
       ":   0.0144896533813076184\n",
       ":   0.154560756084853185\n",
       ":   0.110566206133116186\n",
       ":   2.57594604097518e-08187\n",
       ":   0.534267671234725188\n",
       ":   0.483199110754618189\n",
       ":   0.0466475357679148190\n",
       ":   0.0389478737932743191\n",
       ":   0.14933745942891192\n",
       ":   0.316779705620714193\n",
       ":   0.16568843837771194\n",
       ":   0.498133227971185195\n",
       ":   0.0426823650898274196\n",
       ":   0.229531003826723197\n",
       ":   0.245721121516952198\n",
       ":   0.655057841095266199\n",
       ":   0.128900645225803200\n",
       ":   0.0300124510382124201\n",
       ":   0.841990242914613202\n",
       ":   0.14883663740095203\n",
       ":   0.938854107459873204\n",
       ":   0.583517344310879205\n",
       ":   0.254981021014969206\n",
       ":   0.384210252814526207\n",
       ":   0.793476886068114208\n",
       ":   0.943729718153004209\n",
       ":   0.0284183419884234210\n",
       ":   0.862425341201509211\n",
       ":   0.666878833231457212\n",
       ":   0.555568156720251213\n",
       ":   0.0233060195363274214\n",
       ":   0.593041040381449215\n",
       ":   0.0415290992084238216\n",
       ":   0.0157223114851342217\n",
       ":   0.0348384983410256218\n",
       ":   0.191204548440923219\n",
       ":   0.0288211195665811220\n",
       ":   0.0611239375931927221\n",
       ":   0.307559972723811222\n",
       ":   0.581343605577129223\n",
       ":   0.0151969496625188224\n",
       ":   0.73952393661164225\n",
       ":   0.0742421122610703226\n",
       ":   0.0106306705929144227\n",
       ":   0.299891375372186228\n",
       ":   0.188544404103885229\n",
       ":   0.171755646261708230\n",
       ":   0.0487958855160275231\n",
       ":   0.415714342219413232\n",
       ":   0.0686264726383295233\n",
       ":   0.0258868642376737234\n",
       ":   0.0275146912724957235\n",
       ":   0.185571009948282236\n",
       ":   0.19630399099828237\n",
       ":   0.555082466556529238\n",
       ":   0.771754017777665239\n",
       ":   0.223447653597471240\n",
       ":   0.105284875786713241\n",
       ":   0.0958811875532551242\n",
       ":   0.208000926492694243\n",
       ":   0.378501054141287244\n",
       ":   0.0641735766630168245\n",
       ":   0.350371527350234246\n",
       ":   0.181523706349016247\n",
       ":   0.0296996457305181248\n",
       ":   0.820814288097475249\n",
       ":   0.00863424948836101250\n",
       ":   0.021934485089544251\n",
       ":   0.0820518650519645252\n",
       ":   0.175657992793455253\n",
       ":   0.543453062647147254\n",
       ":   0.244936962876417255\n",
       ":   0.0924763856458179256\n",
       ":   0.433036954640309257\n",
       ":   0.0664062624590226258\n",
       ":   0.845509395502849259\n",
       ":   0.64973131937257260\n",
       ":   0.0232281840541003261\n",
       ":   0.152343594666689262\n",
       ":   0.563376406717324263\n",
       ":   0.108034246636096264\n",
       ":   0.0237674836101379265\n",
       ":   0.104747616222874266\n",
       ":   0.073655623423472267\n",
       ":   0.179570502545221268\n",
       ":   0.341668702049912269\n",
       ":   0.0127551708326717270\n",
       ":   0.66230838403741271\n",
       ":   1.96257058218435e-07272\n",
       ":   0.40119055175856273\n",
       ":   0.33351714398911274\n",
       ":   0.916826228122979275\n",
       ":   0.550814828577136276\n",
       ":   0.371717046720488277\n",
       ":   0.699664968761511278\n",
       ":   0.295684649281502279\n",
       ":   0.911446029136818280\n",
       ":   0.00946928513824437281\n",
       ":   0.0291280023347744282\n",
       ":   0.972726841424771283\n",
       ":   0.152136882923718284\n",
       ":   0.0894148622391138285\n",
       ":   0.360088318305072286\n",
       ":   0.0667033057333654287\n",
       ":   0.105749652572269288\n",
       ":   0.077638852856699289\n",
       ":   0.635538801585363290\n",
       ":   0.220126925094037291\n",
       ":   0.304436517722608292\n",
       ":   0.940544336504893293\n",
       ":   0.0437552645266986294\n",
       ":   0.0701479588071494295\n",
       ":   0.35799603184621296\n",
       ":   0.207559346340878297\n",
       ":   0.0237761537175112298\n",
       ":   0.438722573485778299\n",
       ":   0.0749303640452978300\n",
       ":   0.122643356102131\n",
       "\n"
      ],
      "text/plain": [
       "           1            2            3            4            5            6 \n",
       "2.625411e-02 3.359192e-01 7.919155e-01 1.340429e-01 9.053494e-01 1.101499e-01 \n",
       "           7            8            9           10           11           12 \n",
       "9.368956e-01 6.835815e-02 3.206567e-03 1.237866e-01 8.067329e-01 2.903961e-01 \n",
       "          13           14           15           16           17           18 \n",
       "6.261750e-01 4.899458e-01 3.158618e-02 1.161112e-01 3.042999e-01 8.713624e-02 \n",
       "          19           20           21           22           23           24 \n",
       "5.690403e-02 8.507368e-03 6.592385e-01 1.124748e-02 4.431353e-01 5.890093e-09 \n",
       "          25           26           27           28           29           30 \n",
       "4.440623e-01 7.332763e-01 1.340159e-01 9.897832e-02 1.766736e-02 4.345466e-01 \n",
       "          31           32           33           34           35           36 \n",
       "5.167794e-02 1.981756e-02 3.109308e-02 1.405059e-01 1.254331e-01 1.956342e-01 \n",
       "          37           38           39           40           41           42 \n",
       "3.566285e-08 1.316556e-01 9.782740e-03 6.672455e-02 9.787303e-02 3.357229e-01 \n",
       "          43           44           45           46           47           48 \n",
       "6.364533e-01 4.392984e-02 2.763214e-02 3.962223e-01 9.219066e-03 1.152858e-02 \n",
       "          49           50           51           52           53           54 \n",
       "4.688564e-02 6.501367e-01 3.213552e-01 3.017466e-01 1.084148e-01 2.210901e-01 \n",
       "          55           56           57           58           59           60 \n",
       "1.373153e-01 2.461556e-01 1.148424e-01 2.188618e-01 6.671974e-01 3.863158e-02 \n",
       "          61           62           63           64           65           66 \n",
       "1.566343e-01 1.032167e-01 2.012414e-01 7.962609e-01 5.846331e-01 1.543221e-01 \n",
       "          67           68           69           70           71           72 \n",
       "7.782382e-01 3.444534e-01 6.684495e-02 5.991483e-01 7.898738e-01 4.360952e-02 \n",
       "          73           74           75           76           77           78 \n",
       "1.060689e-01 4.361864e-02 6.205611e-01 8.702492e-02 2.530071e-01 1.951720e-02 \n",
       "          79           80           81           82           83           84 \n",
       "8.084263e-01 4.289238e-02 8.802955e-01 5.228422e-01 7.784644e-01 1.766245e-02 \n",
       "          85           86           87           88           89           90 \n",
       "3.180489e-02 6.107025e-01 2.817792e-01 3.869297e-01 2.421513e-08 4.050357e-01 \n",
       "          91           92           93           94           95           96 \n",
       "1.182173e-01 4.094357e-01 7.093310e-01 2.872475e-01 9.343076e-01 5.592185e-02 \n",
       "          97           98           99          100          101          102 \n",
       "1.916137e-01 6.699230e-01 3.929612e-01 2.826668e-03 1.094048e-01 6.185991e-01 \n",
       "         103          104          105          106          107          108 \n",
       "4.468719e-01 7.077241e-02 1.837893e-02 6.431745e-01 1.818040e-01 7.293835e-02 \n",
       "         109          110          111          112          113          114 \n",
       "1.214535e-06 1.220773e-01 6.862630e-01 4.426697e-02 3.750057e-01 1.919857e-02 \n",
       "         115          116          117          118          119          120 \n",
       "1.785966e-01 1.882801e-01 2.788954e-02 1.975753e-01 1.123404e-01 1.116743e-01 \n",
       "         121          122          123          124          125          126 \n",
       "3.671185e-01 1.669749e-07 3.176345e-01 4.082992e-02 5.506147e-01 2.780528e-01 \n",
       "         127          128          129          130          131          132 \n",
       "8.455231e-01 6.304366e-02 3.224534e-02 5.806944e-01 7.985881e-02 3.895342e-01 \n",
       "         133          134          135          136          137          138 \n",
       "2.242841e-01 3.294800e-01 8.342921e-01 1.320734e-02 1.333032e-01 1.165125e-01 \n",
       "         139          140          141          142          143          144 \n",
       "5.928109e-02 1.729505e-02 8.255769e-01 6.124714e-02 1.259973e-02 3.497126e-02 \n",
       "         145          146          147          148          149          150 \n",
       "3.857027e-01 1.087939e-01 6.435087e-01 6.699651e-01 5.103729e-02 4.174227e-01 \n",
       "         151          152          153          154          155          156 \n",
       "2.320122e-01 1.282015e-01 1.104032e-01 1.385840e-02 8.898064e-01 7.262178e-01 \n",
       "         157          158          159          160          161          162 \n",
       "1.917767e-01 4.307399e-01 5.749164e-02 4.571233e-02 6.624025e-02 5.360064e-01 \n",
       "         163          164          165          166          167          168 \n",
       "1.760377e-01 2.002884e-08 7.020173e-02 1.084476e-01 4.056516e-01 8.713225e-01 \n",
       "         169          170          171          172          173          174 \n",
       "1.789536e-01 6.146495e-01 5.957094e-01 8.527539e-02 5.920850e-01 1.565254e-01 \n",
       "         175          176          177          178          179          180 \n",
       "2.730273e-01 2.753956e-02 1.101034e-01 6.223412e-01 5.132532e-01 6.263399e-01 \n",
       "         181          182          183          184          185          186 \n",
       "2.958164e-01 7.291059e-01 1.448965e-02 1.545608e-01 1.105662e-01 2.575946e-08 \n",
       "         187          188          189          190          191          192 \n",
       "5.342677e-01 4.831991e-01 4.664754e-02 3.894787e-02 1.493375e-01 3.167797e-01 \n",
       "         193          194          195          196          197          198 \n",
       "1.656884e-01 4.981332e-01 4.268237e-02 2.295310e-01 2.457211e-01 6.550578e-01 \n",
       "         199          200          201          202          203          204 \n",
       "1.289006e-01 3.001245e-02 8.419902e-01 1.488366e-01 9.388541e-01 5.835173e-01 \n",
       "         205          206          207          208          209          210 \n",
       "2.549810e-01 3.842103e-01 7.934769e-01 9.437297e-01 2.841834e-02 8.624253e-01 \n",
       "         211          212          213          214          215          216 \n",
       "6.668788e-01 5.555682e-01 2.330602e-02 5.930410e-01 4.152910e-02 1.572231e-02 \n",
       "         217          218          219          220          221          222 \n",
       "3.483850e-02 1.912045e-01 2.882112e-02 6.112394e-02 3.075600e-01 5.813436e-01 \n",
       "         223          224          225          226          227          228 \n",
       "1.519695e-02 7.395239e-01 7.424211e-02 1.063067e-02 2.998914e-01 1.885444e-01 \n",
       "         229          230          231          232          233          234 \n",
       "1.717556e-01 4.879589e-02 4.157143e-01 6.862647e-02 2.588686e-02 2.751469e-02 \n",
       "         235          236          237          238          239          240 \n",
       "1.855710e-01 1.963040e-01 5.550825e-01 7.717540e-01 2.234477e-01 1.052849e-01 \n",
       "         241          242          243          244          245          246 \n",
       "9.588119e-02 2.080009e-01 3.785011e-01 6.417358e-02 3.503715e-01 1.815237e-01 \n",
       "         247          248          249          250          251          252 \n",
       "2.969965e-02 8.208143e-01 8.634249e-03 2.193449e-02 8.205187e-02 1.756580e-01 \n",
       "         253          254          255          256          257          258 \n",
       "5.434531e-01 2.449370e-01 9.247639e-02 4.330370e-01 6.640626e-02 8.455094e-01 \n",
       "         259          260          261          262          263          264 \n",
       "6.497313e-01 2.322818e-02 1.523436e-01 5.633764e-01 1.080342e-01 2.376748e-02 \n",
       "         265          266          267          268          269          270 \n",
       "1.047476e-01 7.365562e-02 1.795705e-01 3.416687e-01 1.275517e-02 6.623084e-01 \n",
       "         271          272          273          274          275          276 \n",
       "1.962571e-07 4.011906e-01 3.335171e-01 9.168262e-01 5.508148e-01 3.717170e-01 \n",
       "         277          278          279          280          281          282 \n",
       "6.996650e-01 2.956846e-01 9.114460e-01 9.469285e-03 2.912800e-02 9.727268e-01 \n",
       "         283          284          285          286          287          288 \n",
       "1.521369e-01 8.941486e-02 3.600883e-01 6.670331e-02 1.057497e-01 7.763885e-02 \n",
       "         289          290          291          292          293          294 \n",
       "6.355388e-01 2.201269e-01 3.044365e-01 9.405443e-01 4.375526e-02 7.014796e-02 \n",
       "         295          296          297          298          299          300 \n",
       "3.579960e-01 2.075593e-01 2.377615e-02 4.387226e-01 7.493036e-02 1.226434e-01 "
      ]
     },
     "metadata": {},
     "output_type": "display_data"
    }
   ],
   "source": [
    "#predict mode\n",
    "y_hat<-predict(reg,d.valid,type = \"response\")\n",
    "y_hat"
   ]
  },
  {
   "cell_type": "code",
   "execution_count": 244,
   "metadata": {
    "collapsed": false
   },
   "outputs": [
    {
     "data": {
      "text/plain": [
       "           \n",
       "y_hat_round   0   1\n",
       "          0 170  43\n",
       "          1  34  53"
      ]
     },
     "metadata": {},
     "output_type": "display_data"
    }
   ],
   "source": [
    "#confusion matrix of predicted vs observed on the validation data set\n",
    "# This will help to calculate the accuracy and specificity \n",
    "\n",
    "y_hat_round <- as.integer(y_hat > 0.5)\n",
    "\n",
    "t <- table(y_hat_round,d.valid$X1.1)\n",
    "t\n",
    "#CONFUSION MATRIX"
   ]
  },
  {
   "cell_type": "code",
   "execution_count": 246,
   "metadata": {
    "collapsed": false
   },
   "outputs": [
    {
     "data": {
      "text/html": [
       "0.743333333333333"
      ],
      "text/latex": [
       "0.743333333333333"
      ],
      "text/markdown": [
       "0.743333333333333"
      ],
      "text/plain": [
       "[1] 0.7433333"
      ]
     },
     "metadata": {},
     "output_type": "display_data"
    }
   ],
   "source": [
    "# Model's accuracy is (170 + 43) / (170 + 53 + 43 + 34) = 74%.\n",
    "Accuracy <- (t[1,1] + t[2,2]) / sum(t)\n",
    "Accuracy"
   ]
  },
  {
   "cell_type": "code",
   "execution_count": 247,
   "metadata": {
    "collapsed": false
   },
   "outputs": [
    {
     "data": {
      "text/html": [
       "0.833333333333333"
      ],
      "text/latex": [
       "0.833333333333333"
      ],
      "text/markdown": [
       "0.833333333333333"
      ],
      "text/plain": [
       "[1] 0.8333333"
      ]
     },
     "metadata": {},
     "output_type": "display_data"
    }
   ],
   "source": [
    "specificity <- (t[1,1])/(t[1,1]+t[2,1])\n",
    "specificity"
   ]
  },
  {
   "cell_type": "code",
   "execution_count": 248,
   "metadata": {
    "collapsed": false
   },
   "outputs": [
    {
     "name": "stderr",
     "output_type": "stream",
     "text": [
      "Setting levels: control = 0, case = 1\n",
      "\n",
      "Setting direction: controls < cases\n",
      "\n"
     ]
    },
    {
     "data": {
      "text/plain": [
       "\n",
       "Call:\n",
       "roc.default(response = d.valid$X1.1, predictor = y_hat_round)\n",
       "\n",
       "Data: y_hat_round in 204 controls (d.valid$X1.1 0) < 96 cases (d.valid$X1.1 1).\n",
       "Area under the curve: 0.6927"
      ]
     },
     "metadata": {},
     "output_type": "display_data"
    },
    {
     "data": {
      "image/png": "[encoded data removed]",
      "text/plain": [
       "Plot with title \"ROC curve\""
      ]
     },
     "metadata": {
      "image/png": {
       "height": 420,
       "width": 420
      }
     },
     "output_type": "display_data"
    }
   ],
   "source": [
    "library(pROC)\n",
    "\n",
    "# Develop ROC curve to determine the quality of fit\n",
    "\n",
    "r<-roc(d.valid$X1.1,y_hat_round)\n",
    "\n",
    "# Plot the ROC curve\n",
    "\n",
    "plot(r,main=\"ROC curve\")\n",
    "r"
   ]
  },
  {
   "cell_type": "code",
   "execution_count": 251,
   "metadata": {
    "collapsed": false
   },
   "outputs": [
    {
     "name": "stderr",
     "output_type": "stream",
     "text": [
      "Setting levels: control = 0, case = 1\n",
      "\n",
      "Setting direction: controls < cases\n",
      "\n",
      "Setting levels: control = 0, case = 1\n",
      "\n",
      "Setting direction: controls < cases\n",
      "\n",
      "Setting levels: control = 0, case = 1\n",
      "\n",
      "Setting direction: controls < cases\n",
      "\n",
      "Setting levels: control = 0, case = 1\n",
      "\n",
      "Setting direction: controls < cases\n",
      "\n",
      "Setting levels: control = 0, case = 1\n",
      "\n",
      "Setting direction: controls < cases\n",
      "\n",
      "Setting levels: control = 0, case = 1\n",
      "\n",
      "Setting direction: controls < cases\n",
      "\n",
      "Setting levels: control = 0, case = 1\n",
      "\n",
      "Setting direction: controls < cases\n",
      "\n",
      "Setting levels: control = 0, case = 1\n",
      "\n",
      "Setting direction: controls < cases\n",
      "\n",
      "Setting levels: control = 0, case = 1\n",
      "\n",
      "Setting direction: controls < cases\n",
      "\n"
     ]
    },
    {
     "data": {
      "text/html": [
       "<table class=\"dataframe\">\n",
       "<caption>A matrix: 1 × 9 of type dbl</caption>\n",
       "<tbody>\n",
       "\t<tr><td>0.57</td><td>0.6833333</td><td>0.7033333</td><td>0.7233333</td><td>0.7433333</td><td>0.7366667</td><td>0.73</td><td>0.72</td><td>0.6933333</td></tr>\n",
       "</tbody>\n",
       "</table>\n"
      ],
      "text/latex": [
       "A matrix: 1 × 9 of type dbl\n",
       "\\begin{tabular}{lllllllll}\n",
       "\t 0.57 & 0.6833333 & 0.7033333 & 0.7233333 & 0.7433333 & 0.7366667 & 0.73 & 0.72 & 0.6933333\\\\\n",
       "\\end{tabular}\n"
      ],
      "text/markdown": [
       "\n",
       "A matrix: 1 × 9 of type dbl\n",
       "\n",
       "| 0.57 | 0.6833333 | 0.7033333 | 0.7233333 | 0.7433333 | 0.7366667 | 0.73 | 0.72 | 0.6933333 |\n",
       "\n"
      ],
      "text/plain": [
       "     [,1] [,2]      [,3]      [,4]      [,5]      [,6]      [,7] [,8] [,9]     \n",
       "[1,] 0.57 0.6833333 0.7033333 0.7233333 0.7433333 0.7366667 0.73 0.72 0.6933333"
      ]
     },
     "metadata": {},
     "output_type": "display_data"
    },
    {
     "data": {
      "text/html": [
       "<table class=\"dataframe\">\n",
       "<caption>A matrix: 1 × 9 of type dbl</caption>\n",
       "<tbody>\n",
       "\t<tr><td>0.6700368</td><td>0.7175245</td><td>0.7074142</td><td>0.7000613</td><td>0.6927083</td><td>0.6492034</td><td>0.6112132</td><td>0.5707721</td><td>0.5235907</td></tr>\n",
       "</tbody>\n",
       "</table>\n"
      ],
      "text/latex": [
       "A matrix: 1 × 9 of type dbl\n",
       "\\begin{tabular}{lllllllll}\n",
       "\t 0.6700368 & 0.7175245 & 0.7074142 & 0.7000613 & 0.6927083 & 0.6492034 & 0.6112132 & 0.5707721 & 0.5235907\\\\\n",
       "\\end{tabular}\n"
      ],
      "text/markdown": [
       "\n",
       "A matrix: 1 × 9 of type dbl\n",
       "\n",
       "| 0.6700368 | 0.7175245 | 0.7074142 | 0.7000613 | 0.6927083 | 0.6492034 | 0.6112132 | 0.5707721 | 0.5235907 |\n",
       "\n"
      ],
      "text/plain": [
       "     [,1]      [,2]      [,3]      [,4]      [,5]      [,6]      [,7]     \n",
       "[1,] 0.6700368 0.7175245 0.7074142 0.7000613 0.6927083 0.6492034 0.6112132\n",
       "     [,8]      [,9]     \n",
       "[1,] 0.5707721 0.5235907"
      ]
     },
     "metadata": {},
     "output_type": "display_data"
    }
   ],
   "source": [
    "# The area under the curve is 69%. This means that whenever a sample is chosen\n",
    "# from the response group and another sample is chosen from the non-response \n",
    "# group, then the model will correctly classify both the samples 68% of the times.\n",
    "\n",
    "\n",
    "acc <- c()\n",
    "auc <- c()\n",
    "\n",
    "for (i in 1:9) {\n",
    "  y_hat_round <- as.integer(y_hat > i/10)\n",
    "  t <- table(y_hat_round,d.valid$X1.1)\n",
    "  acc <- cbind(acc,(t[1,1] + t[2,2]) / sum(t))\n",
    "  r<-roc(d.valid$X1.1,y_hat_round)\n",
    "  auc <- cbind(auc,r$auc)\n",
    "}\n",
    "\n",
    "acc\n",
    "auc"
   ]
  },
  {
   "cell_type": "markdown",
   "metadata": {},
   "source": [
    "# -------------------- Part 2 -----------------------------\n",
    "\n",
    "# The loss of incorrectly classfying a \"bad\" customer is 5 times the loss of \n",
    "# incorrectly classifying a \"good\" customer. \n",
    "# Calulating loss for the value of \n",
    "# thresholds ranging from 0.01 to 1. "
   ]
  },
  {
   "cell_type": "markdown",
   "metadata": {},
   "source": [
    "# Approach for Part#2\n",
    "1) for the confusion matrix,Associated cost to False Positives and True negatives (as TP and FN are Zero cost)\n",
    "2) per requirement, use True negatives are 5 times more costlier than False positives. For values 1-100, calculate the loss\n",
    "3) identify the threshold with lowest loss\n",
    "4) For the minimum threshold point, obtain the Accuracy and AUC\n",
    "## Accuracy : 0.57\n",
    "## Area under the curve: 0.67"
   ]
  },
  {
   "cell_type": "code",
   "execution_count": 296,
   "metadata": {
    "collapsed": false
   },
   "outputs": [
    {
     "data": {
      "text/html": [
       "<style>\n",
       ".list-inline {list-style: none; margin:0; padding: 0}\n",
       ".list-inline>li {display: inline-block}\n",
       ".list-inline>li:not(:last-child)::after {content: \"\\00b7\"; padding: 0 .5ex}\n",
       "</style>\n",
       "<ol class=list-inline><li>212</li><li>207</li><li>192</li><li>183</li><li>182</li><li>182</li><li>171</li><li>162</li><li>175</li><li>171</li><li>173</li><li>169</li><li>169</li><li>170</li><li>167</li><li>173</li><li>172</li><li>178</li><li>185</li><li>185</li><li>182</li><li>187</li><li>200</li><li>205</li><li>208</li><li>206</li><li>206</li><li>216</li><li>220</li><li>222</li><li>218</li><li>216</li><li>220</li><li>223</li><li>227</li><li>237</li><li>241</li><li>250</li><li>270</li><li>268</li><li>282</li><li>280</li><li>280</li><li>288</li><li>297</li><li>297</li><li>297</li><li>297</li><li>307</li><li>306</li><li>306</li><li>311</li><li>310</li><li>314</li><li>313</li><li>315</li><li>314</li><li>314</li><li>316</li><li>330</li><li>330</li><li>345</li><li>359</li><li>363</li><li>366</li><li>369</li><li>370</li><li>370</li><li>375</li><li>380</li><li>385</li><li>385</li><li>395</li><li>405</li><li>405</li><li>405</li><li>405</li><li>414</li><li>419</li><li>428</li><li>438</li><li>438</li><li>448</li><li>453</li><li>468</li><li>468</li><li>473</li><li>478</li><li>482</li><li>482</li><li>487</li><li>497</li><li>497</li><li>506</li><li>516</li><li>516</li><li>516</li><li>515</li><li>515</li><li>515</li></ol>\n"
      ],
      "text/latex": [
       "\\begin{enumerate*}\n",
       "\\item 212\n",
       "\\item 207\n",
       "\\item 192\n",
       "\\item 183\n",
       "\\item 182\n",
       "\\item 182\n",
       "\\item 171\n",
       "\\item 162\n",
       "\\item 175\n",
       "\\item 171\n",
       "\\item 173\n",
       "\\item 169\n",
       "\\item 169\n",
       "\\item 170\n",
       "\\item 167\n",
       "\\item 173\n",
       "\\item 172\n",
       "\\item 178\n",
       "\\item 185\n",
       "\\item 185\n",
       "\\item 182\n",
       "\\item 187\n",
       "\\item 200\n",
       "\\item 205\n",
       "\\item 208\n",
       "\\item 206\n",
       "\\item 206\n",
       "\\item 216\n",
       "\\item 220\n",
       "\\item 222\n",
       "\\item 218\n",
       "\\item 216\n",
       "\\item 220\n",
       "\\item 223\n",
       "\\item 227\n",
       "\\item 237\n",
       "\\item 241\n",
       "\\item 250\n",
       "\\item 270\n",
       "\\item 268\n",
       "\\item 282\n",
       "\\item 280\n",
       "\\item 280\n",
       "\\item 288\n",
       "\\item 297\n",
       "\\item 297\n",
       "\\item 297\n",
       "\\item 297\n",
       "\\item 307\n",
       "\\item 306\n",
       "\\item 306\n",
       "\\item 311\n",
       "\\item 310\n",
       "\\item 314\n",
       "\\item 313\n",
       "\\item 315\n",
       "\\item 314\n",
       "\\item 314\n",
       "\\item 316\n",
       "\\item 330\n",
       "\\item 330\n",
       "\\item 345\n",
       "\\item 359\n",
       "\\item 363\n",
       "\\item 366\n",
       "\\item 369\n",
       "\\item 370\n",
       "\\item 370\n",
       "\\item 375\n",
       "\\item 380\n",
       "\\item 385\n",
       "\\item 385\n",
       "\\item 395\n",
       "\\item 405\n",
       "\\item 405\n",
       "\\item 405\n",
       "\\item 405\n",
       "\\item 414\n",
       "\\item 419\n",
       "\\item 428\n",
       "\\item 438\n",
       "\\item 438\n",
       "\\item 448\n",
       "\\item 453\n",
       "\\item 468\n",
       "\\item 468\n",
       "\\item 473\n",
       "\\item 478\n",
       "\\item 482\n",
       "\\item 482\n",
       "\\item 487\n",
       "\\item 497\n",
       "\\item 497\n",
       "\\item 506\n",
       "\\item 516\n",
       "\\item 516\n",
       "\\item 516\n",
       "\\item 515\n",
       "\\item 515\n",
       "\\item 515\n",
       "\\end{enumerate*}\n"
      ],
      "text/markdown": [
       "1. 212\n",
       "2. 207\n",
       "3. 192\n",
       "4. 183\n",
       "5. 182\n",
       "6. 182\n",
       "7. 171\n",
       "8. 162\n",
       "9. 175\n",
       "10. 171\n",
       "11. 173\n",
       "12. 169\n",
       "13. 169\n",
       "14. 170\n",
       "15. 167\n",
       "16. 173\n",
       "17. 172\n",
       "18. 178\n",
       "19. 185\n",
       "20. 185\n",
       "21. 182\n",
       "22. 187\n",
       "23. 200\n",
       "24. 205\n",
       "25. 208\n",
       "26. 206\n",
       "27. 206\n",
       "28. 216\n",
       "29. 220\n",
       "30. 222\n",
       "31. 218\n",
       "32. 216\n",
       "33. 220\n",
       "34. 223\n",
       "35. 227\n",
       "36. 237\n",
       "37. 241\n",
       "38. 250\n",
       "39. 270\n",
       "40. 268\n",
       "41. 282\n",
       "42. 280\n",
       "43. 280\n",
       "44. 288\n",
       "45. 297\n",
       "46. 297\n",
       "47. 297\n",
       "48. 297\n",
       "49. 307\n",
       "50. 306\n",
       "51. 306\n",
       "52. 311\n",
       "53. 310\n",
       "54. 314\n",
       "55. 313\n",
       "56. 315\n",
       "57. 314\n",
       "58. 314\n",
       "59. 316\n",
       "60. 330\n",
       "61. 330\n",
       "62. 345\n",
       "63. 359\n",
       "64. 363\n",
       "65. 366\n",
       "66. 369\n",
       "67. 370\n",
       "68. 370\n",
       "69. 375\n",
       "70. 380\n",
       "71. 385\n",
       "72. 385\n",
       "73. 395\n",
       "74. 405\n",
       "75. 405\n",
       "76. 405\n",
       "77. 405\n",
       "78. 414\n",
       "79. 419\n",
       "80. 428\n",
       "81. 438\n",
       "82. 438\n",
       "83. 448\n",
       "84. 453\n",
       "85. 468\n",
       "86. 468\n",
       "87. 473\n",
       "88. 478\n",
       "89. 482\n",
       "90. 482\n",
       "91. 487\n",
       "92. 497\n",
       "93. 497\n",
       "94. 506\n",
       "95. 516\n",
       "96. 516\n",
       "97. 516\n",
       "98. 515\n",
       "99. 515\n",
       "100. 515\n",
       "\n",
       "\n"
      ],
      "text/plain": [
       "  [1] 212 207 192 183 182 182 171 162 175 171 173 169 169 170 167 173 172 178\n",
       " [19] 185 185 182 187 200 205 208 206 206 216 220 222 218 216 220 223 227 237\n",
       " [37] 241 250 270 268 282 280 280 288 297 297 297 297 307 306 306 311 310 314\n",
       " [55] 313 315 314 314 316 330 330 345 359 363 366 369 370 370 375 380 385 385\n",
       " [73] 395 405 405 405 405 414 419 428 438 438 448 453 468 468 473 478 482 482\n",
       " [91] 487 497 497 506 516 516 516 515 515 515"
      ]
     },
     "metadata": {},
     "output_type": "display_data"
    }
   ],
   "source": [
    "loss <- c()\n",
    "#Associated cost to False Positives and True negatives (as TP and FN are Zero cost)\n",
    "for(i in 1:100)\n",
    "{\n",
    "  y_hat_round <- as.integer(y_hat > (i/100)) # calculate threshold predictions\n",
    "\n",
    "  tm <-as.matrix(table(y_hat_round,d.valid$X1.1)) #confusion matrix\n",
    "\n",
    "  if(nrow(tm)>1) { c1 <- tm[2,1] } else { c1 <- 0 }\n",
    "  if(ncol(tm)>1) { c2 <- tm[1,2] } else { c2 <- 0 }\n",
    "  loss <- c(loss, c2*5 + c1)\n",
    "}\n",
    "loss#loss for 100 values(1-100)"
   ]
  },
  {
   "cell_type": "code",
   "execution_count": 254,
   "metadata": {
    "collapsed": false
   },
   "outputs": [
    {
     "data": {
      "image/png": "[encoded data removed]",
      "text/plain": [
       "Plot with title \"Loss vs Threshold\""
      ]
     },
     "metadata": {
      "image/png": {
       "height": 420,
       "width": 420
      }
     },
     "output_type": "display_data"
    }
   ],
   "source": [
    "plot(c(1:100)/100,loss,xlab = \"Threshold\",ylab = \"Loss\",main = \"Loss vs Threshold\")"
   ]
  },
  {
   "cell_type": "code",
   "execution_count": 255,
   "metadata": {
    "collapsed": false
   },
   "outputs": [
    {
     "data": {
      "text/html": [
       "10"
      ],
      "text/latex": [
       "10"
      ],
      "text/markdown": [
       "10"
      ],
      "text/plain": [
       "[1] 10"
      ]
     },
     "metadata": {},
     "output_type": "display_data"
    }
   ],
   "source": [
    "which.min(loss) # find the mininmuj loss"
   ]
  },
  {
   "cell_type": "code",
   "execution_count": 256,
   "metadata": {
    "collapsed": false
   },
   "outputs": [
    {
     "data": {
      "text/html": [
       "<style>\n",
       ".list-inline {list-style: none; margin:0; padding: 0}\n",
       ".list-inline>li {display: inline-block}\n",
       ".list-inline>li:not(:last-child)::after {content: \"\\00b7\"; padding: 0 .5ex}\n",
       "</style>\n",
       "<ol class=list-inline><li>199</li><li>183</li><li>173</li><li>165</li><li>167</li><li>154</li><li>154</li><li>158</li><li>154</li><li>149</li><li>151</li><li>150</li><li>151</li><li>156</li><li>162</li><li>162</li><li>163</li><li>162</li><li>158</li><li>167</li><li>167</li><li>165</li><li>163</li><li>162</li><li>171</li><li>179</li><li>189</li><li>194</li><li>199</li><li>197</li><li>202</li><li>197</li><li>200</li><li>205</li><li>202</li><li>206</li><li>210</li><li>213</li><li>218</li><li>223</li><li>228</li><li>227</li><li>226</li><li>230</li><li>227</li><li>229</li><li>242</li><li>246</li><li>249</li><li>249</li><li>252</li><li>267</li><li>269</li><li>269</li><li>273</li><li>276</li><li>284</li><li>294</li><li>303</li><li>307</li><li>311</li><li>316</li><li>319</li><li>319</li><li>324</li><li>329</li><li>332</li><li>339</li><li>338</li><li>357</li><li>355</li><li>359</li><li>364</li><li>371</li><li>376</li><li>375</li><li>384</li><li>389</li><li>394</li><li>408</li><li>408</li><li>412</li><li>422</li><li>422</li><li>422</li><li>422</li><li>441</li><li>451</li><li>456</li><li>456</li><li>461</li><li>466</li><li>466</li><li>471</li><li>476</li><li>476</li><li>476</li><li>480</li><li>480</li><li>480</li></ol>\n"
      ],
      "text/latex": [
       "\\begin{enumerate*}\n",
       "\\item 199\n",
       "\\item 183\n",
       "\\item 173\n",
       "\\item 165\n",
       "\\item 167\n",
       "\\item 154\n",
       "\\item 154\n",
       "\\item 158\n",
       "\\item 154\n",
       "\\item 149\n",
       "\\item 151\n",
       "\\item 150\n",
       "\\item 151\n",
       "\\item 156\n",
       "\\item 162\n",
       "\\item 162\n",
       "\\item 163\n",
       "\\item 162\n",
       "\\item 158\n",
       "\\item 167\n",
       "\\item 167\n",
       "\\item 165\n",
       "\\item 163\n",
       "\\item 162\n",
       "\\item 171\n",
       "\\item 179\n",
       "\\item 189\n",
       "\\item 194\n",
       "\\item 199\n",
       "\\item 197\n",
       "\\item 202\n",
       "\\item 197\n",
       "\\item 200\n",
       "\\item 205\n",
       "\\item 202\n",
       "\\item 206\n",
       "\\item 210\n",
       "\\item 213\n",
       "\\item 218\n",
       "\\item 223\n",
       "\\item 228\n",
       "\\item 227\n",
       "\\item 226\n",
       "\\item 230\n",
       "\\item 227\n",
       "\\item 229\n",
       "\\item 242\n",
       "\\item 246\n",
       "\\item 249\n",
       "\\item 249\n",
       "\\item 252\n",
       "\\item 267\n",
       "\\item 269\n",
       "\\item 269\n",
       "\\item 273\n",
       "\\item 276\n",
       "\\item 284\n",
       "\\item 294\n",
       "\\item 303\n",
       "\\item 307\n",
       "\\item 311\n",
       "\\item 316\n",
       "\\item 319\n",
       "\\item 319\n",
       "\\item 324\n",
       "\\item 329\n",
       "\\item 332\n",
       "\\item 339\n",
       "\\item 338\n",
       "\\item 357\n",
       "\\item 355\n",
       "\\item 359\n",
       "\\item 364\n",
       "\\item 371\n",
       "\\item 376\n",
       "\\item 375\n",
       "\\item 384\n",
       "\\item 389\n",
       "\\item 394\n",
       "\\item 408\n",
       "\\item 408\n",
       "\\item 412\n",
       "\\item 422\n",
       "\\item 422\n",
       "\\item 422\n",
       "\\item 422\n",
       "\\item 441\n",
       "\\item 451\n",
       "\\item 456\n",
       "\\item 456\n",
       "\\item 461\n",
       "\\item 466\n",
       "\\item 466\n",
       "\\item 471\n",
       "\\item 476\n",
       "\\item 476\n",
       "\\item 476\n",
       "\\item 480\n",
       "\\item 480\n",
       "\\item 480\n",
       "\\end{enumerate*}\n"
      ],
      "text/markdown": [
       "1. 199\n",
       "2. 183\n",
       "3. 173\n",
       "4. 165\n",
       "5. 167\n",
       "6. 154\n",
       "7. 154\n",
       "8. 158\n",
       "9. 154\n",
       "10. 149\n",
       "11. 151\n",
       "12. 150\n",
       "13. 151\n",
       "14. 156\n",
       "15. 162\n",
       "16. 162\n",
       "17. 163\n",
       "18. 162\n",
       "19. 158\n",
       "20. 167\n",
       "21. 167\n",
       "22. 165\n",
       "23. 163\n",
       "24. 162\n",
       "25. 171\n",
       "26. 179\n",
       "27. 189\n",
       "28. 194\n",
       "29. 199\n",
       "30. 197\n",
       "31. 202\n",
       "32. 197\n",
       "33. 200\n",
       "34. 205\n",
       "35. 202\n",
       "36. 206\n",
       "37. 210\n",
       "38. 213\n",
       "39. 218\n",
       "40. 223\n",
       "41. 228\n",
       "42. 227\n",
       "43. 226\n",
       "44. 230\n",
       "45. 227\n",
       "46. 229\n",
       "47. 242\n",
       "48. 246\n",
       "49. 249\n",
       "50. 249\n",
       "51. 252\n",
       "52. 267\n",
       "53. 269\n",
       "54. 269\n",
       "55. 273\n",
       "56. 276\n",
       "57. 284\n",
       "58. 294\n",
       "59. 303\n",
       "60. 307\n",
       "61. 311\n",
       "62. 316\n",
       "63. 319\n",
       "64. 319\n",
       "65. 324\n",
       "66. 329\n",
       "67. 332\n",
       "68. 339\n",
       "69. 338\n",
       "70. 357\n",
       "71. 355\n",
       "72. 359\n",
       "73. 364\n",
       "74. 371\n",
       "75. 376\n",
       "76. 375\n",
       "77. 384\n",
       "78. 389\n",
       "79. 394\n",
       "80. 408\n",
       "81. 408\n",
       "82. 412\n",
       "83. 422\n",
       "84. 422\n",
       "85. 422\n",
       "86. 422\n",
       "87. 441\n",
       "88. 451\n",
       "89. 456\n",
       "90. 456\n",
       "91. 461\n",
       "92. 466\n",
       "93. 466\n",
       "94. 471\n",
       "95. 476\n",
       "96. 476\n",
       "97. 476\n",
       "98. 480\n",
       "99. 480\n",
       "100. 480\n",
       "\n",
       "\n"
      ],
      "text/plain": [
       "  [1] 199 183 173 165 167 154 154 158 154 149 151 150 151 156 162 162 163 162\n",
       " [19] 158 167 167 165 163 162 171 179 189 194 199 197 202 197 200 205 202 206\n",
       " [37] 210 213 218 223 228 227 226 230 227 229 242 246 249 249 252 267 269 269\n",
       " [55] 273 276 284 294 303 307 311 316 319 319 324 329 332 339 338 357 355 359\n",
       " [73] 364 371 376 375 384 389 394 408 408 412 422 422 422 422 441 451 456 456\n",
       " [91] 461 466 466 471 476 476 476 480 480 480"
      ]
     },
     "metadata": {},
     "output_type": "display_data"
    }
   ],
   "source": [
    "loss"
   ]
  },
  {
   "cell_type": "code",
   "execution_count": 259,
   "metadata": {
    "collapsed": false
   },
   "outputs": [
    {
     "name": "stderr",
     "output_type": "stream",
     "text": [
      "Setting levels: control = 0, case = 1\n",
      "\n",
      "Setting direction: controls < cases\n",
      "\n"
     ]
    },
    {
     "data": {
      "text/html": [
       "0.57"
      ],
      "text/latex": [
       "0.57"
      ],
      "text/markdown": [
       "0.57"
      ],
      "text/plain": [
       "[1] 0.57"
      ]
     },
     "metadata": {},
     "output_type": "display_data"
    },
    {
     "data": {
      "text/html": [
       "0.670036764705882"
      ],
      "text/latex": [
       "0.670036764705882"
      ],
      "text/markdown": [
       "0.670036764705882"
      ],
      "text/plain": [
       "Area under the curve: 0.67"
      ]
     },
     "metadata": {},
     "output_type": "display_data"
    }
   ],
   "source": [
    "# The threshold probability corresponding to minimum expected loss is 0.14.  \n",
    "# The range from 0.07-0.14 is all pretty good.\n",
    "\n",
    "\n",
    "#Here's the accuracy and area-under-curve for the 0.14 threshold:\n",
    "\n",
    "y_hat_round <- as.integer(y_hat > (which.min(loss)/100)) # find 0/1 predictions\n",
    "t <- table(y_hat_round,d.valid$X1.1) # put in table form \n",
    "acc <- (t[1,1] + t[2,2]) / sum(t) # calculate accuracy\n",
    "r<-roc(d.valid$X1.1,y_hat_round) # calculate ROC curve\n",
    "auc <- r$auc # get AUC\n",
    "\n",
    "acc\n",
    "auc\n",
    "\n",
    "## [1] 0.57\n",
    "## Area under the curve: 0.67"
   ]
  },
  {
   "cell_type": "code",
   "execution_count": null,
   "metadata": {
    "collapsed": true
   },
   "outputs": [],
   "source": [
    "########End of Week 7 Advanced Regression assignment###########"
   ]
  }
 ],
 "metadata": {
  "anaconda-cloud": {},
  "celltoolbar": "Raw Cell Format",
  "kernelspec": {
   "display_name": "R",
   "language": "R",
   "name": "ir"
  },
  "language_info": {
   "codemirror_mode": "r",
   "file_extension": ".r",
   "mimetype": "text/x-r-source",
   "name": "R",
   "pygments_lexer": "r",
   "version": "4.1.1"
  }
 },
 "nbformat": 4,
 "nbformat_minor": 1
}
